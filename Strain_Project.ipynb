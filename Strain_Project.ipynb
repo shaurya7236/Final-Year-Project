{
 "cells": [
  {
   "cell_type": "markdown",
   "id": "dd609434",
   "metadata": {},
   "source": [
    "# Import important libraries"
   ]
  },
  {
   "cell_type": "code",
   "execution_count": 1,
   "id": "78eaacd7",
   "metadata": {},
   "outputs": [],
   "source": [
    "import numpy as np\n",
    "import pandas as pd\n",
    "import matplotlib.pyplot as plt\n",
    "import seaborn as sns\n",
    "sns.set()"
   ]
  },
  {
   "cell_type": "markdown",
   "id": "9c82ec05",
   "metadata": {},
   "source": [
    "# Read data (strain_rate_data)"
   ]
  },
  {
   "cell_type": "code",
   "execution_count": 2,
   "id": "7de16bd1",
   "metadata": {},
   "outputs": [],
   "source": [
    "data = pd.read_csv('Strain_project_data - Sheet1.csv', index_col=False)"
   ]
  },
  {
   "cell_type": "markdown",
   "id": "560aba69",
   "metadata": {},
   "source": [
    "# EDA (Exploratory Data Analysis)"
   ]
  },
  {
   "cell_type": "code",
   "execution_count": 3,
   "id": "b36e3458",
   "metadata": {},
   "outputs": [
    {
     "data": {
      "text/plain": [
       "(260, 20)"
      ]
     },
     "execution_count": 3,
     "metadata": {},
     "output_type": "execute_result"
    }
   ],
   "source": [
    "data.shape"
   ]
  },
  {
   "cell_type": "code",
   "execution_count": 4,
   "id": "131cd276",
   "metadata": {},
   "outputs": [
    {
     "data": {
      "text/plain": [
       "Index(['Data Set No', 'Metallic Materials', 'Atomic/Molecular Weight(u)',\n",
       "       'Density(g/cc)', 'Temperature (K) at which test was performed',\n",
       "       'Melting Point(K)', 'Strain rate', 'Heat capacity(KJ/kg.k)', 'BCC',\n",
       "       'FCC', 'HCP', 'a', 'b', 'c', 'alpha', 'beta', 'gamma', 'Grain size(um)',\n",
       "       'Yield point(stress)', 'Elastic modulus'],\n",
       "      dtype='object')"
      ]
     },
     "execution_count": 4,
     "metadata": {},
     "output_type": "execute_result"
    }
   ],
   "source": [
    "data.columns"
   ]
  },
  {
   "cell_type": "code",
   "execution_count": 5,
   "id": "f95342da",
   "metadata": {},
   "outputs": [
    {
     "name": "stdout",
     "output_type": "stream",
     "text": [
      "<class 'pandas.core.frame.DataFrame'>\n",
      "RangeIndex: 260 entries, 0 to 259\n",
      "Data columns (total 20 columns):\n",
      " #   Column                                       Non-Null Count  Dtype  \n",
      "---  ------                                       --------------  -----  \n",
      " 0   Data Set No                                  260 non-null    int64  \n",
      " 1   Metallic Materials                           260 non-null    object \n",
      " 2   Atomic/Molecular Weight(u)                   260 non-null    float64\n",
      " 3   Density(g/cc)                                260 non-null    float64\n",
      " 4   Temperature (K) at which test was performed  260 non-null    int64  \n",
      " 5   Melting Point(K)                             260 non-null    float64\n",
      " 6   Strain rate                                  260 non-null    float64\n",
      " 7   Heat capacity(KJ/kg.k)                       260 non-null    float64\n",
      " 8   BCC                                          260 non-null    int64  \n",
      " 9   FCC                                          260 non-null    int64  \n",
      " 10  HCP                                          260 non-null    int64  \n",
      " 11  a                                            260 non-null    float64\n",
      " 12  b                                            260 non-null    float64\n",
      " 13  c                                            260 non-null    float64\n",
      " 14  alpha                                        260 non-null    int64  \n",
      " 15  beta                                         260 non-null    int64  \n",
      " 16  gamma                                        260 non-null    int64  \n",
      " 17  Grain size(um)                               260 non-null    float64\n",
      " 18  Yield point(stress)                          239 non-null    float64\n",
      " 19  Elastic modulus                              239 non-null    float64\n",
      "dtypes: float64(11), int64(8), object(1)\n",
      "memory usage: 40.8+ KB\n"
     ]
    }
   ],
   "source": [
    "data.info()"
   ]
  },
  {
   "cell_type": "code",
   "execution_count": 6,
   "id": "65ab8678",
   "metadata": {},
   "outputs": [
    {
     "data": {
      "text/plain": [
       "Data Set No                                     0\n",
       "Metallic Materials                              0\n",
       "Atomic/Molecular Weight(u)                      0\n",
       "Density(g/cc)                                   0\n",
       "Temperature (K) at which test was performed     0\n",
       "Melting Point(K)                                0\n",
       "Strain rate                                     0\n",
       "Heat capacity(KJ/kg.k)                          0\n",
       "BCC                                             0\n",
       "FCC                                             0\n",
       "HCP                                             0\n",
       "a                                               0\n",
       "b                                               0\n",
       "c                                               0\n",
       "alpha                                           0\n",
       "beta                                            0\n",
       "gamma                                           0\n",
       "Grain size(um)                                  0\n",
       "Yield point(stress)                            21\n",
       "Elastic modulus                                21\n",
       "dtype: int64"
      ]
     },
     "execution_count": 6,
     "metadata": {},
     "output_type": "execute_result"
    }
   ],
   "source": [
    "data.isna().sum()"
   ]
  },
  {
   "cell_type": "code",
   "execution_count": 7,
   "id": "f76151a9",
   "metadata": {},
   "outputs": [
    {
     "data": {
      "text/html": [
       "<div>\n",
       "<style scoped>\n",
       "    .dataframe tbody tr th:only-of-type {\n",
       "        vertical-align: middle;\n",
       "    }\n",
       "\n",
       "    .dataframe tbody tr th {\n",
       "        vertical-align: top;\n",
       "    }\n",
       "\n",
       "    .dataframe thead th {\n",
       "        text-align: right;\n",
       "    }\n",
       "</style>\n",
       "<table border=\"1\" class=\"dataframe\">\n",
       "  <thead>\n",
       "    <tr style=\"text-align: right;\">\n",
       "      <th></th>\n",
       "      <th>Data Set No</th>\n",
       "      <th>Metallic Materials</th>\n",
       "      <th>Atomic/Molecular Weight(u)</th>\n",
       "      <th>Density(g/cc)</th>\n",
       "      <th>Temperature (K) at which test was performed</th>\n",
       "      <th>Melting Point(K)</th>\n",
       "      <th>Strain rate</th>\n",
       "      <th>Heat capacity(KJ/kg.k)</th>\n",
       "      <th>BCC</th>\n",
       "      <th>FCC</th>\n",
       "      <th>HCP</th>\n",
       "      <th>a</th>\n",
       "      <th>b</th>\n",
       "      <th>c</th>\n",
       "      <th>alpha</th>\n",
       "      <th>beta</th>\n",
       "      <th>gamma</th>\n",
       "      <th>Grain size(um)</th>\n",
       "      <th>Yield point(stress)</th>\n",
       "      <th>Elastic modulus</th>\n",
       "    </tr>\n",
       "  </thead>\n",
       "  <tbody>\n",
       "    <tr>\n",
       "      <th>0</th>\n",
       "      <td>1</td>\n",
       "      <td>Tantalum</td>\n",
       "      <td>180.947</td>\n",
       "      <td>16.4</td>\n",
       "      <td>469</td>\n",
       "      <td>3290.0</td>\n",
       "      <td>0.001</td>\n",
       "      <td>0.14</td>\n",
       "      <td>1</td>\n",
       "      <td>0</td>\n",
       "      <td>0</td>\n",
       "      <td>3.301</td>\n",
       "      <td>3.301</td>\n",
       "      <td>3.301</td>\n",
       "      <td>90</td>\n",
       "      <td>90</td>\n",
       "      <td>90</td>\n",
       "      <td>650.0</td>\n",
       "      <td>884.783</td>\n",
       "      <td>217.300</td>\n",
       "    </tr>\n",
       "    <tr>\n",
       "      <th>1</th>\n",
       "      <td>2</td>\n",
       "      <td>Tantalum</td>\n",
       "      <td>180.947</td>\n",
       "      <td>16.4</td>\n",
       "      <td>298</td>\n",
       "      <td>3290.0</td>\n",
       "      <td>1300.000</td>\n",
       "      <td>0.14</td>\n",
       "      <td>1</td>\n",
       "      <td>0</td>\n",
       "      <td>0</td>\n",
       "      <td>3.301</td>\n",
       "      <td>3.301</td>\n",
       "      <td>3.301</td>\n",
       "      <td>90</td>\n",
       "      <td>90</td>\n",
       "      <td>90</td>\n",
       "      <td>650.0</td>\n",
       "      <td>565.217</td>\n",
       "      <td>543.250</td>\n",
       "    </tr>\n",
       "    <tr>\n",
       "      <th>2</th>\n",
       "      <td>4</td>\n",
       "      <td>Tantalum</td>\n",
       "      <td>180.947</td>\n",
       "      <td>16.4</td>\n",
       "      <td>473</td>\n",
       "      <td>3290.0</td>\n",
       "      <td>2800.000</td>\n",
       "      <td>0.14</td>\n",
       "      <td>1</td>\n",
       "      <td>0</td>\n",
       "      <td>0</td>\n",
       "      <td>3.301</td>\n",
       "      <td>3.301</td>\n",
       "      <td>3.301</td>\n",
       "      <td>90</td>\n",
       "      <td>90</td>\n",
       "      <td>90</td>\n",
       "      <td>650.0</td>\n",
       "      <td>386.957</td>\n",
       "      <td>2499.649</td>\n",
       "    </tr>\n",
       "    <tr>\n",
       "      <th>3</th>\n",
       "      <td>5</td>\n",
       "      <td>Tantalum</td>\n",
       "      <td>180.947</td>\n",
       "      <td>16.4</td>\n",
       "      <td>298</td>\n",
       "      <td>3290.0</td>\n",
       "      <td>0.100</td>\n",
       "      <td>0.14</td>\n",
       "      <td>1</td>\n",
       "      <td>0</td>\n",
       "      <td>0</td>\n",
       "      <td>3.301</td>\n",
       "      <td>3.301</td>\n",
       "      <td>3.301</td>\n",
       "      <td>90</td>\n",
       "      <td>90</td>\n",
       "      <td>90</td>\n",
       "      <td>650.0</td>\n",
       "      <td>300.008</td>\n",
       "      <td>978.244</td>\n",
       "    </tr>\n",
       "    <tr>\n",
       "      <th>4</th>\n",
       "      <td>6</td>\n",
       "      <td>Tantalum</td>\n",
       "      <td>180.947</td>\n",
       "      <td>16.4</td>\n",
       "      <td>673</td>\n",
       "      <td>3290.0</td>\n",
       "      <td>2600.000</td>\n",
       "      <td>0.14</td>\n",
       "      <td>1</td>\n",
       "      <td>0</td>\n",
       "      <td>0</td>\n",
       "      <td>3.301</td>\n",
       "      <td>3.301</td>\n",
       "      <td>3.301</td>\n",
       "      <td>90</td>\n",
       "      <td>90</td>\n",
       "      <td>90</td>\n",
       "      <td>650.0</td>\n",
       "      <td>265.217</td>\n",
       "      <td>3041.149</td>\n",
       "    </tr>\n",
       "  </tbody>\n",
       "</table>\n",
       "</div>"
      ],
      "text/plain": [
       "   Data Set No Metallic Materials  Atomic/Molecular Weight(u)  Density(g/cc)  \\\n",
       "0            1           Tantalum                     180.947           16.4   \n",
       "1            2           Tantalum                     180.947           16.4   \n",
       "2            4           Tantalum                     180.947           16.4   \n",
       "3            5           Tantalum                     180.947           16.4   \n",
       "4            6           Tantalum                     180.947           16.4   \n",
       "\n",
       "   Temperature (K) at which test was performed  Melting Point(K)  Strain rate  \\\n",
       "0                                          469            3290.0        0.001   \n",
       "1                                          298            3290.0     1300.000   \n",
       "2                                          473            3290.0     2800.000   \n",
       "3                                          298            3290.0        0.100   \n",
       "4                                          673            3290.0     2600.000   \n",
       "\n",
       "   Heat capacity(KJ/kg.k)  BCC  FCC  HCP      a      b      c  alpha  beta  \\\n",
       "0                    0.14    1    0    0  3.301  3.301  3.301     90    90   \n",
       "1                    0.14    1    0    0  3.301  3.301  3.301     90    90   \n",
       "2                    0.14    1    0    0  3.301  3.301  3.301     90    90   \n",
       "3                    0.14    1    0    0  3.301  3.301  3.301     90    90   \n",
       "4                    0.14    1    0    0  3.301  3.301  3.301     90    90   \n",
       "\n",
       "   gamma  Grain size(um)  Yield point(stress)  Elastic modulus  \n",
       "0     90           650.0              884.783          217.300  \n",
       "1     90           650.0              565.217          543.250  \n",
       "2     90           650.0              386.957         2499.649  \n",
       "3     90           650.0              300.008          978.244  \n",
       "4     90           650.0              265.217         3041.149  "
      ]
     },
     "execution_count": 7,
     "metadata": {},
     "output_type": "execute_result"
    }
   ],
   "source": [
    "data.head()"
   ]
  },
  {
   "cell_type": "code",
   "execution_count": 8,
   "id": "fff9e9e0",
   "metadata": {},
   "outputs": [
    {
     "data": {
      "text/html": [
       "<div>\n",
       "<style scoped>\n",
       "    .dataframe tbody tr th:only-of-type {\n",
       "        vertical-align: middle;\n",
       "    }\n",
       "\n",
       "    .dataframe tbody tr th {\n",
       "        vertical-align: top;\n",
       "    }\n",
       "\n",
       "    .dataframe thead th {\n",
       "        text-align: right;\n",
       "    }\n",
       "</style>\n",
       "<table border=\"1\" class=\"dataframe\">\n",
       "  <thead>\n",
       "    <tr style=\"text-align: right;\">\n",
       "      <th></th>\n",
       "      <th>Data Set No</th>\n",
       "      <th>Metallic Materials</th>\n",
       "      <th>Atomic/Molecular Weight(u)</th>\n",
       "      <th>Density(g/cc)</th>\n",
       "      <th>Temperature (K) at which test was performed</th>\n",
       "      <th>Melting Point(K)</th>\n",
       "      <th>Strain rate</th>\n",
       "      <th>Heat capacity(KJ/kg.k)</th>\n",
       "      <th>BCC</th>\n",
       "      <th>FCC</th>\n",
       "      <th>HCP</th>\n",
       "      <th>a</th>\n",
       "      <th>b</th>\n",
       "      <th>c</th>\n",
       "      <th>alpha</th>\n",
       "      <th>beta</th>\n",
       "      <th>gamma</th>\n",
       "      <th>Grain size(um)</th>\n",
       "      <th>Yield point(stress)</th>\n",
       "      <th>Elastic modulus</th>\n",
       "    </tr>\n",
       "  </thead>\n",
       "  <tbody>\n",
       "    <tr>\n",
       "      <th>255</th>\n",
       "      <td>255</td>\n",
       "      <td>Titanium</td>\n",
       "      <td>47.867</td>\n",
       "      <td>4.5</td>\n",
       "      <td>723</td>\n",
       "      <td>1941.0</td>\n",
       "      <td>0.5</td>\n",
       "      <td>0.523</td>\n",
       "      <td>0</td>\n",
       "      <td>0</td>\n",
       "      <td>1</td>\n",
       "      <td>2.95</td>\n",
       "      <td>2.95</td>\n",
       "      <td>4.685</td>\n",
       "      <td>90</td>\n",
       "      <td>90</td>\n",
       "      <td>120</td>\n",
       "      <td>450.0</td>\n",
       "      <td>NaN</td>\n",
       "      <td>NaN</td>\n",
       "    </tr>\n",
       "    <tr>\n",
       "      <th>256</th>\n",
       "      <td>256</td>\n",
       "      <td>Titanium</td>\n",
       "      <td>47.867</td>\n",
       "      <td>4.5</td>\n",
       "      <td>723</td>\n",
       "      <td>1941.0</td>\n",
       "      <td>0.5</td>\n",
       "      <td>0.523</td>\n",
       "      <td>0</td>\n",
       "      <td>0</td>\n",
       "      <td>1</td>\n",
       "      <td>2.95</td>\n",
       "      <td>2.95</td>\n",
       "      <td>4.685</td>\n",
       "      <td>90</td>\n",
       "      <td>90</td>\n",
       "      <td>120</td>\n",
       "      <td>50.0</td>\n",
       "      <td>NaN</td>\n",
       "      <td>NaN</td>\n",
       "    </tr>\n",
       "    <tr>\n",
       "      <th>257</th>\n",
       "      <td>257</td>\n",
       "      <td>Titanium</td>\n",
       "      <td>47.867</td>\n",
       "      <td>4.5</td>\n",
       "      <td>723</td>\n",
       "      <td>1941.0</td>\n",
       "      <td>0.5</td>\n",
       "      <td>0.523</td>\n",
       "      <td>0</td>\n",
       "      <td>0</td>\n",
       "      <td>1</td>\n",
       "      <td>2.95</td>\n",
       "      <td>2.95</td>\n",
       "      <td>4.685</td>\n",
       "      <td>90</td>\n",
       "      <td>90</td>\n",
       "      <td>120</td>\n",
       "      <td>150.0</td>\n",
       "      <td>NaN</td>\n",
       "      <td>NaN</td>\n",
       "    </tr>\n",
       "    <tr>\n",
       "      <th>258</th>\n",
       "      <td>258</td>\n",
       "      <td>Titanium</td>\n",
       "      <td>47.867</td>\n",
       "      <td>4.5</td>\n",
       "      <td>773</td>\n",
       "      <td>1941.0</td>\n",
       "      <td>0.5</td>\n",
       "      <td>0.523</td>\n",
       "      <td>0</td>\n",
       "      <td>0</td>\n",
       "      <td>1</td>\n",
       "      <td>2.95</td>\n",
       "      <td>2.95</td>\n",
       "      <td>4.685</td>\n",
       "      <td>90</td>\n",
       "      <td>90</td>\n",
       "      <td>120</td>\n",
       "      <td>450.0</td>\n",
       "      <td>NaN</td>\n",
       "      <td>NaN</td>\n",
       "    </tr>\n",
       "    <tr>\n",
       "      <th>259</th>\n",
       "      <td>259</td>\n",
       "      <td>Titanium</td>\n",
       "      <td>47.867</td>\n",
       "      <td>4.5</td>\n",
       "      <td>773</td>\n",
       "      <td>1941.0</td>\n",
       "      <td>0.5</td>\n",
       "      <td>0.523</td>\n",
       "      <td>0</td>\n",
       "      <td>0</td>\n",
       "      <td>1</td>\n",
       "      <td>2.95</td>\n",
       "      <td>2.95</td>\n",
       "      <td>4.685</td>\n",
       "      <td>90</td>\n",
       "      <td>90</td>\n",
       "      <td>120</td>\n",
       "      <td>50.0</td>\n",
       "      <td>NaN</td>\n",
       "      <td>NaN</td>\n",
       "    </tr>\n",
       "  </tbody>\n",
       "</table>\n",
       "</div>"
      ],
      "text/plain": [
       "     Data Set No Metallic Materials  Atomic/Molecular Weight(u)  \\\n",
       "255          255           Titanium                      47.867   \n",
       "256          256           Titanium                      47.867   \n",
       "257          257           Titanium                      47.867   \n",
       "258          258           Titanium                      47.867   \n",
       "259          259           Titanium                      47.867   \n",
       "\n",
       "     Density(g/cc)  Temperature (K) at which test was performed  \\\n",
       "255            4.5                                          723   \n",
       "256            4.5                                          723   \n",
       "257            4.5                                          723   \n",
       "258            4.5                                          773   \n",
       "259            4.5                                          773   \n",
       "\n",
       "     Melting Point(K)  Strain rate  Heat capacity(KJ/kg.k)  BCC  FCC  HCP  \\\n",
       "255            1941.0          0.5                   0.523    0    0    1   \n",
       "256            1941.0          0.5                   0.523    0    0    1   \n",
       "257            1941.0          0.5                   0.523    0    0    1   \n",
       "258            1941.0          0.5                   0.523    0    0    1   \n",
       "259            1941.0          0.5                   0.523    0    0    1   \n",
       "\n",
       "        a     b      c  alpha  beta  gamma  Grain size(um)  \\\n",
       "255  2.95  2.95  4.685     90    90    120           450.0   \n",
       "256  2.95  2.95  4.685     90    90    120            50.0   \n",
       "257  2.95  2.95  4.685     90    90    120           150.0   \n",
       "258  2.95  2.95  4.685     90    90    120           450.0   \n",
       "259  2.95  2.95  4.685     90    90    120            50.0   \n",
       "\n",
       "     Yield point(stress)  Elastic modulus  \n",
       "255                  NaN              NaN  \n",
       "256                  NaN              NaN  \n",
       "257                  NaN              NaN  \n",
       "258                  NaN              NaN  \n",
       "259                  NaN              NaN  "
      ]
     },
     "execution_count": 8,
     "metadata": {},
     "output_type": "execute_result"
    }
   ],
   "source": [
    "data.tail(5)"
   ]
  },
  {
   "cell_type": "markdown",
   "id": "b9b56410",
   "metadata": {},
   "source": [
    "### As we can see that there is no need of the first 2 columns (Data Set No and Metallic Materials), hence we remove it "
   ]
  },
  {
   "cell_type": "code",
   "execution_count": 9,
   "id": "3f3a22e3",
   "metadata": {},
   "outputs": [],
   "source": [
    "data = data.iloc[:, 2:]"
   ]
  },
  {
   "cell_type": "code",
   "execution_count": 10,
   "id": "648f6113",
   "metadata": {},
   "outputs": [
    {
     "data": {
      "text/plain": [
       "(260, 18)"
      ]
     },
     "execution_count": 10,
     "metadata": {},
     "output_type": "execute_result"
    }
   ],
   "source": [
    "data.shape"
   ]
  },
  {
   "cell_type": "code",
   "execution_count": 11,
   "id": "ff8b8d5d",
   "metadata": {},
   "outputs": [
    {
     "data": {
      "text/html": [
       "<div>\n",
       "<style scoped>\n",
       "    .dataframe tbody tr th:only-of-type {\n",
       "        vertical-align: middle;\n",
       "    }\n",
       "\n",
       "    .dataframe tbody tr th {\n",
       "        vertical-align: top;\n",
       "    }\n",
       "\n",
       "    .dataframe thead th {\n",
       "        text-align: right;\n",
       "    }\n",
       "</style>\n",
       "<table border=\"1\" class=\"dataframe\">\n",
       "  <thead>\n",
       "    <tr style=\"text-align: right;\">\n",
       "      <th></th>\n",
       "      <th>Atomic/Molecular Weight(u)</th>\n",
       "      <th>Density(g/cc)</th>\n",
       "      <th>Temperature (K) at which test was performed</th>\n",
       "      <th>Melting Point(K)</th>\n",
       "      <th>Strain rate</th>\n",
       "      <th>Heat capacity(KJ/kg.k)</th>\n",
       "      <th>BCC</th>\n",
       "      <th>FCC</th>\n",
       "      <th>HCP</th>\n",
       "      <th>a</th>\n",
       "      <th>b</th>\n",
       "      <th>c</th>\n",
       "      <th>alpha</th>\n",
       "      <th>beta</th>\n",
       "      <th>gamma</th>\n",
       "      <th>Grain size(um)</th>\n",
       "      <th>Yield point(stress)</th>\n",
       "      <th>Elastic modulus</th>\n",
       "    </tr>\n",
       "  </thead>\n",
       "  <tbody>\n",
       "    <tr>\n",
       "      <th>0</th>\n",
       "      <td>180.947</td>\n",
       "      <td>16.4</td>\n",
       "      <td>469</td>\n",
       "      <td>3290.0</td>\n",
       "      <td>0.001</td>\n",
       "      <td>0.14</td>\n",
       "      <td>1</td>\n",
       "      <td>0</td>\n",
       "      <td>0</td>\n",
       "      <td>3.301</td>\n",
       "      <td>3.301</td>\n",
       "      <td>3.301</td>\n",
       "      <td>90</td>\n",
       "      <td>90</td>\n",
       "      <td>90</td>\n",
       "      <td>650.0</td>\n",
       "      <td>884.783</td>\n",
       "      <td>217.300</td>\n",
       "    </tr>\n",
       "    <tr>\n",
       "      <th>1</th>\n",
       "      <td>180.947</td>\n",
       "      <td>16.4</td>\n",
       "      <td>298</td>\n",
       "      <td>3290.0</td>\n",
       "      <td>1300.000</td>\n",
       "      <td>0.14</td>\n",
       "      <td>1</td>\n",
       "      <td>0</td>\n",
       "      <td>0</td>\n",
       "      <td>3.301</td>\n",
       "      <td>3.301</td>\n",
       "      <td>3.301</td>\n",
       "      <td>90</td>\n",
       "      <td>90</td>\n",
       "      <td>90</td>\n",
       "      <td>650.0</td>\n",
       "      <td>565.217</td>\n",
       "      <td>543.250</td>\n",
       "    </tr>\n",
       "    <tr>\n",
       "      <th>2</th>\n",
       "      <td>180.947</td>\n",
       "      <td>16.4</td>\n",
       "      <td>473</td>\n",
       "      <td>3290.0</td>\n",
       "      <td>2800.000</td>\n",
       "      <td>0.14</td>\n",
       "      <td>1</td>\n",
       "      <td>0</td>\n",
       "      <td>0</td>\n",
       "      <td>3.301</td>\n",
       "      <td>3.301</td>\n",
       "      <td>3.301</td>\n",
       "      <td>90</td>\n",
       "      <td>90</td>\n",
       "      <td>90</td>\n",
       "      <td>650.0</td>\n",
       "      <td>386.957</td>\n",
       "      <td>2499.649</td>\n",
       "    </tr>\n",
       "    <tr>\n",
       "      <th>3</th>\n",
       "      <td>180.947</td>\n",
       "      <td>16.4</td>\n",
       "      <td>298</td>\n",
       "      <td>3290.0</td>\n",
       "      <td>0.100</td>\n",
       "      <td>0.14</td>\n",
       "      <td>1</td>\n",
       "      <td>0</td>\n",
       "      <td>0</td>\n",
       "      <td>3.301</td>\n",
       "      <td>3.301</td>\n",
       "      <td>3.301</td>\n",
       "      <td>90</td>\n",
       "      <td>90</td>\n",
       "      <td>90</td>\n",
       "      <td>650.0</td>\n",
       "      <td>300.008</td>\n",
       "      <td>978.244</td>\n",
       "    </tr>\n",
       "    <tr>\n",
       "      <th>4</th>\n",
       "      <td>180.947</td>\n",
       "      <td>16.4</td>\n",
       "      <td>673</td>\n",
       "      <td>3290.0</td>\n",
       "      <td>2600.000</td>\n",
       "      <td>0.14</td>\n",
       "      <td>1</td>\n",
       "      <td>0</td>\n",
       "      <td>0</td>\n",
       "      <td>3.301</td>\n",
       "      <td>3.301</td>\n",
       "      <td>3.301</td>\n",
       "      <td>90</td>\n",
       "      <td>90</td>\n",
       "      <td>90</td>\n",
       "      <td>650.0</td>\n",
       "      <td>265.217</td>\n",
       "      <td>3041.149</td>\n",
       "    </tr>\n",
       "  </tbody>\n",
       "</table>\n",
       "</div>"
      ],
      "text/plain": [
       "   Atomic/Molecular Weight(u)  Density(g/cc)  \\\n",
       "0                     180.947           16.4   \n",
       "1                     180.947           16.4   \n",
       "2                     180.947           16.4   \n",
       "3                     180.947           16.4   \n",
       "4                     180.947           16.4   \n",
       "\n",
       "   Temperature (K) at which test was performed  Melting Point(K)  Strain rate  \\\n",
       "0                                          469            3290.0        0.001   \n",
       "1                                          298            3290.0     1300.000   \n",
       "2                                          473            3290.0     2800.000   \n",
       "3                                          298            3290.0        0.100   \n",
       "4                                          673            3290.0     2600.000   \n",
       "\n",
       "   Heat capacity(KJ/kg.k)  BCC  FCC  HCP      a      b      c  alpha  beta  \\\n",
       "0                    0.14    1    0    0  3.301  3.301  3.301     90    90   \n",
       "1                    0.14    1    0    0  3.301  3.301  3.301     90    90   \n",
       "2                    0.14    1    0    0  3.301  3.301  3.301     90    90   \n",
       "3                    0.14    1    0    0  3.301  3.301  3.301     90    90   \n",
       "4                    0.14    1    0    0  3.301  3.301  3.301     90    90   \n",
       "\n",
       "   gamma  Grain size(um)  Yield point(stress)  Elastic modulus  \n",
       "0     90           650.0              884.783          217.300  \n",
       "1     90           650.0              565.217          543.250  \n",
       "2     90           650.0              386.957         2499.649  \n",
       "3     90           650.0              300.008          978.244  \n",
       "4     90           650.0              265.217         3041.149  "
      ]
     },
     "execution_count": 11,
     "metadata": {},
     "output_type": "execute_result"
    }
   ],
   "source": [
    "data.head()"
   ]
  },
  {
   "cell_type": "code",
   "execution_count": 12,
   "id": "baa79e65",
   "metadata": {},
   "outputs": [
    {
     "data": {
      "text/html": [
       "<div>\n",
       "<style scoped>\n",
       "    .dataframe tbody tr th:only-of-type {\n",
       "        vertical-align: middle;\n",
       "    }\n",
       "\n",
       "    .dataframe tbody tr th {\n",
       "        vertical-align: top;\n",
       "    }\n",
       "\n",
       "    .dataframe thead th {\n",
       "        text-align: right;\n",
       "    }\n",
       "</style>\n",
       "<table border=\"1\" class=\"dataframe\">\n",
       "  <thead>\n",
       "    <tr style=\"text-align: right;\">\n",
       "      <th></th>\n",
       "      <th>Atomic/Molecular Weight(u)</th>\n",
       "      <th>Density(g/cc)</th>\n",
       "      <th>Temperature (K) at which test was performed</th>\n",
       "      <th>Melting Point(K)</th>\n",
       "      <th>Strain rate</th>\n",
       "      <th>Heat capacity(KJ/kg.k)</th>\n",
       "      <th>BCC</th>\n",
       "      <th>FCC</th>\n",
       "      <th>HCP</th>\n",
       "      <th>a</th>\n",
       "      <th>b</th>\n",
       "      <th>c</th>\n",
       "      <th>alpha</th>\n",
       "      <th>beta</th>\n",
       "      <th>gamma</th>\n",
       "      <th>Grain size(um)</th>\n",
       "      <th>Yield point(stress)</th>\n",
       "      <th>Elastic modulus</th>\n",
       "    </tr>\n",
       "  </thead>\n",
       "  <tbody>\n",
       "    <tr>\n",
       "      <th>255</th>\n",
       "      <td>47.867</td>\n",
       "      <td>4.5</td>\n",
       "      <td>723</td>\n",
       "      <td>1941.0</td>\n",
       "      <td>0.5</td>\n",
       "      <td>0.523</td>\n",
       "      <td>0</td>\n",
       "      <td>0</td>\n",
       "      <td>1</td>\n",
       "      <td>2.95</td>\n",
       "      <td>2.95</td>\n",
       "      <td>4.685</td>\n",
       "      <td>90</td>\n",
       "      <td>90</td>\n",
       "      <td>120</td>\n",
       "      <td>450.0</td>\n",
       "      <td>NaN</td>\n",
       "      <td>NaN</td>\n",
       "    </tr>\n",
       "    <tr>\n",
       "      <th>256</th>\n",
       "      <td>47.867</td>\n",
       "      <td>4.5</td>\n",
       "      <td>723</td>\n",
       "      <td>1941.0</td>\n",
       "      <td>0.5</td>\n",
       "      <td>0.523</td>\n",
       "      <td>0</td>\n",
       "      <td>0</td>\n",
       "      <td>1</td>\n",
       "      <td>2.95</td>\n",
       "      <td>2.95</td>\n",
       "      <td>4.685</td>\n",
       "      <td>90</td>\n",
       "      <td>90</td>\n",
       "      <td>120</td>\n",
       "      <td>50.0</td>\n",
       "      <td>NaN</td>\n",
       "      <td>NaN</td>\n",
       "    </tr>\n",
       "    <tr>\n",
       "      <th>257</th>\n",
       "      <td>47.867</td>\n",
       "      <td>4.5</td>\n",
       "      <td>723</td>\n",
       "      <td>1941.0</td>\n",
       "      <td>0.5</td>\n",
       "      <td>0.523</td>\n",
       "      <td>0</td>\n",
       "      <td>0</td>\n",
       "      <td>1</td>\n",
       "      <td>2.95</td>\n",
       "      <td>2.95</td>\n",
       "      <td>4.685</td>\n",
       "      <td>90</td>\n",
       "      <td>90</td>\n",
       "      <td>120</td>\n",
       "      <td>150.0</td>\n",
       "      <td>NaN</td>\n",
       "      <td>NaN</td>\n",
       "    </tr>\n",
       "    <tr>\n",
       "      <th>258</th>\n",
       "      <td>47.867</td>\n",
       "      <td>4.5</td>\n",
       "      <td>773</td>\n",
       "      <td>1941.0</td>\n",
       "      <td>0.5</td>\n",
       "      <td>0.523</td>\n",
       "      <td>0</td>\n",
       "      <td>0</td>\n",
       "      <td>1</td>\n",
       "      <td>2.95</td>\n",
       "      <td>2.95</td>\n",
       "      <td>4.685</td>\n",
       "      <td>90</td>\n",
       "      <td>90</td>\n",
       "      <td>120</td>\n",
       "      <td>450.0</td>\n",
       "      <td>NaN</td>\n",
       "      <td>NaN</td>\n",
       "    </tr>\n",
       "    <tr>\n",
       "      <th>259</th>\n",
       "      <td>47.867</td>\n",
       "      <td>4.5</td>\n",
       "      <td>773</td>\n",
       "      <td>1941.0</td>\n",
       "      <td>0.5</td>\n",
       "      <td>0.523</td>\n",
       "      <td>0</td>\n",
       "      <td>0</td>\n",
       "      <td>1</td>\n",
       "      <td>2.95</td>\n",
       "      <td>2.95</td>\n",
       "      <td>4.685</td>\n",
       "      <td>90</td>\n",
       "      <td>90</td>\n",
       "      <td>120</td>\n",
       "      <td>50.0</td>\n",
       "      <td>NaN</td>\n",
       "      <td>NaN</td>\n",
       "    </tr>\n",
       "  </tbody>\n",
       "</table>\n",
       "</div>"
      ],
      "text/plain": [
       "     Atomic/Molecular Weight(u)  Density(g/cc)  \\\n",
       "255                      47.867            4.5   \n",
       "256                      47.867            4.5   \n",
       "257                      47.867            4.5   \n",
       "258                      47.867            4.5   \n",
       "259                      47.867            4.5   \n",
       "\n",
       "     Temperature (K) at which test was performed  Melting Point(K)  \\\n",
       "255                                          723            1941.0   \n",
       "256                                          723            1941.0   \n",
       "257                                          723            1941.0   \n",
       "258                                          773            1941.0   \n",
       "259                                          773            1941.0   \n",
       "\n",
       "     Strain rate  Heat capacity(KJ/kg.k)  BCC  FCC  HCP     a     b      c  \\\n",
       "255          0.5                   0.523    0    0    1  2.95  2.95  4.685   \n",
       "256          0.5                   0.523    0    0    1  2.95  2.95  4.685   \n",
       "257          0.5                   0.523    0    0    1  2.95  2.95  4.685   \n",
       "258          0.5                   0.523    0    0    1  2.95  2.95  4.685   \n",
       "259          0.5                   0.523    0    0    1  2.95  2.95  4.685   \n",
       "\n",
       "     alpha  beta  gamma  Grain size(um)  Yield point(stress)  Elastic modulus  \n",
       "255     90    90    120           450.0                  NaN              NaN  \n",
       "256     90    90    120            50.0                  NaN              NaN  \n",
       "257     90    90    120           150.0                  NaN              NaN  \n",
       "258     90    90    120           450.0                  NaN              NaN  \n",
       "259     90    90    120            50.0                  NaN              NaN  "
      ]
     },
     "execution_count": 12,
     "metadata": {},
     "output_type": "execute_result"
    }
   ],
   "source": [
    "data.tail()"
   ]
  },
  {
   "cell_type": "code",
   "execution_count": 13,
   "id": "94ea2243",
   "metadata": {},
   "outputs": [
    {
     "data": {
      "text/plain": [
       "Atomic/Molecular Weight(u)                      0\n",
       "Density(g/cc)                                   0\n",
       "Temperature (K) at which test was performed     0\n",
       "Melting Point(K)                                0\n",
       "Strain rate                                     0\n",
       "Heat capacity(KJ/kg.k)                          0\n",
       "BCC                                             0\n",
       "FCC                                             0\n",
       "HCP                                             0\n",
       "a                                               0\n",
       "b                                               0\n",
       "c                                               0\n",
       "alpha                                           0\n",
       "beta                                            0\n",
       "gamma                                           0\n",
       "Grain size(um)                                  0\n",
       "Yield point(stress)                            21\n",
       "Elastic modulus                                21\n",
       "dtype: int64"
      ]
     },
     "execution_count": 13,
     "metadata": {},
     "output_type": "execute_result"
    }
   ],
   "source": [
    "data.isna().sum()"
   ]
  },
  {
   "cell_type": "markdown",
   "id": "2230cb21",
   "metadata": {},
   "source": [
    "### Remove these last 21 null rows from our data"
   ]
  },
  {
   "cell_type": "code",
   "execution_count": 14,
   "id": "b2a4a43e",
   "metadata": {},
   "outputs": [],
   "source": [
    "data = data.iloc[0:260-21, :]"
   ]
  },
  {
   "cell_type": "code",
   "execution_count": 15,
   "id": "1a2741e6",
   "metadata": {},
   "outputs": [
    {
     "data": {
      "text/plain": [
       "(239, 18)"
      ]
     },
     "execution_count": 15,
     "metadata": {},
     "output_type": "execute_result"
    }
   ],
   "source": [
    "data.shape"
   ]
  },
  {
   "cell_type": "markdown",
   "id": "26db77b0",
   "metadata": {},
   "source": [
    "### As we can see now that no null data is present in any column"
   ]
  },
  {
   "cell_type": "code",
   "execution_count": 16,
   "id": "d940c1f5",
   "metadata": {},
   "outputs": [
    {
     "data": {
      "text/plain": [
       "Atomic/Molecular Weight(u)                     0\n",
       "Density(g/cc)                                  0\n",
       "Temperature (K) at which test was performed    0\n",
       "Melting Point(K)                               0\n",
       "Strain rate                                    0\n",
       "Heat capacity(KJ/kg.k)                         0\n",
       "BCC                                            0\n",
       "FCC                                            0\n",
       "HCP                                            0\n",
       "a                                              0\n",
       "b                                              0\n",
       "c                                              0\n",
       "alpha                                          0\n",
       "beta                                           0\n",
       "gamma                                          0\n",
       "Grain size(um)                                 0\n",
       "Yield point(stress)                            0\n",
       "Elastic modulus                                0\n",
       "dtype: int64"
      ]
     },
     "execution_count": 16,
     "metadata": {},
     "output_type": "execute_result"
    }
   ],
   "source": [
    "data.isna().sum()"
   ]
  },
  {
   "cell_type": "markdown",
   "id": "2539ec93",
   "metadata": {},
   "source": [
    "### We want to see how all features are correlated with each other"
   ]
  },
  {
   "cell_type": "code",
   "execution_count": 17,
   "id": "1af1af3d",
   "metadata": {},
   "outputs": [
    {
     "data": {
      "text/html": [
       "<div>\n",
       "<style scoped>\n",
       "    .dataframe tbody tr th:only-of-type {\n",
       "        vertical-align: middle;\n",
       "    }\n",
       "\n",
       "    .dataframe tbody tr th {\n",
       "        vertical-align: top;\n",
       "    }\n",
       "\n",
       "    .dataframe thead th {\n",
       "        text-align: right;\n",
       "    }\n",
       "</style>\n",
       "<table border=\"1\" class=\"dataframe\">\n",
       "  <thead>\n",
       "    <tr style=\"text-align: right;\">\n",
       "      <th></th>\n",
       "      <th>Atomic/Molecular Weight(u)</th>\n",
       "      <th>Density(g/cc)</th>\n",
       "      <th>Temperature (K) at which test was performed</th>\n",
       "      <th>Melting Point(K)</th>\n",
       "      <th>Strain rate</th>\n",
       "      <th>Heat capacity(KJ/kg.k)</th>\n",
       "      <th>BCC</th>\n",
       "      <th>FCC</th>\n",
       "      <th>HCP</th>\n",
       "      <th>a</th>\n",
       "      <th>b</th>\n",
       "      <th>c</th>\n",
       "      <th>alpha</th>\n",
       "      <th>beta</th>\n",
       "      <th>gamma</th>\n",
       "      <th>Grain size(um)</th>\n",
       "      <th>Yield point(stress)</th>\n",
       "      <th>Elastic modulus</th>\n",
       "    </tr>\n",
       "  </thead>\n",
       "  <tbody>\n",
       "    <tr>\n",
       "      <th>Atomic/Molecular Weight(u)</th>\n",
       "      <td>1.000000</td>\n",
       "      <td>0.892503</td>\n",
       "      <td>-0.265387</td>\n",
       "      <td>0.579708</td>\n",
       "      <td>0.293497</td>\n",
       "      <td>-0.805163</td>\n",
       "      <td>0.711714</td>\n",
       "      <td>-0.261136</td>\n",
       "      <td>-0.404407</td>\n",
       "      <td>0.261859</td>\n",
       "      <td>0.261859</td>\n",
       "      <td>-0.335667</td>\n",
       "      <td>NaN</td>\n",
       "      <td>-0.144860</td>\n",
       "      <td>-0.401026</td>\n",
       "      <td>0.001059</td>\n",
       "      <td>0.590341</td>\n",
       "      <td>0.409995</td>\n",
       "    </tr>\n",
       "    <tr>\n",
       "      <th>Density(g/cc)</th>\n",
       "      <td>0.892503</td>\n",
       "      <td>1.000000</td>\n",
       "      <td>-0.170651</td>\n",
       "      <td>0.635412</td>\n",
       "      <td>0.302736</td>\n",
       "      <td>-0.809865</td>\n",
       "      <td>0.665678</td>\n",
       "      <td>-0.021367</td>\n",
       "      <td>-0.579756</td>\n",
       "      <td>0.169649</td>\n",
       "      <td>0.169649</td>\n",
       "      <td>-0.623384</td>\n",
       "      <td>NaN</td>\n",
       "      <td>-0.139719</td>\n",
       "      <td>-0.580908</td>\n",
       "      <td>-0.035927</td>\n",
       "      <td>0.669648</td>\n",
       "      <td>0.485474</td>\n",
       "    </tr>\n",
       "    <tr>\n",
       "      <th>Temperature (K) at which test was performed</th>\n",
       "      <td>-0.265387</td>\n",
       "      <td>-0.170651</td>\n",
       "      <td>1.000000</td>\n",
       "      <td>-0.178553</td>\n",
       "      <td>-0.199276</td>\n",
       "      <td>0.112343</td>\n",
       "      <td>-0.286514</td>\n",
       "      <td>0.219981</td>\n",
       "      <td>0.058959</td>\n",
       "      <td>-0.047581</td>\n",
       "      <td>-0.047581</td>\n",
       "      <td>0.033499</td>\n",
       "      <td>NaN</td>\n",
       "      <td>0.062797</td>\n",
       "      <td>0.061242</td>\n",
       "      <td>-0.129676</td>\n",
       "      <td>-0.432171</td>\n",
       "      <td>-0.465823</td>\n",
       "    </tr>\n",
       "    <tr>\n",
       "      <th>Melting Point(K)</th>\n",
       "      <td>0.579708</td>\n",
       "      <td>0.635412</td>\n",
       "      <td>-0.178553</td>\n",
       "      <td>1.000000</td>\n",
       "      <td>0.259645</td>\n",
       "      <td>-0.629062</td>\n",
       "      <td>0.649272</td>\n",
       "      <td>-0.601810</td>\n",
       "      <td>-0.040205</td>\n",
       "      <td>-0.538900</td>\n",
       "      <td>-0.538900</td>\n",
       "      <td>-0.380335</td>\n",
       "      <td>NaN</td>\n",
       "      <td>-0.120551</td>\n",
       "      <td>-0.038090</td>\n",
       "      <td>-0.094988</td>\n",
       "      <td>0.719648</td>\n",
       "      <td>0.659906</td>\n",
       "    </tr>\n",
       "    <tr>\n",
       "      <th>Strain rate</th>\n",
       "      <td>0.293497</td>\n",
       "      <td>0.302736</td>\n",
       "      <td>-0.199276</td>\n",
       "      <td>0.259645</td>\n",
       "      <td>1.000000</td>\n",
       "      <td>-0.320620</td>\n",
       "      <td>0.430033</td>\n",
       "      <td>-0.128053</td>\n",
       "      <td>-0.271232</td>\n",
       "      <td>0.040876</td>\n",
       "      <td>0.040876</td>\n",
       "      <td>-0.319898</td>\n",
       "      <td>NaN</td>\n",
       "      <td>0.042357</td>\n",
       "      <td>-0.276480</td>\n",
       "      <td>-0.154340</td>\n",
       "      <td>0.345587</td>\n",
       "      <td>0.369017</td>\n",
       "    </tr>\n",
       "    <tr>\n",
       "      <th>Heat capacity(KJ/kg.k)</th>\n",
       "      <td>-0.805163</td>\n",
       "      <td>-0.809865</td>\n",
       "      <td>0.112343</td>\n",
       "      <td>-0.629062</td>\n",
       "      <td>-0.320620</td>\n",
       "      <td>1.000000</td>\n",
       "      <td>-0.570219</td>\n",
       "      <td>0.260005</td>\n",
       "      <td>0.278093</td>\n",
       "      <td>0.026606</td>\n",
       "      <td>0.026606</td>\n",
       "      <td>0.356171</td>\n",
       "      <td>NaN</td>\n",
       "      <td>0.093601</td>\n",
       "      <td>0.270834</td>\n",
       "      <td>0.277239</td>\n",
       "      <td>-0.471592</td>\n",
       "      <td>-0.399064</td>\n",
       "    </tr>\n",
       "    <tr>\n",
       "      <th>BCC</th>\n",
       "      <td>0.711714</td>\n",
       "      <td>0.665678</td>\n",
       "      <td>-0.286514</td>\n",
       "      <td>0.649272</td>\n",
       "      <td>0.430033</td>\n",
       "      <td>-0.570219</td>\n",
       "      <td>1.000000</td>\n",
       "      <td>-0.385498</td>\n",
       "      <td>-0.551412</td>\n",
       "      <td>0.074681</td>\n",
       "      <td>0.074681</td>\n",
       "      <td>-0.651455</td>\n",
       "      <td>NaN</td>\n",
       "      <td>-0.104945</td>\n",
       "      <td>-0.556101</td>\n",
       "      <td>0.011572</td>\n",
       "      <td>0.602516</td>\n",
       "      <td>0.581236</td>\n",
       "    </tr>\n",
       "    <tr>\n",
       "      <th>FCC</th>\n",
       "      <td>-0.261136</td>\n",
       "      <td>-0.021367</td>\n",
       "      <td>0.219981</td>\n",
       "      <td>-0.601810</td>\n",
       "      <td>-0.128053</td>\n",
       "      <td>0.260005</td>\n",
       "      <td>-0.385498</td>\n",
       "      <td>1.000000</td>\n",
       "      <td>-0.557186</td>\n",
       "      <td>0.622578</td>\n",
       "      <td>0.622578</td>\n",
       "      <td>-0.301630</td>\n",
       "      <td>NaN</td>\n",
       "      <td>0.040456</td>\n",
       "      <td>-0.543191</td>\n",
       "      <td>0.231340</td>\n",
       "      <td>-0.295374</td>\n",
       "      <td>-0.353619</td>\n",
       "    </tr>\n",
       "    <tr>\n",
       "      <th>HCP</th>\n",
       "      <td>-0.404407</td>\n",
       "      <td>-0.579756</td>\n",
       "      <td>0.058959</td>\n",
       "      <td>-0.040205</td>\n",
       "      <td>-0.271232</td>\n",
       "      <td>0.278093</td>\n",
       "      <td>-0.551412</td>\n",
       "      <td>-0.557186</td>\n",
       "      <td>1.000000</td>\n",
       "      <td>-0.630090</td>\n",
       "      <td>-0.630090</td>\n",
       "      <td>0.858982</td>\n",
       "      <td>NaN</td>\n",
       "      <td>0.057868</td>\n",
       "      <td>0.991567</td>\n",
       "      <td>-0.219572</td>\n",
       "      <td>-0.275180</td>\n",
       "      <td>-0.203370</td>\n",
       "    </tr>\n",
       "    <tr>\n",
       "      <th>a</th>\n",
       "      <td>0.261859</td>\n",
       "      <td>0.169649</td>\n",
       "      <td>-0.047581</td>\n",
       "      <td>-0.538900</td>\n",
       "      <td>0.040876</td>\n",
       "      <td>0.026606</td>\n",
       "      <td>0.074681</td>\n",
       "      <td>0.622578</td>\n",
       "      <td>-0.630090</td>\n",
       "      <td>1.000000</td>\n",
       "      <td>1.000000</td>\n",
       "      <td>-0.172268</td>\n",
       "      <td>NaN</td>\n",
       "      <td>-0.000127</td>\n",
       "      <td>-0.630856</td>\n",
       "      <td>0.301842</td>\n",
       "      <td>-0.156735</td>\n",
       "      <td>-0.242642</td>\n",
       "    </tr>\n",
       "    <tr>\n",
       "      <th>b</th>\n",
       "      <td>0.261859</td>\n",
       "      <td>0.169649</td>\n",
       "      <td>-0.047581</td>\n",
       "      <td>-0.538900</td>\n",
       "      <td>0.040876</td>\n",
       "      <td>0.026606</td>\n",
       "      <td>0.074681</td>\n",
       "      <td>0.622578</td>\n",
       "      <td>-0.630090</td>\n",
       "      <td>1.000000</td>\n",
       "      <td>1.000000</td>\n",
       "      <td>-0.172268</td>\n",
       "      <td>NaN</td>\n",
       "      <td>-0.000127</td>\n",
       "      <td>-0.630856</td>\n",
       "      <td>0.301842</td>\n",
       "      <td>-0.156735</td>\n",
       "      <td>-0.242642</td>\n",
       "    </tr>\n",
       "    <tr>\n",
       "      <th>c</th>\n",
       "      <td>-0.335667</td>\n",
       "      <td>-0.623384</td>\n",
       "      <td>0.033499</td>\n",
       "      <td>-0.380335</td>\n",
       "      <td>-0.319898</td>\n",
       "      <td>0.356171</td>\n",
       "      <td>-0.651455</td>\n",
       "      <td>-0.301630</td>\n",
       "      <td>0.858982</td>\n",
       "      <td>-0.172268</td>\n",
       "      <td>-0.172268</td>\n",
       "      <td>1.000000</td>\n",
       "      <td>NaN</td>\n",
       "      <td>0.073036</td>\n",
       "      <td>0.870786</td>\n",
       "      <td>-0.087068</td>\n",
       "      <td>-0.441638</td>\n",
       "      <td>-0.409239</td>\n",
       "    </tr>\n",
       "    <tr>\n",
       "      <th>alpha</th>\n",
       "      <td>NaN</td>\n",
       "      <td>NaN</td>\n",
       "      <td>NaN</td>\n",
       "      <td>NaN</td>\n",
       "      <td>NaN</td>\n",
       "      <td>NaN</td>\n",
       "      <td>NaN</td>\n",
       "      <td>NaN</td>\n",
       "      <td>NaN</td>\n",
       "      <td>NaN</td>\n",
       "      <td>NaN</td>\n",
       "      <td>NaN</td>\n",
       "      <td>NaN</td>\n",
       "      <td>NaN</td>\n",
       "      <td>NaN</td>\n",
       "      <td>NaN</td>\n",
       "      <td>NaN</td>\n",
       "      <td>NaN</td>\n",
       "    </tr>\n",
       "    <tr>\n",
       "      <th>beta</th>\n",
       "      <td>-0.144860</td>\n",
       "      <td>-0.139719</td>\n",
       "      <td>0.062797</td>\n",
       "      <td>-0.120551</td>\n",
       "      <td>0.042357</td>\n",
       "      <td>0.093601</td>\n",
       "      <td>-0.104945</td>\n",
       "      <td>0.040456</td>\n",
       "      <td>0.057868</td>\n",
       "      <td>-0.000127</td>\n",
       "      <td>-0.000127</td>\n",
       "      <td>0.073036</td>\n",
       "      <td>NaN</td>\n",
       "      <td>1.000000</td>\n",
       "      <td>0.058360</td>\n",
       "      <td>-0.110811</td>\n",
       "      <td>0.017376</td>\n",
       "      <td>0.034939</td>\n",
       "    </tr>\n",
       "    <tr>\n",
       "      <th>gamma</th>\n",
       "      <td>-0.401026</td>\n",
       "      <td>-0.580908</td>\n",
       "      <td>0.061242</td>\n",
       "      <td>-0.038090</td>\n",
       "      <td>-0.276480</td>\n",
       "      <td>0.270834</td>\n",
       "      <td>-0.556101</td>\n",
       "      <td>-0.543191</td>\n",
       "      <td>0.991567</td>\n",
       "      <td>-0.630856</td>\n",
       "      <td>-0.630856</td>\n",
       "      <td>0.870786</td>\n",
       "      <td>NaN</td>\n",
       "      <td>0.058360</td>\n",
       "      <td>1.000000</td>\n",
       "      <td>-0.218676</td>\n",
       "      <td>-0.278041</td>\n",
       "      <td>-0.208446</td>\n",
       "    </tr>\n",
       "    <tr>\n",
       "      <th>Grain size(um)</th>\n",
       "      <td>0.001059</td>\n",
       "      <td>-0.035927</td>\n",
       "      <td>-0.129676</td>\n",
       "      <td>-0.094988</td>\n",
       "      <td>-0.154340</td>\n",
       "      <td>0.277239</td>\n",
       "      <td>0.011572</td>\n",
       "      <td>0.231340</td>\n",
       "      <td>-0.219572</td>\n",
       "      <td>0.301842</td>\n",
       "      <td>0.301842</td>\n",
       "      <td>-0.087068</td>\n",
       "      <td>NaN</td>\n",
       "      <td>-0.110811</td>\n",
       "      <td>-0.218676</td>\n",
       "      <td>1.000000</td>\n",
       "      <td>-0.098738</td>\n",
       "      <td>-0.188828</td>\n",
       "    </tr>\n",
       "    <tr>\n",
       "      <th>Yield point(stress)</th>\n",
       "      <td>0.590341</td>\n",
       "      <td>0.669648</td>\n",
       "      <td>-0.432171</td>\n",
       "      <td>0.719648</td>\n",
       "      <td>0.345587</td>\n",
       "      <td>-0.471592</td>\n",
       "      <td>0.602516</td>\n",
       "      <td>-0.295374</td>\n",
       "      <td>-0.275180</td>\n",
       "      <td>-0.156735</td>\n",
       "      <td>-0.156735</td>\n",
       "      <td>-0.441638</td>\n",
       "      <td>NaN</td>\n",
       "      <td>0.017376</td>\n",
       "      <td>-0.278041</td>\n",
       "      <td>-0.098738</td>\n",
       "      <td>1.000000</td>\n",
       "      <td>0.880260</td>\n",
       "    </tr>\n",
       "    <tr>\n",
       "      <th>Elastic modulus</th>\n",
       "      <td>0.409995</td>\n",
       "      <td>0.485474</td>\n",
       "      <td>-0.465823</td>\n",
       "      <td>0.659906</td>\n",
       "      <td>0.369017</td>\n",
       "      <td>-0.399064</td>\n",
       "      <td>0.581236</td>\n",
       "      <td>-0.353619</td>\n",
       "      <td>-0.203370</td>\n",
       "      <td>-0.242642</td>\n",
       "      <td>-0.242642</td>\n",
       "      <td>-0.409239</td>\n",
       "      <td>NaN</td>\n",
       "      <td>0.034939</td>\n",
       "      <td>-0.208446</td>\n",
       "      <td>-0.188828</td>\n",
       "      <td>0.880260</td>\n",
       "      <td>1.000000</td>\n",
       "    </tr>\n",
       "  </tbody>\n",
       "</table>\n",
       "</div>"
      ],
      "text/plain": [
       "                                             Atomic/Molecular Weight(u)  \\\n",
       "Atomic/Molecular Weight(u)                                     1.000000   \n",
       "Density(g/cc)                                                  0.892503   \n",
       "Temperature (K) at which test was performed                   -0.265387   \n",
       "Melting Point(K)                                               0.579708   \n",
       "Strain rate                                                    0.293497   \n",
       "Heat capacity(KJ/kg.k)                                        -0.805163   \n",
       "BCC                                                            0.711714   \n",
       "FCC                                                           -0.261136   \n",
       "HCP                                                           -0.404407   \n",
       "a                                                              0.261859   \n",
       "b                                                              0.261859   \n",
       "c                                                             -0.335667   \n",
       "alpha                                                               NaN   \n",
       "beta                                                          -0.144860   \n",
       "gamma                                                         -0.401026   \n",
       "Grain size(um)                                                 0.001059   \n",
       "Yield point(stress)                                            0.590341   \n",
       "Elastic modulus                                                0.409995   \n",
       "\n",
       "                                             Density(g/cc)  \\\n",
       "Atomic/Molecular Weight(u)                        0.892503   \n",
       "Density(g/cc)                                     1.000000   \n",
       "Temperature (K) at which test was performed      -0.170651   \n",
       "Melting Point(K)                                  0.635412   \n",
       "Strain rate                                       0.302736   \n",
       "Heat capacity(KJ/kg.k)                           -0.809865   \n",
       "BCC                                               0.665678   \n",
       "FCC                                              -0.021367   \n",
       "HCP                                              -0.579756   \n",
       "a                                                 0.169649   \n",
       "b                                                 0.169649   \n",
       "c                                                -0.623384   \n",
       "alpha                                                  NaN   \n",
       "beta                                             -0.139719   \n",
       "gamma                                            -0.580908   \n",
       "Grain size(um)                                   -0.035927   \n",
       "Yield point(stress)                               0.669648   \n",
       "Elastic modulus                                   0.485474   \n",
       "\n",
       "                                             Temperature (K) at which test was performed  \\\n",
       "Atomic/Molecular Weight(u)                                                     -0.265387   \n",
       "Density(g/cc)                                                                  -0.170651   \n",
       "Temperature (K) at which test was performed                                     1.000000   \n",
       "Melting Point(K)                                                               -0.178553   \n",
       "Strain rate                                                                    -0.199276   \n",
       "Heat capacity(KJ/kg.k)                                                          0.112343   \n",
       "BCC                                                                            -0.286514   \n",
       "FCC                                                                             0.219981   \n",
       "HCP                                                                             0.058959   \n",
       "a                                                                              -0.047581   \n",
       "b                                                                              -0.047581   \n",
       "c                                                                               0.033499   \n",
       "alpha                                                                                NaN   \n",
       "beta                                                                            0.062797   \n",
       "gamma                                                                           0.061242   \n",
       "Grain size(um)                                                                 -0.129676   \n",
       "Yield point(stress)                                                            -0.432171   \n",
       "Elastic modulus                                                                -0.465823   \n",
       "\n",
       "                                             Melting Point(K)  Strain rate  \\\n",
       "Atomic/Molecular Weight(u)                           0.579708     0.293497   \n",
       "Density(g/cc)                                        0.635412     0.302736   \n",
       "Temperature (K) at which test was performed         -0.178553    -0.199276   \n",
       "Melting Point(K)                                     1.000000     0.259645   \n",
       "Strain rate                                          0.259645     1.000000   \n",
       "Heat capacity(KJ/kg.k)                              -0.629062    -0.320620   \n",
       "BCC                                                  0.649272     0.430033   \n",
       "FCC                                                 -0.601810    -0.128053   \n",
       "HCP                                                 -0.040205    -0.271232   \n",
       "a                                                   -0.538900     0.040876   \n",
       "b                                                   -0.538900     0.040876   \n",
       "c                                                   -0.380335    -0.319898   \n",
       "alpha                                                     NaN          NaN   \n",
       "beta                                                -0.120551     0.042357   \n",
       "gamma                                               -0.038090    -0.276480   \n",
       "Grain size(um)                                      -0.094988    -0.154340   \n",
       "Yield point(stress)                                  0.719648     0.345587   \n",
       "Elastic modulus                                      0.659906     0.369017   \n",
       "\n",
       "                                             Heat capacity(KJ/kg.k)       BCC  \\\n",
       "Atomic/Molecular Weight(u)                                -0.805163  0.711714   \n",
       "Density(g/cc)                                             -0.809865  0.665678   \n",
       "Temperature (K) at which test was performed                0.112343 -0.286514   \n",
       "Melting Point(K)                                          -0.629062  0.649272   \n",
       "Strain rate                                               -0.320620  0.430033   \n",
       "Heat capacity(KJ/kg.k)                                     1.000000 -0.570219   \n",
       "BCC                                                       -0.570219  1.000000   \n",
       "FCC                                                        0.260005 -0.385498   \n",
       "HCP                                                        0.278093 -0.551412   \n",
       "a                                                          0.026606  0.074681   \n",
       "b                                                          0.026606  0.074681   \n",
       "c                                                          0.356171 -0.651455   \n",
       "alpha                                                           NaN       NaN   \n",
       "beta                                                       0.093601 -0.104945   \n",
       "gamma                                                      0.270834 -0.556101   \n",
       "Grain size(um)                                             0.277239  0.011572   \n",
       "Yield point(stress)                                       -0.471592  0.602516   \n",
       "Elastic modulus                                           -0.399064  0.581236   \n",
       "\n",
       "                                                  FCC       HCP         a  \\\n",
       "Atomic/Molecular Weight(u)                  -0.261136 -0.404407  0.261859   \n",
       "Density(g/cc)                               -0.021367 -0.579756  0.169649   \n",
       "Temperature (K) at which test was performed  0.219981  0.058959 -0.047581   \n",
       "Melting Point(K)                            -0.601810 -0.040205 -0.538900   \n",
       "Strain rate                                 -0.128053 -0.271232  0.040876   \n",
       "Heat capacity(KJ/kg.k)                       0.260005  0.278093  0.026606   \n",
       "BCC                                         -0.385498 -0.551412  0.074681   \n",
       "FCC                                          1.000000 -0.557186  0.622578   \n",
       "HCP                                         -0.557186  1.000000 -0.630090   \n",
       "a                                            0.622578 -0.630090  1.000000   \n",
       "b                                            0.622578 -0.630090  1.000000   \n",
       "c                                           -0.301630  0.858982 -0.172268   \n",
       "alpha                                             NaN       NaN       NaN   \n",
       "beta                                         0.040456  0.057868 -0.000127   \n",
       "gamma                                       -0.543191  0.991567 -0.630856   \n",
       "Grain size(um)                               0.231340 -0.219572  0.301842   \n",
       "Yield point(stress)                         -0.295374 -0.275180 -0.156735   \n",
       "Elastic modulus                             -0.353619 -0.203370 -0.242642   \n",
       "\n",
       "                                                    b         c  alpha  \\\n",
       "Atomic/Molecular Weight(u)                   0.261859 -0.335667    NaN   \n",
       "Density(g/cc)                                0.169649 -0.623384    NaN   \n",
       "Temperature (K) at which test was performed -0.047581  0.033499    NaN   \n",
       "Melting Point(K)                            -0.538900 -0.380335    NaN   \n",
       "Strain rate                                  0.040876 -0.319898    NaN   \n",
       "Heat capacity(KJ/kg.k)                       0.026606  0.356171    NaN   \n",
       "BCC                                          0.074681 -0.651455    NaN   \n",
       "FCC                                          0.622578 -0.301630    NaN   \n",
       "HCP                                         -0.630090  0.858982    NaN   \n",
       "a                                            1.000000 -0.172268    NaN   \n",
       "b                                            1.000000 -0.172268    NaN   \n",
       "c                                           -0.172268  1.000000    NaN   \n",
       "alpha                                             NaN       NaN    NaN   \n",
       "beta                                        -0.000127  0.073036    NaN   \n",
       "gamma                                       -0.630856  0.870786    NaN   \n",
       "Grain size(um)                               0.301842 -0.087068    NaN   \n",
       "Yield point(stress)                         -0.156735 -0.441638    NaN   \n",
       "Elastic modulus                             -0.242642 -0.409239    NaN   \n",
       "\n",
       "                                                 beta     gamma  \\\n",
       "Atomic/Molecular Weight(u)                  -0.144860 -0.401026   \n",
       "Density(g/cc)                               -0.139719 -0.580908   \n",
       "Temperature (K) at which test was performed  0.062797  0.061242   \n",
       "Melting Point(K)                            -0.120551 -0.038090   \n",
       "Strain rate                                  0.042357 -0.276480   \n",
       "Heat capacity(KJ/kg.k)                       0.093601  0.270834   \n",
       "BCC                                         -0.104945 -0.556101   \n",
       "FCC                                          0.040456 -0.543191   \n",
       "HCP                                          0.057868  0.991567   \n",
       "a                                           -0.000127 -0.630856   \n",
       "b                                           -0.000127 -0.630856   \n",
       "c                                            0.073036  0.870786   \n",
       "alpha                                             NaN       NaN   \n",
       "beta                                         1.000000  0.058360   \n",
       "gamma                                        0.058360  1.000000   \n",
       "Grain size(um)                              -0.110811 -0.218676   \n",
       "Yield point(stress)                          0.017376 -0.278041   \n",
       "Elastic modulus                              0.034939 -0.208446   \n",
       "\n",
       "                                             Grain size(um)  \\\n",
       "Atomic/Molecular Weight(u)                         0.001059   \n",
       "Density(g/cc)                                     -0.035927   \n",
       "Temperature (K) at which test was performed       -0.129676   \n",
       "Melting Point(K)                                  -0.094988   \n",
       "Strain rate                                       -0.154340   \n",
       "Heat capacity(KJ/kg.k)                             0.277239   \n",
       "BCC                                                0.011572   \n",
       "FCC                                                0.231340   \n",
       "HCP                                               -0.219572   \n",
       "a                                                  0.301842   \n",
       "b                                                  0.301842   \n",
       "c                                                 -0.087068   \n",
       "alpha                                                   NaN   \n",
       "beta                                              -0.110811   \n",
       "gamma                                             -0.218676   \n",
       "Grain size(um)                                     1.000000   \n",
       "Yield point(stress)                               -0.098738   \n",
       "Elastic modulus                                   -0.188828   \n",
       "\n",
       "                                             Yield point(stress)  \\\n",
       "Atomic/Molecular Weight(u)                              0.590341   \n",
       "Density(g/cc)                                           0.669648   \n",
       "Temperature (K) at which test was performed            -0.432171   \n",
       "Melting Point(K)                                        0.719648   \n",
       "Strain rate                                             0.345587   \n",
       "Heat capacity(KJ/kg.k)                                 -0.471592   \n",
       "BCC                                                     0.602516   \n",
       "FCC                                                    -0.295374   \n",
       "HCP                                                    -0.275180   \n",
       "a                                                      -0.156735   \n",
       "b                                                      -0.156735   \n",
       "c                                                      -0.441638   \n",
       "alpha                                                        NaN   \n",
       "beta                                                    0.017376   \n",
       "gamma                                                  -0.278041   \n",
       "Grain size(um)                                         -0.098738   \n",
       "Yield point(stress)                                     1.000000   \n",
       "Elastic modulus                                         0.880260   \n",
       "\n",
       "                                             Elastic modulus  \n",
       "Atomic/Molecular Weight(u)                          0.409995  \n",
       "Density(g/cc)                                       0.485474  \n",
       "Temperature (K) at which test was performed        -0.465823  \n",
       "Melting Point(K)                                    0.659906  \n",
       "Strain rate                                         0.369017  \n",
       "Heat capacity(KJ/kg.k)                             -0.399064  \n",
       "BCC                                                 0.581236  \n",
       "FCC                                                -0.353619  \n",
       "HCP                                                -0.203370  \n",
       "a                                                  -0.242642  \n",
       "b                                                  -0.242642  \n",
       "c                                                  -0.409239  \n",
       "alpha                                                    NaN  \n",
       "beta                                                0.034939  \n",
       "gamma                                              -0.208446  \n",
       "Grain size(um)                                     -0.188828  \n",
       "Yield point(stress)                                 0.880260  \n",
       "Elastic modulus                                     1.000000  "
      ]
     },
     "execution_count": 17,
     "metadata": {},
     "output_type": "execute_result"
    }
   ],
   "source": [
    "data.corr()"
   ]
  },
  {
   "cell_type": "code",
   "execution_count": 18,
   "id": "4f114693",
   "metadata": {},
   "outputs": [
    {
     "data": {
      "image/png": "[encoded data removed]",
      "text/plain": [
       "<Figure size 2880x2520 with 2 Axes>"
      ]
     },
     "metadata": {},
     "output_type": "display_data"
    }
   ],
   "source": [
    "plt.figure(figsize=(40, 35))\n",
    "sns.heatmap(data.corr(), cmap=\"PiYG\", annot=True, fmt=\".1f\", linewidths=0.5);"
   ]
  },
  {
   "cell_type": "markdown",
   "id": "5b9a2fb2",
   "metadata": {},
   "source": [
    "### We seperate dataset into 2 parts : "
   ]
  },
  {
   "cell_type": "markdown",
   "id": "770f12f4",
   "metadata": {},
   "source": [
    "### 1. yield point prediction"
   ]
  },
  {
   "cell_type": "code",
   "execution_count": 19,
   "id": "c93d4ddf",
   "metadata": {},
   "outputs": [],
   "source": [
    "Yield_data = data.iloc[:, 0:17]"
   ]
  },
  {
   "cell_type": "code",
   "execution_count": 20,
   "id": "db37fdc5",
   "metadata": {},
   "outputs": [
    {
     "data": {
      "text/plain": [
       "(239, 17)"
      ]
     },
     "execution_count": 20,
     "metadata": {},
     "output_type": "execute_result"
    }
   ],
   "source": [
    "Yield_data.shape"
   ]
  },
  {
   "cell_type": "markdown",
   "id": "074bf886",
   "metadata": {},
   "source": [
    "### 2. Elastic modulus prediction"
   ]
  },
  {
   "cell_type": "code",
   "execution_count": 21,
   "id": "772d291a",
   "metadata": {},
   "outputs": [],
   "source": [
    "Elastic_data = data.iloc[:, 0:16]"
   ]
  },
  {
   "cell_type": "code",
   "execution_count": 22,
   "id": "e2c0d166",
   "metadata": {},
   "outputs": [],
   "source": [
    "Elastic_data['Elastic Modulus'] = data.iloc[:, 17]"
   ]
  },
  {
   "cell_type": "code",
   "execution_count": 23,
   "id": "05f283fa",
   "metadata": {},
   "outputs": [
    {
     "data": {
      "text/plain": [
       "(239, 17)"
      ]
     },
     "execution_count": 23,
     "metadata": {},
     "output_type": "execute_result"
    }
   ],
   "source": [
    "Elastic_data.shape"
   ]
  },
  {
   "cell_type": "markdown",
   "id": "7f2fca49",
   "metadata": {},
   "source": [
    "# YIELD POINT(STRESS)"
   ]
  },
  {
   "cell_type": "markdown",
   "id": "36f1d2d8",
   "metadata": {},
   "source": [
    "### We want to see how column Yield point(stress) is correlated to all other columns"
   ]
  },
  {
   "cell_type": "code",
   "execution_count": 24,
   "id": "8d044e3c",
   "metadata": {},
   "outputs": [
    {
     "data": {
      "text/plain": [
       "Yield point(stress)                            1.000000\n",
       "Melting Point(K)                               0.719648\n",
       "Density(g/cc)                                  0.669648\n",
       "BCC                                            0.602516\n",
       "Atomic/Molecular Weight(u)                     0.590341\n",
       "Strain rate                                    0.345587\n",
       "beta                                           0.017376\n",
       "Grain size(um)                                -0.098738\n",
       "a                                             -0.156735\n",
       "b                                             -0.156735\n",
       "HCP                                           -0.275180\n",
       "gamma                                         -0.278041\n",
       "FCC                                           -0.295374\n",
       "Temperature (K) at which test was performed   -0.432171\n",
       "c                                             -0.441638\n",
       "Heat capacity(KJ/kg.k)                        -0.471592\n",
       "alpha                                               NaN\n",
       "dtype: float64"
      ]
     },
     "execution_count": 24,
     "metadata": {},
     "output_type": "execute_result"
    }
   ],
   "source": [
    "Yield_data.corrwith(Yield_data['Yield point(stress)'], axis=0).sort_values(ascending=False)"
   ]
  },
  {
   "cell_type": "markdown",
   "id": "f7fe0705",
   "metadata": {},
   "source": [
    "### We can see that alpha value is same for all the dataset, hence it is of no use to us"
   ]
  },
  {
   "cell_type": "code",
   "execution_count": 25,
   "id": "9ac35210",
   "metadata": {},
   "outputs": [
    {
     "data": {
      "text/plain": [
       "1"
      ]
     },
     "execution_count": 25,
     "metadata": {},
     "output_type": "execute_result"
    }
   ],
   "source": [
    "Yield_data.alpha.nunique()"
   ]
  },
  {
   "cell_type": "code",
   "execution_count": 26,
   "id": "b4617598",
   "metadata": {},
   "outputs": [
    {
     "data": {
      "text/plain": [
       "array([90], dtype=int64)"
      ]
     },
     "execution_count": 26,
     "metadata": {},
     "output_type": "execute_result"
    }
   ],
   "source": [
    "Yield_data['alpha'].unique()"
   ]
  },
  {
   "cell_type": "code",
   "execution_count": 27,
   "id": "f39ec8b0",
   "metadata": {},
   "outputs": [],
   "source": [
    "Yield_data.drop(['alpha'], axis=1, inplace=True)"
   ]
  },
  {
   "cell_type": "code",
   "execution_count": 28,
   "id": "e7b85978",
   "metadata": {},
   "outputs": [
    {
     "data": {
      "text/plain": [
       "Index(['Atomic/Molecular Weight(u)', 'Density(g/cc)',\n",
       "       'Temperature (K) at which test was performed', 'Melting Point(K)',\n",
       "       'Strain rate', 'Heat capacity(KJ/kg.k)', 'BCC', 'FCC', 'HCP', 'a', 'b',\n",
       "       'c', 'beta', 'gamma', 'Grain size(um)', 'Yield point(stress)'],\n",
       "      dtype='object')"
      ]
     },
     "execution_count": 28,
     "metadata": {},
     "output_type": "execute_result"
    }
   ],
   "source": [
    "Yield_data.columns"
   ]
  },
  {
   "cell_type": "markdown",
   "id": "fdb8103b",
   "metadata": {},
   "source": [
    "### Feature Scaling and Splitting yield_data into train and test set"
   ]
  },
  {
   "cell_type": "code",
   "execution_count": 29,
   "id": "2e77fdd7",
   "metadata": {},
   "outputs": [],
   "source": [
    "X = Yield_data.iloc[:, 0:-1].values\n",
    "y = Yield_data.iloc[:, -1].values"
   ]
  },
  {
   "cell_type": "code",
   "execution_count": 30,
   "id": "20837230",
   "metadata": {},
   "outputs": [],
   "source": [
    "from sklearn.preprocessing import StandardScaler\n",
    "standard_scaler = StandardScaler()"
   ]
  },
  {
   "cell_type": "code",
   "execution_count": 31,
   "id": "bf223c98",
   "metadata": {},
   "outputs": [],
   "source": [
    "X_scaled = standard_scaler.fit_transform(X)"
   ]
  },
  {
   "cell_type": "code",
   "execution_count": 32,
   "id": "90b0bbc1",
   "metadata": {},
   "outputs": [],
   "source": [
    "from sklearn.model_selection import train_test_split\n",
    "X_train, X_test, y_train, y_test = train_test_split(X_scaled, y, test_size=0.04184, random_state=17) "
   ]
  },
  {
   "cell_type": "code",
   "execution_count": 33,
   "id": "5b03349d",
   "metadata": {},
   "outputs": [
    {
     "data": {
      "text/plain": [
       "((229, 15), (10, 15), (229,), (10,))"
      ]
     },
     "execution_count": 33,
     "metadata": {},
     "output_type": "execute_result"
    }
   ],
   "source": [
    "X_train.shape, X_test.shape, y_train.shape, y_test.shape"
   ]
  },
  {
   "cell_type": "markdown",
   "id": "4bc53c77",
   "metadata": {},
   "source": [
    "###  DecisionTreeRegressor Model"
   ]
  },
  {
   "cell_type": "code",
   "execution_count": 34,
   "id": "33a1724a",
   "metadata": {},
   "outputs": [],
   "source": [
    "from sklearn.tree import DecisionTreeRegressor\n",
    "reg_tree = DecisionTreeRegressor(max_depth=10, random_state=17)"
   ]
  },
  {
   "cell_type": "code",
   "execution_count": 35,
   "id": "325edfd7",
   "metadata": {},
   "outputs": [
    {
     "data": {
      "text/plain": [
       "array([185.15271718,  96.77608407, 239.36275083, 140.78399021,\n",
       "       128.53133155])"
      ]
     },
     "execution_count": 35,
     "metadata": {},
     "output_type": "execute_result"
    }
   ],
   "source": [
    "from sklearn.model_selection import cross_val_score\n",
    "(-1)*cross_val_score(reg_tree, X_train, y_train, scoring='neg_root_mean_squared_error', cv=5)"
   ]
  },
  {
   "cell_type": "code",
   "execution_count": 36,
   "id": "2eee9bcc",
   "metadata": {},
   "outputs": [
    {
     "name": "stdout",
     "output_type": "stream",
     "text": [
      "158.12137476816855\n"
     ]
    }
   ],
   "source": [
    "print(np.mean((-1)*cross_val_score(reg_tree, X_train, y_train, scoring='neg_root_mean_squared_error', cv=5)))"
   ]
  },
  {
   "cell_type": "code",
   "execution_count": 37,
   "id": "89935fa1",
   "metadata": {},
   "outputs": [
    {
     "data": {
      "text/plain": [
       "DecisionTreeRegressor(max_depth=10, random_state=17)"
      ]
     },
     "execution_count": 37,
     "metadata": {},
     "output_type": "execute_result"
    }
   ],
   "source": [
    "reg_tree.fit(X_train, y_train)"
   ]
  },
  {
   "cell_type": "code",
   "execution_count": 38,
   "id": "50480e88",
   "metadata": {},
   "outputs": [],
   "source": [
    "reg_tree_pred = reg_tree.predict(X_test)"
   ]
  },
  {
   "cell_type": "code",
   "execution_count": 39,
   "id": "23cab02c",
   "metadata": {},
   "outputs": [
    {
     "data": {
      "text/plain": [
       "98.70020823496264"
      ]
     },
     "execution_count": 39,
     "metadata": {},
     "output_type": "execute_result"
    }
   ],
   "source": [
    "from sklearn.metrics import mean_squared_error\n",
    "np.sqrt(mean_squared_error(y_test,reg_tree_pred))"
   ]
  },
  {
   "cell_type": "code",
   "execution_count": 40,
   "id": "68dafe8c",
   "metadata": {},
   "outputs": [
    {
     "data": {
      "text/plain": [
       "61.09214999999998"
      ]
     },
     "execution_count": 40,
     "metadata": {},
     "output_type": "execute_result"
    }
   ],
   "source": [
    "from sklearn.metrics import mean_absolute_error\n",
    "mean_absolute_error(y_test, reg_tree_pred)"
   ]
  },
  {
   "cell_type": "code",
   "execution_count": 41,
   "id": "625b3706",
   "metadata": {},
   "outputs": [],
   "source": [
    "yield_df = pd.DataFrame({\n",
    "    'y_test_yield_point' : y_test,\n",
    "    'y_predicted_yield_point' : reg_tree_pred\n",
    "})"
   ]
  },
  {
   "cell_type": "code",
   "execution_count": 42,
   "id": "2427a5c7",
   "metadata": {},
   "outputs": [
    {
     "data": {
      "text/html": [
       "<div>\n",
       "<style scoped>\n",
       "    .dataframe tbody tr th:only-of-type {\n",
       "        vertical-align: middle;\n",
       "    }\n",
       "\n",
       "    .dataframe tbody tr th {\n",
       "        vertical-align: top;\n",
       "    }\n",
       "\n",
       "    .dataframe thead th {\n",
       "        text-align: right;\n",
       "    }\n",
       "</style>\n",
       "<table border=\"1\" class=\"dataframe\">\n",
       "  <thead>\n",
       "    <tr style=\"text-align: right;\">\n",
       "      <th></th>\n",
       "      <th>y_test_yield_point</th>\n",
       "      <th>y_predicted_yield_point</th>\n",
       "    </tr>\n",
       "  </thead>\n",
       "  <tbody>\n",
       "    <tr>\n",
       "      <th>0</th>\n",
       "      <td>793.083</td>\n",
       "      <td>599.6730</td>\n",
       "    </tr>\n",
       "    <tr>\n",
       "      <th>1</th>\n",
       "      <td>25.213</td>\n",
       "      <td>23.1480</td>\n",
       "    </tr>\n",
       "    <tr>\n",
       "      <th>2</th>\n",
       "      <td>2483.806</td>\n",
       "      <td>2281.1350</td>\n",
       "    </tr>\n",
       "    <tr>\n",
       "      <th>3</th>\n",
       "      <td>123.467</td>\n",
       "      <td>131.3350</td>\n",
       "    </tr>\n",
       "    <tr>\n",
       "      <th>4</th>\n",
       "      <td>248.003</td>\n",
       "      <td>223.1600</td>\n",
       "    </tr>\n",
       "    <tr>\n",
       "      <th>5</th>\n",
       "      <td>100.709</td>\n",
       "      <td>75.9570</td>\n",
       "    </tr>\n",
       "    <tr>\n",
       "      <th>6</th>\n",
       "      <td>30.527</td>\n",
       "      <td>44.2820</td>\n",
       "    </tr>\n",
       "    <tr>\n",
       "      <th>7</th>\n",
       "      <td>25.361</td>\n",
       "      <td>31.6920</td>\n",
       "    </tr>\n",
       "    <tr>\n",
       "      <th>8</th>\n",
       "      <td>490.876</td>\n",
       "      <td>358.9745</td>\n",
       "    </tr>\n",
       "    <tr>\n",
       "      <th>9</th>\n",
       "      <td>5.094</td>\n",
       "      <td>8.4190</td>\n",
       "    </tr>\n",
       "  </tbody>\n",
       "</table>\n",
       "</div>"
      ],
      "text/plain": [
       "   y_test_yield_point  y_predicted_yield_point\n",
       "0             793.083                 599.6730\n",
       "1              25.213                  23.1480\n",
       "2            2483.806                2281.1350\n",
       "3             123.467                 131.3350\n",
       "4             248.003                 223.1600\n",
       "5             100.709                  75.9570\n",
       "6              30.527                  44.2820\n",
       "7              25.361                  31.6920\n",
       "8             490.876                 358.9745\n",
       "9               5.094                   8.4190"
      ]
     },
     "execution_count": 42,
     "metadata": {},
     "output_type": "execute_result"
    }
   ],
   "source": [
    "yield_df"
   ]
  },
  {
   "cell_type": "code",
   "execution_count": 43,
   "id": "3767a4df",
   "metadata": {},
   "outputs": [],
   "source": [
    "from sklearn.metrics import r2_score"
   ]
  },
  {
   "cell_type": "code",
   "execution_count": 44,
   "id": "4ad70449",
   "metadata": {},
   "outputs": [],
   "source": [
    "r2 = r2_score(y_test, reg_tree_pred)"
   ]
  },
  {
   "cell_type": "code",
   "execution_count": 45,
   "id": "fa8e2a6e",
   "metadata": {},
   "outputs": [
    {
     "data": {
      "text/plain": [
       "0.9814683700627936"
      ]
     },
     "execution_count": 45,
     "metadata": {},
     "output_type": "execute_result"
    }
   ],
   "source": [
    "r2"
   ]
  },
  {
   "cell_type": "markdown",
   "id": "dbc55253",
   "metadata": {},
   "source": [
    "### Feature importance for DecisionTreeRegressor"
   ]
  },
  {
   "cell_type": "code",
   "execution_count": 46,
   "id": "e0a9db5b",
   "metadata": {},
   "outputs": [
    {
     "data": {
      "text/plain": [
       "array([2.96448339e-03, 7.13945150e-01, 7.07984236e-02, 1.20471333e-01,\n",
       "       3.41207583e-02, 1.27320581e-03, 8.22957567e-04, 0.00000000e+00,\n",
       "       9.31049057e-04, 0.00000000e+00, 4.11704556e-02, 2.38990324e-03,\n",
       "       1.27693764e-04, 6.15988004e-04, 1.03685992e-02])"
      ]
     },
     "execution_count": 46,
     "metadata": {},
     "output_type": "execute_result"
    }
   ],
   "source": [
    "reg_tree.feature_importances_"
   ]
  },
  {
   "cell_type": "code",
   "execution_count": 47,
   "id": "35bbed5b",
   "metadata": {},
   "outputs": [
    {
     "data": {
      "text/plain": [
       "Index(['Atomic/Molecular Weight(u)', 'Density(g/cc)',\n",
       "       'Temperature (K) at which test was performed', 'Melting Point(K)',\n",
       "       'Strain rate', 'Heat capacity(KJ/kg.k)', 'BCC', 'FCC', 'HCP', 'a', 'b',\n",
       "       'c', 'beta', 'gamma', 'Grain size(um)'],\n",
       "      dtype='object')"
      ]
     },
     "execution_count": 47,
     "metadata": {},
     "output_type": "execute_result"
    }
   ],
   "source": [
    "Yield_data.columns[0:15]"
   ]
  },
  {
   "cell_type": "code",
   "execution_count": 48,
   "id": "bda8f56c",
   "metadata": {},
   "outputs": [],
   "source": [
    "dct = {\n",
    "    'column_name' : [],\n",
    "    'feature_importance' : []\n",
    "}\n",
    "feature_importance_for_decision_tree = pd.DataFrame(dct)\n",
    "for i in range(0, 15):\n",
    "    feature_importance_for_decision_tree.loc[feature_importance_for_decision_tree.shape[0]] = [Yield_data.columns[i], reg_tree.feature_importances_[i]]"
   ]
  },
  {
   "cell_type": "code",
   "execution_count": 49,
   "id": "1339d387",
   "metadata": {},
   "outputs": [
    {
     "data": {
      "text/html": [
       "<div>\n",
       "<style scoped>\n",
       "    .dataframe tbody tr th:only-of-type {\n",
       "        vertical-align: middle;\n",
       "    }\n",
       "\n",
       "    .dataframe tbody tr th {\n",
       "        vertical-align: top;\n",
       "    }\n",
       "\n",
       "    .dataframe thead th {\n",
       "        text-align: right;\n",
       "    }\n",
       "</style>\n",
       "<table border=\"1\" class=\"dataframe\">\n",
       "  <thead>\n",
       "    <tr style=\"text-align: right;\">\n",
       "      <th></th>\n",
       "      <th>column_name</th>\n",
       "      <th>feature_importance</th>\n",
       "    </tr>\n",
       "  </thead>\n",
       "  <tbody>\n",
       "    <tr>\n",
       "      <th>1</th>\n",
       "      <td>Density(g/cc)</td>\n",
       "      <td>0.713945</td>\n",
       "    </tr>\n",
       "    <tr>\n",
       "      <th>3</th>\n",
       "      <td>Melting Point(K)</td>\n",
       "      <td>0.120471</td>\n",
       "    </tr>\n",
       "    <tr>\n",
       "      <th>2</th>\n",
       "      <td>Temperature (K) at which test was performed</td>\n",
       "      <td>0.070798</td>\n",
       "    </tr>\n",
       "    <tr>\n",
       "      <th>10</th>\n",
       "      <td>b</td>\n",
       "      <td>0.041170</td>\n",
       "    </tr>\n",
       "    <tr>\n",
       "      <th>4</th>\n",
       "      <td>Strain rate</td>\n",
       "      <td>0.034121</td>\n",
       "    </tr>\n",
       "    <tr>\n",
       "      <th>14</th>\n",
       "      <td>Grain size(um)</td>\n",
       "      <td>0.010369</td>\n",
       "    </tr>\n",
       "    <tr>\n",
       "      <th>0</th>\n",
       "      <td>Atomic/Molecular Weight(u)</td>\n",
       "      <td>0.002964</td>\n",
       "    </tr>\n",
       "    <tr>\n",
       "      <th>11</th>\n",
       "      <td>c</td>\n",
       "      <td>0.002390</td>\n",
       "    </tr>\n",
       "    <tr>\n",
       "      <th>5</th>\n",
       "      <td>Heat capacity(KJ/kg.k)</td>\n",
       "      <td>0.001273</td>\n",
       "    </tr>\n",
       "    <tr>\n",
       "      <th>8</th>\n",
       "      <td>HCP</td>\n",
       "      <td>0.000931</td>\n",
       "    </tr>\n",
       "    <tr>\n",
       "      <th>6</th>\n",
       "      <td>BCC</td>\n",
       "      <td>0.000823</td>\n",
       "    </tr>\n",
       "    <tr>\n",
       "      <th>13</th>\n",
       "      <td>gamma</td>\n",
       "      <td>0.000616</td>\n",
       "    </tr>\n",
       "    <tr>\n",
       "      <th>12</th>\n",
       "      <td>beta</td>\n",
       "      <td>0.000128</td>\n",
       "    </tr>\n",
       "    <tr>\n",
       "      <th>7</th>\n",
       "      <td>FCC</td>\n",
       "      <td>0.000000</td>\n",
       "    </tr>\n",
       "    <tr>\n",
       "      <th>9</th>\n",
       "      <td>a</td>\n",
       "      <td>0.000000</td>\n",
       "    </tr>\n",
       "  </tbody>\n",
       "</table>\n",
       "</div>"
      ],
      "text/plain": [
       "                                    column_name  feature_importance\n",
       "1                                 Density(g/cc)            0.713945\n",
       "3                              Melting Point(K)            0.120471\n",
       "2   Temperature (K) at which test was performed            0.070798\n",
       "10                                            b            0.041170\n",
       "4                                   Strain rate            0.034121\n",
       "14                               Grain size(um)            0.010369\n",
       "0                    Atomic/Molecular Weight(u)            0.002964\n",
       "11                                            c            0.002390\n",
       "5                        Heat capacity(KJ/kg.k)            0.001273\n",
       "8                                           HCP            0.000931\n",
       "6                                           BCC            0.000823\n",
       "13                                        gamma            0.000616\n",
       "12                                         beta            0.000128\n",
       "7                                           FCC            0.000000\n",
       "9                                             a            0.000000"
      ]
     },
     "execution_count": 49,
     "metadata": {},
     "output_type": "execute_result"
    }
   ],
   "source": [
    "feature_importance_for_decision_tree.sort_values(by='feature_importance', ascending=False)"
   ]
  },
  {
   "cell_type": "code",
   "execution_count": 50,
   "id": "b1f7dd93",
   "metadata": {},
   "outputs": [
    {
     "data": {
      "text/plain": [
       "Yield point(stress)                            1.000000\n",
       "Melting Point(K)                               0.719648\n",
       "Density(g/cc)                                  0.669648\n",
       "BCC                                            0.602516\n",
       "Atomic/Molecular Weight(u)                     0.590341\n",
       "Strain rate                                    0.345587\n",
       "beta                                           0.017376\n",
       "Grain size(um)                                -0.098738\n",
       "a                                             -0.156735\n",
       "b                                             -0.156735\n",
       "HCP                                           -0.275180\n",
       "gamma                                         -0.278041\n",
       "FCC                                           -0.295374\n",
       "Temperature (K) at which test was performed   -0.432171\n",
       "c                                             -0.441638\n",
       "Heat capacity(KJ/kg.k)                        -0.471592\n",
       "dtype: float64"
      ]
     },
     "execution_count": 50,
     "metadata": {},
     "output_type": "execute_result"
    }
   ],
   "source": [
    "Yield_data.corrwith(Yield_data['Yield point(stress)'], axis=0).sort_values(ascending=False)"
   ]
  },
  {
   "cell_type": "markdown",
   "id": "56308a2b",
   "metadata": {},
   "source": [
    "### To remove a column from data, then check it's RMSE and MAE"
   ]
  },
  {
   "cell_type": "code",
   "execution_count": 51,
   "id": "e5da80e1",
   "metadata": {},
   "outputs": [],
   "source": [
    "column_name = Yield_data.columns\n",
    "dct = {\n",
    "    'column_removed' : [],\n",
    "    'rmse' : [],\n",
    "    'mae' : []\n",
    "}\n",
    "df = pd.DataFrame(dct)\n",
    "for i in range(0, X.shape[1]):\n",
    "    \n",
    "    # Removing the ith column, how much rmse and mae do we get?\n",
    "    Xnew_scaled = np.delete(X_scaled, i, 1)\n",
    "    \n",
    "    reg_tree = DecisionTreeRegressor(max_depth=10, random_state=17)\n",
    "    X_train_scaled, X_test_scaled, y_train, y_test = train_test_split(Xnew_scaled, y, test_size=0.04184, random_state=17)\n",
    "    reg_tree.fit(X=X_train_scaled, y=y_train)\n",
    "    reg_tree_predicted = reg_tree.predict(X_test_scaled)\n",
    "    df.loc[df.shape[0]] = [column_name[i], np.sqrt(mean_squared_error(reg_tree_predicted, y_test)), mean_absolute_error(reg_tree_predicted, y_test)]"
   ]
  },
  {
   "cell_type": "code",
   "execution_count": 52,
   "id": "3c3063ac",
   "metadata": {},
   "outputs": [
    {
     "data": {
      "text/html": [
       "<div>\n",
       "<style scoped>\n",
       "    .dataframe tbody tr th:only-of-type {\n",
       "        vertical-align: middle;\n",
       "    }\n",
       "\n",
       "    .dataframe tbody tr th {\n",
       "        vertical-align: top;\n",
       "    }\n",
       "\n",
       "    .dataframe thead th {\n",
       "        text-align: right;\n",
       "    }\n",
       "</style>\n",
       "<table border=\"1\" class=\"dataframe\">\n",
       "  <thead>\n",
       "    <tr style=\"text-align: right;\">\n",
       "      <th></th>\n",
       "      <th>column_removed</th>\n",
       "      <th>rmse</th>\n",
       "      <th>mae</th>\n",
       "    </tr>\n",
       "  </thead>\n",
       "  <tbody>\n",
       "    <tr>\n",
       "      <th>1</th>\n",
       "      <td>Density(g/cc)</td>\n",
       "      <td>90.315372</td>\n",
       "      <td>51.316750</td>\n",
       "    </tr>\n",
       "    <tr>\n",
       "      <th>3</th>\n",
       "      <td>Melting Point(K)</td>\n",
       "      <td>93.881122</td>\n",
       "      <td>57.309783</td>\n",
       "    </tr>\n",
       "    <tr>\n",
       "      <th>0</th>\n",
       "      <td>Atomic/Molecular Weight(u)</td>\n",
       "      <td>94.912448</td>\n",
       "      <td>57.934160</td>\n",
       "    </tr>\n",
       "    <tr>\n",
       "      <th>5</th>\n",
       "      <td>Heat capacity(KJ/kg.k)</td>\n",
       "      <td>98.700208</td>\n",
       "      <td>61.092150</td>\n",
       "    </tr>\n",
       "    <tr>\n",
       "      <th>8</th>\n",
       "      <td>HCP</td>\n",
       "      <td>98.700208</td>\n",
       "      <td>61.092150</td>\n",
       "    </tr>\n",
       "    <tr>\n",
       "      <th>12</th>\n",
       "      <td>beta</td>\n",
       "      <td>98.700208</td>\n",
       "      <td>61.092150</td>\n",
       "    </tr>\n",
       "    <tr>\n",
       "      <th>6</th>\n",
       "      <td>BCC</td>\n",
       "      <td>98.700208</td>\n",
       "      <td>61.092150</td>\n",
       "    </tr>\n",
       "    <tr>\n",
       "      <th>7</th>\n",
       "      <td>FCC</td>\n",
       "      <td>98.700208</td>\n",
       "      <td>61.092150</td>\n",
       "    </tr>\n",
       "    <tr>\n",
       "      <th>9</th>\n",
       "      <td>a</td>\n",
       "      <td>98.700208</td>\n",
       "      <td>61.092150</td>\n",
       "    </tr>\n",
       "    <tr>\n",
       "      <th>10</th>\n",
       "      <td>b</td>\n",
       "      <td>98.700208</td>\n",
       "      <td>61.092150</td>\n",
       "    </tr>\n",
       "    <tr>\n",
       "      <th>11</th>\n",
       "      <td>c</td>\n",
       "      <td>98.700208</td>\n",
       "      <td>61.092150</td>\n",
       "    </tr>\n",
       "    <tr>\n",
       "      <th>13</th>\n",
       "      <td>gamma</td>\n",
       "      <td>98.700208</td>\n",
       "      <td>61.092150</td>\n",
       "    </tr>\n",
       "    <tr>\n",
       "      <th>2</th>\n",
       "      <td>Temperature (K) at which test was performed</td>\n",
       "      <td>101.662475</td>\n",
       "      <td>60.710236</td>\n",
       "    </tr>\n",
       "    <tr>\n",
       "      <th>14</th>\n",
       "      <td>Grain size(um)</td>\n",
       "      <td>103.949976</td>\n",
       "      <td>70.957148</td>\n",
       "    </tr>\n",
       "    <tr>\n",
       "      <th>4</th>\n",
       "      <td>Strain rate</td>\n",
       "      <td>189.744202</td>\n",
       "      <td>98.963179</td>\n",
       "    </tr>\n",
       "  </tbody>\n",
       "</table>\n",
       "</div>"
      ],
      "text/plain": [
       "                                 column_removed        rmse        mae\n",
       "1                                 Density(g/cc)   90.315372  51.316750\n",
       "3                              Melting Point(K)   93.881122  57.309783\n",
       "0                    Atomic/Molecular Weight(u)   94.912448  57.934160\n",
       "5                        Heat capacity(KJ/kg.k)   98.700208  61.092150\n",
       "8                                           HCP   98.700208  61.092150\n",
       "12                                         beta   98.700208  61.092150\n",
       "6                                           BCC   98.700208  61.092150\n",
       "7                                           FCC   98.700208  61.092150\n",
       "9                                             a   98.700208  61.092150\n",
       "10                                            b   98.700208  61.092150\n",
       "11                                            c   98.700208  61.092150\n",
       "13                                        gamma   98.700208  61.092150\n",
       "2   Temperature (K) at which test was performed  101.662475  60.710236\n",
       "14                               Grain size(um)  103.949976  70.957148\n",
       "4                                   Strain rate  189.744202  98.963179"
      ]
     },
     "execution_count": 52,
     "metadata": {},
     "output_type": "execute_result"
    }
   ],
   "source": [
    "df.sort_values(by=['rmse', 'mae'])"
   ]
  },
  {
   "cell_type": "markdown",
   "id": "019a3451",
   "metadata": {},
   "source": [
    "### To remove some columns based on correlation coefficients"
   ]
  },
  {
   "cell_type": "code",
   "execution_count": 53,
   "id": "0a67bfd8",
   "metadata": {},
   "outputs": [],
   "source": [
    "temp = Yield_data.corrwith(Yield_data['Yield point(stress)'], axis=0).sort_values(ascending=False)"
   ]
  },
  {
   "cell_type": "code",
   "execution_count": 54,
   "id": "8e2b7b63",
   "metadata": {},
   "outputs": [],
   "source": [
    "Columns_to_have = []\n",
    "for i in range(0, temp.shape[0]):\n",
    "    if(temp.values[i]>-0.25):\n",
    "        Columns_to_have.append(temp.axes[0][i])"
   ]
  },
  {
   "cell_type": "code",
   "execution_count": 55,
   "id": "d2059d5c",
   "metadata": {},
   "outputs": [
    {
     "data": {
      "text/plain": [
       "['Yield point(stress)',\n",
       " 'Melting Point(K)',\n",
       " 'Density(g/cc)',\n",
       " 'BCC',\n",
       " 'Atomic/Molecular Weight(u)',\n",
       " 'Strain rate',\n",
       " 'beta',\n",
       " 'Grain size(um)',\n",
       " 'a',\n",
       " 'b']"
      ]
     },
     "execution_count": 55,
     "metadata": {},
     "output_type": "execute_result"
    }
   ],
   "source": [
    "Columns_to_have"
   ]
  },
  {
   "cell_type": "code",
   "execution_count": 56,
   "id": "76f28949",
   "metadata": {},
   "outputs": [],
   "source": [
    "Yield_data_updated = Yield_data[Columns_to_have]"
   ]
  },
  {
   "cell_type": "code",
   "execution_count": 57,
   "id": "dd4b1e12",
   "metadata": {},
   "outputs": [
    {
     "data": {
      "text/html": [
       "<div>\n",
       "<style scoped>\n",
       "    .dataframe tbody tr th:only-of-type {\n",
       "        vertical-align: middle;\n",
       "    }\n",
       "\n",
       "    .dataframe tbody tr th {\n",
       "        vertical-align: top;\n",
       "    }\n",
       "\n",
       "    .dataframe thead th {\n",
       "        text-align: right;\n",
       "    }\n",
       "</style>\n",
       "<table border=\"1\" class=\"dataframe\">\n",
       "  <thead>\n",
       "    <tr style=\"text-align: right;\">\n",
       "      <th></th>\n",
       "      <th>Yield point(stress)</th>\n",
       "      <th>Melting Point(K)</th>\n",
       "      <th>Density(g/cc)</th>\n",
       "      <th>BCC</th>\n",
       "      <th>Atomic/Molecular Weight(u)</th>\n",
       "      <th>Strain rate</th>\n",
       "      <th>beta</th>\n",
       "      <th>Grain size(um)</th>\n",
       "      <th>a</th>\n",
       "      <th>b</th>\n",
       "    </tr>\n",
       "  </thead>\n",
       "  <tbody>\n",
       "    <tr>\n",
       "      <th>0</th>\n",
       "      <td>884.783</td>\n",
       "      <td>3290.0</td>\n",
       "      <td>16.4</td>\n",
       "      <td>1</td>\n",
       "      <td>180.947</td>\n",
       "      <td>0.001</td>\n",
       "      <td>90</td>\n",
       "      <td>650.0</td>\n",
       "      <td>3.301</td>\n",
       "      <td>3.301</td>\n",
       "    </tr>\n",
       "    <tr>\n",
       "      <th>1</th>\n",
       "      <td>565.217</td>\n",
       "      <td>3290.0</td>\n",
       "      <td>16.4</td>\n",
       "      <td>1</td>\n",
       "      <td>180.947</td>\n",
       "      <td>1300.000</td>\n",
       "      <td>90</td>\n",
       "      <td>650.0</td>\n",
       "      <td>3.301</td>\n",
       "      <td>3.301</td>\n",
       "    </tr>\n",
       "  </tbody>\n",
       "</table>\n",
       "</div>"
      ],
      "text/plain": [
       "   Yield point(stress)  Melting Point(K)  Density(g/cc)  BCC  \\\n",
       "0              884.783            3290.0           16.4    1   \n",
       "1              565.217            3290.0           16.4    1   \n",
       "\n",
       "   Atomic/Molecular Weight(u)  Strain rate  beta  Grain size(um)      a      b  \n",
       "0                     180.947        0.001    90           650.0  3.301  3.301  \n",
       "1                     180.947     1300.000    90           650.0  3.301  3.301  "
      ]
     },
     "execution_count": 57,
     "metadata": {},
     "output_type": "execute_result"
    }
   ],
   "source": [
    "Yield_data_updated.head(2)"
   ]
  },
  {
   "cell_type": "code",
   "execution_count": 58,
   "id": "9a654d99",
   "metadata": {},
   "outputs": [],
   "source": [
    "X_updated = Yield_data_updated.iloc[:, 1:].values\n",
    "y_updated = Yield_data_updated.iloc[:, 0].values"
   ]
  },
  {
   "cell_type": "code",
   "execution_count": 59,
   "id": "affbf1ba",
   "metadata": {},
   "outputs": [],
   "source": [
    "from sklearn.preprocessing import StandardScaler\n",
    "standard_scaler = StandardScaler()\n",
    "X_scaled_updated = standard_scaler.fit_transform(X_updated)\n",
    "from sklearn.model_selection import train_test_split\n",
    "X_train_updated, X_test_updated, y_train_updated, y_test_updated = train_test_split(X_scaled_updated, y_updated, test_size=0.04184, random_state=17) "
   ]
  },
  {
   "cell_type": "code",
   "execution_count": 60,
   "id": "4f76b536",
   "metadata": {},
   "outputs": [
    {
     "data": {
      "text/plain": [
       "((229, 9), (10, 9), (229,), (10,))"
      ]
     },
     "execution_count": 60,
     "metadata": {},
     "output_type": "execute_result"
    }
   ],
   "source": [
    "X_train_updated.shape, X_test_updated.shape, y_train_updated.shape, y_test_updated.shape"
   ]
  },
  {
   "cell_type": "code",
   "execution_count": 61,
   "id": "147d8c53",
   "metadata": {},
   "outputs": [],
   "source": [
    "reg_tree = DecisionTreeRegressor(max_depth=10, random_state=17)\n",
    "reg_tree.fit(X_train_updated, y_train_updated)\n",
    "reg_tree_pred_updated = reg_tree.predict(X_test_updated)"
   ]
  },
  {
   "cell_type": "code",
   "execution_count": 62,
   "id": "e8d53cc9",
   "metadata": {},
   "outputs": [
    {
     "data": {
      "text/plain": [
       "101.66247543911919"
      ]
     },
     "execution_count": 62,
     "metadata": {},
     "output_type": "execute_result"
    }
   ],
   "source": [
    "np.sqrt(mean_squared_error(y_test,reg_tree_pred_updated))"
   ]
  },
  {
   "cell_type": "code",
   "execution_count": 63,
   "id": "d0156094",
   "metadata": {},
   "outputs": [
    {
     "data": {
      "text/plain": [
       "60.71023611111109"
      ]
     },
     "execution_count": 63,
     "metadata": {},
     "output_type": "execute_result"
    }
   ],
   "source": [
    "mean_absolute_error(y_test, reg_tree_pred_updated)"
   ]
  },
  {
   "cell_type": "code",
   "execution_count": 64,
   "id": "3a0d6782",
   "metadata": {},
   "outputs": [],
   "source": [
    "yield_df = pd.DataFrame({\n",
    "    'y_test_yield_point' : y_test,\n",
    "    'y_predicted_yield_point' : reg_tree_pred_updated\n",
    "})"
   ]
  },
  {
   "cell_type": "code",
   "execution_count": 65,
   "id": "a09e2330",
   "metadata": {},
   "outputs": [
    {
     "data": {
      "text/html": [
       "<div>\n",
       "<style scoped>\n",
       "    .dataframe tbody tr th:only-of-type {\n",
       "        vertical-align: middle;\n",
       "    }\n",
       "\n",
       "    .dataframe tbody tr th {\n",
       "        vertical-align: top;\n",
       "    }\n",
       "\n",
       "    .dataframe thead th {\n",
       "        text-align: right;\n",
       "    }\n",
       "</style>\n",
       "<table border=\"1\" class=\"dataframe\">\n",
       "  <thead>\n",
       "    <tr style=\"text-align: right;\">\n",
       "      <th></th>\n",
       "      <th>y_test_yield_point</th>\n",
       "      <th>y_predicted_yield_point</th>\n",
       "    </tr>\n",
       "  </thead>\n",
       "  <tbody>\n",
       "    <tr>\n",
       "      <th>0</th>\n",
       "      <td>793.083</td>\n",
       "      <td>567.300000</td>\n",
       "    </tr>\n",
       "    <tr>\n",
       "      <th>1</th>\n",
       "      <td>25.213</td>\n",
       "      <td>25.920250</td>\n",
       "    </tr>\n",
       "    <tr>\n",
       "      <th>2</th>\n",
       "      <td>2483.806</td>\n",
       "      <td>2281.135000</td>\n",
       "    </tr>\n",
       "    <tr>\n",
       "      <th>3</th>\n",
       "      <td>123.467</td>\n",
       "      <td>117.797714</td>\n",
       "    </tr>\n",
       "    <tr>\n",
       "      <th>4</th>\n",
       "      <td>248.003</td>\n",
       "      <td>213.933286</td>\n",
       "    </tr>\n",
       "    <tr>\n",
       "      <th>5</th>\n",
       "      <td>100.709</td>\n",
       "      <td>73.759000</td>\n",
       "    </tr>\n",
       "    <tr>\n",
       "      <th>6</th>\n",
       "      <td>30.527</td>\n",
       "      <td>39.068111</td>\n",
       "    </tr>\n",
       "    <tr>\n",
       "      <th>7</th>\n",
       "      <td>25.361</td>\n",
       "      <td>30.371500</td>\n",
       "    </tr>\n",
       "    <tr>\n",
       "      <th>8</th>\n",
       "      <td>490.876</td>\n",
       "      <td>394.546000</td>\n",
       "    </tr>\n",
       "    <tr>\n",
       "      <th>9</th>\n",
       "      <td>5.094</td>\n",
       "      <td>6.464500</td>\n",
       "    </tr>\n",
       "  </tbody>\n",
       "</table>\n",
       "</div>"
      ],
      "text/plain": [
       "   y_test_yield_point  y_predicted_yield_point\n",
       "0             793.083               567.300000\n",
       "1              25.213                25.920250\n",
       "2            2483.806              2281.135000\n",
       "3             123.467               117.797714\n",
       "4             248.003               213.933286\n",
       "5             100.709                73.759000\n",
       "6              30.527                39.068111\n",
       "7              25.361                30.371500\n",
       "8             490.876               394.546000\n",
       "9               5.094                 6.464500"
      ]
     },
     "execution_count": 65,
     "metadata": {},
     "output_type": "execute_result"
    }
   ],
   "source": [
    "yield_df"
   ]
  },
  {
   "cell_type": "code",
   "execution_count": 66,
   "id": "631b8b73",
   "metadata": {},
   "outputs": [],
   "source": [
    "r2 = r2_score(y_test, reg_tree_pred_updated)"
   ]
  },
  {
   "cell_type": "code",
   "execution_count": 67,
   "id": "fe9c2c54",
   "metadata": {},
   "outputs": [
    {
     "data": {
      "text/plain": [
       "0.9803393060849939"
      ]
     },
     "execution_count": 67,
     "metadata": {},
     "output_type": "execute_result"
    }
   ],
   "source": [
    "r2"
   ]
  },
  {
   "cell_type": "markdown",
   "id": "48c3f2ff",
   "metadata": {},
   "source": [
    "### RandomForestRegressor Model"
   ]
  },
  {
   "cell_type": "code",
   "execution_count": 68,
   "id": "72a0d9bd",
   "metadata": {},
   "outputs": [],
   "source": [
    "from sklearn.ensemble import RandomForestRegressor\n",
    "rf = RandomForestRegressor(n_estimators=25, random_state=17)"
   ]
  },
  {
   "cell_type": "code",
   "execution_count": 69,
   "id": "50013eba",
   "metadata": {},
   "outputs": [
    {
     "data": {
      "text/plain": [
       "array([184.05305505,  99.21575329, 163.96791493, 149.69110406,\n",
       "       112.92511785])"
      ]
     },
     "execution_count": 69,
     "metadata": {},
     "output_type": "execute_result"
    }
   ],
   "source": [
    "(-1)*cross_val_score(rf, X_train, y_train, scoring='neg_root_mean_squared_error', cv=5)"
   ]
  },
  {
   "cell_type": "code",
   "execution_count": 70,
   "id": "1b8c4b03",
   "metadata": {},
   "outputs": [
    {
     "name": "stdout",
     "output_type": "stream",
     "text": [
      "141.9705890334352\n"
     ]
    }
   ],
   "source": [
    "print(np.mean((-1)*cross_val_score(rf, X_train, y_train, scoring='neg_root_mean_squared_error', cv=5)))"
   ]
  },
  {
   "cell_type": "code",
   "execution_count": 71,
   "id": "4e6b3736",
   "metadata": {},
   "outputs": [
    {
     "data": {
      "text/plain": [
       "RandomForestRegressor(n_estimators=25, random_state=17)"
      ]
     },
     "execution_count": 71,
     "metadata": {},
     "output_type": "execute_result"
    }
   ],
   "source": [
    "rf.fit(X_train, y_train)"
   ]
  },
  {
   "cell_type": "code",
   "execution_count": 72,
   "id": "b37b68a5",
   "metadata": {},
   "outputs": [],
   "source": [
    "rf_pred = rf.predict(X_test)"
   ]
  },
  {
   "cell_type": "code",
   "execution_count": 73,
   "id": "96c4810d",
   "metadata": {},
   "outputs": [
    {
     "data": {
      "text/plain": [
       "148.2367553411467"
      ]
     },
     "execution_count": 73,
     "metadata": {},
     "output_type": "execute_result"
    }
   ],
   "source": [
    "np.sqrt(mean_squared_error(y_test,rf_pred))"
   ]
  },
  {
   "cell_type": "code",
   "execution_count": 74,
   "id": "46f4f42a",
   "metadata": {},
   "outputs": [
    {
     "data": {
      "text/plain": [
       "68.58780133333323"
      ]
     },
     "execution_count": 74,
     "metadata": {},
     "output_type": "execute_result"
    }
   ],
   "source": [
    "mean_absolute_error(y_test, rf_pred)"
   ]
  },
  {
   "cell_type": "code",
   "execution_count": 75,
   "id": "b671f7a7",
   "metadata": {},
   "outputs": [],
   "source": [
    "yield_df = pd.DataFrame({\n",
    "    'y_test_yield_point' : y_test,\n",
    "    'y_predicted_yield_point' : rf_pred\n",
    "})"
   ]
  },
  {
   "cell_type": "code",
   "execution_count": 76,
   "id": "73921b04",
   "metadata": {},
   "outputs": [
    {
     "data": {
      "text/html": [
       "<div>\n",
       "<style scoped>\n",
       "    .dataframe tbody tr th:only-of-type {\n",
       "        vertical-align: middle;\n",
       "    }\n",
       "\n",
       "    .dataframe tbody tr th {\n",
       "        vertical-align: top;\n",
       "    }\n",
       "\n",
       "    .dataframe thead th {\n",
       "        text-align: right;\n",
       "    }\n",
       "</style>\n",
       "<table border=\"1\" class=\"dataframe\">\n",
       "  <thead>\n",
       "    <tr style=\"text-align: right;\">\n",
       "      <th></th>\n",
       "      <th>y_test_yield_point</th>\n",
       "      <th>y_predicted_yield_point</th>\n",
       "    </tr>\n",
       "  </thead>\n",
       "  <tbody>\n",
       "    <tr>\n",
       "      <th>0</th>\n",
       "      <td>793.083</td>\n",
       "      <td>622.743640</td>\n",
       "    </tr>\n",
       "    <tr>\n",
       "      <th>1</th>\n",
       "      <td>25.213</td>\n",
       "      <td>27.252960</td>\n",
       "    </tr>\n",
       "    <tr>\n",
       "      <th>2</th>\n",
       "      <td>2483.806</td>\n",
       "      <td>2049.022360</td>\n",
       "    </tr>\n",
       "    <tr>\n",
       "      <th>3</th>\n",
       "      <td>123.467</td>\n",
       "      <td>131.957253</td>\n",
       "    </tr>\n",
       "    <tr>\n",
       "      <th>4</th>\n",
       "      <td>248.003</td>\n",
       "      <td>263.514480</td>\n",
       "    </tr>\n",
       "    <tr>\n",
       "      <th>5</th>\n",
       "      <td>100.709</td>\n",
       "      <td>94.595800</td>\n",
       "    </tr>\n",
       "    <tr>\n",
       "      <th>6</th>\n",
       "      <td>30.527</td>\n",
       "      <td>40.404240</td>\n",
       "    </tr>\n",
       "    <tr>\n",
       "      <th>7</th>\n",
       "      <td>25.361</td>\n",
       "      <td>26.464760</td>\n",
       "    </tr>\n",
       "    <tr>\n",
       "      <th>8</th>\n",
       "      <td>490.876</td>\n",
       "      <td>455.811520</td>\n",
       "    </tr>\n",
       "    <tr>\n",
       "      <th>9</th>\n",
       "      <td>5.094</td>\n",
       "      <td>7.648640</td>\n",
       "    </tr>\n",
       "  </tbody>\n",
       "</table>\n",
       "</div>"
      ],
      "text/plain": [
       "   y_test_yield_point  y_predicted_yield_point\n",
       "0             793.083               622.743640\n",
       "1              25.213                27.252960\n",
       "2            2483.806              2049.022360\n",
       "3             123.467               131.957253\n",
       "4             248.003               263.514480\n",
       "5             100.709                94.595800\n",
       "6              30.527                40.404240\n",
       "7              25.361                26.464760\n",
       "8             490.876               455.811520\n",
       "9               5.094                 7.648640"
      ]
     },
     "execution_count": 76,
     "metadata": {},
     "output_type": "execute_result"
    }
   ],
   "source": [
    "yield_df"
   ]
  },
  {
   "cell_type": "code",
   "execution_count": 77,
   "id": "97c4b10c",
   "metadata": {},
   "outputs": [],
   "source": [
    "r2 = r2_score(y_test, rf_pred)"
   ]
  },
  {
   "cell_type": "code",
   "execution_count": 78,
   "id": "dd621adc",
   "metadata": {},
   "outputs": [
    {
     "data": {
      "text/plain": [
       "0.9581987487290168"
      ]
     },
     "execution_count": 78,
     "metadata": {},
     "output_type": "execute_result"
    }
   ],
   "source": [
    "r2"
   ]
  },
  {
   "cell_type": "markdown",
   "id": "02a2d8bc",
   "metadata": {},
   "source": [
    "### Feature importance for RandomForestRegressor"
   ]
  },
  {
   "cell_type": "code",
   "execution_count": 79,
   "id": "16cfaa09",
   "metadata": {},
   "outputs": [],
   "source": [
    "dct = {\n",
    "    'column_name' : [],\n",
    "    'feature_importance' : []\n",
    "}\n",
    "feature_importance_for_random_forest = pd.DataFrame(dct)\n",
    "for i in range(0, 15):\n",
    "    feature_importance_for_random_forest.loc[feature_importance_for_random_forest.shape[0]] = [Yield_data.columns[i], rf.feature_importances_[i]]"
   ]
  },
  {
   "cell_type": "code",
   "execution_count": 80,
   "id": "835c079f",
   "metadata": {},
   "outputs": [
    {
     "data": {
      "text/html": [
       "<div>\n",
       "<style scoped>\n",
       "    .dataframe tbody tr th:only-of-type {\n",
       "        vertical-align: middle;\n",
       "    }\n",
       "\n",
       "    .dataframe tbody tr th {\n",
       "        vertical-align: top;\n",
       "    }\n",
       "\n",
       "    .dataframe thead th {\n",
       "        text-align: right;\n",
       "    }\n",
       "</style>\n",
       "<table border=\"1\" class=\"dataframe\">\n",
       "  <thead>\n",
       "    <tr style=\"text-align: right;\">\n",
       "      <th></th>\n",
       "      <th>column_name</th>\n",
       "      <th>feature_importance</th>\n",
       "    </tr>\n",
       "  </thead>\n",
       "  <tbody>\n",
       "    <tr>\n",
       "      <th>1</th>\n",
       "      <td>Density(g/cc)</td>\n",
       "      <td>0.704506</td>\n",
       "    </tr>\n",
       "    <tr>\n",
       "      <th>3</th>\n",
       "      <td>Melting Point(K)</td>\n",
       "      <td>0.098105</td>\n",
       "    </tr>\n",
       "    <tr>\n",
       "      <th>2</th>\n",
       "      <td>Temperature (K) at which test was performed</td>\n",
       "      <td>0.068051</td>\n",
       "    </tr>\n",
       "    <tr>\n",
       "      <th>4</th>\n",
       "      <td>Strain rate</td>\n",
       "      <td>0.040985</td>\n",
       "    </tr>\n",
       "    <tr>\n",
       "      <th>11</th>\n",
       "      <td>c</td>\n",
       "      <td>0.033426</td>\n",
       "    </tr>\n",
       "    <tr>\n",
       "      <th>14</th>\n",
       "      <td>Grain size(um)</td>\n",
       "      <td>0.020177</td>\n",
       "    </tr>\n",
       "    <tr>\n",
       "      <th>9</th>\n",
       "      <td>a</td>\n",
       "      <td>0.010041</td>\n",
       "    </tr>\n",
       "    <tr>\n",
       "      <th>10</th>\n",
       "      <td>b</td>\n",
       "      <td>0.008772</td>\n",
       "    </tr>\n",
       "    <tr>\n",
       "      <th>0</th>\n",
       "      <td>Atomic/Molecular Weight(u)</td>\n",
       "      <td>0.007863</td>\n",
       "    </tr>\n",
       "    <tr>\n",
       "      <th>5</th>\n",
       "      <td>Heat capacity(KJ/kg.k)</td>\n",
       "      <td>0.005576</td>\n",
       "    </tr>\n",
       "    <tr>\n",
       "      <th>7</th>\n",
       "      <td>FCC</td>\n",
       "      <td>0.000638</td>\n",
       "    </tr>\n",
       "    <tr>\n",
       "      <th>6</th>\n",
       "      <td>BCC</td>\n",
       "      <td>0.000559</td>\n",
       "    </tr>\n",
       "    <tr>\n",
       "      <th>13</th>\n",
       "      <td>gamma</td>\n",
       "      <td>0.000476</td>\n",
       "    </tr>\n",
       "    <tr>\n",
       "      <th>12</th>\n",
       "      <td>beta</td>\n",
       "      <td>0.000417</td>\n",
       "    </tr>\n",
       "    <tr>\n",
       "      <th>8</th>\n",
       "      <td>HCP</td>\n",
       "      <td>0.000410</td>\n",
       "    </tr>\n",
       "  </tbody>\n",
       "</table>\n",
       "</div>"
      ],
      "text/plain": [
       "                                    column_name  feature_importance\n",
       "1                                 Density(g/cc)            0.704506\n",
       "3                              Melting Point(K)            0.098105\n",
       "2   Temperature (K) at which test was performed            0.068051\n",
       "4                                   Strain rate            0.040985\n",
       "11                                            c            0.033426\n",
       "14                               Grain size(um)            0.020177\n",
       "9                                             a            0.010041\n",
       "10                                            b            0.008772\n",
       "0                    Atomic/Molecular Weight(u)            0.007863\n",
       "5                        Heat capacity(KJ/kg.k)            0.005576\n",
       "7                                           FCC            0.000638\n",
       "6                                           BCC            0.000559\n",
       "13                                        gamma            0.000476\n",
       "12                                         beta            0.000417\n",
       "8                                           HCP            0.000410"
      ]
     },
     "execution_count": 80,
     "metadata": {},
     "output_type": "execute_result"
    }
   ],
   "source": [
    "feature_importance_for_random_forest.sort_values(by='feature_importance', ascending=False)"
   ]
  },
  {
   "cell_type": "markdown",
   "id": "cdd1fe48",
   "metadata": {},
   "source": [
    "### To remove a column from data, then check it's RMSE and MAE"
   ]
  },
  {
   "cell_type": "code",
   "execution_count": 81,
   "id": "4d89b154",
   "metadata": {},
   "outputs": [],
   "source": [
    "column_name = Yield_data.columns\n",
    "dct = {\n",
    "    'column_removed' : [],\n",
    "    'rmse' : [],\n",
    "    'mae' : []\n",
    "}\n",
    "df = pd.DataFrame(dct)\n",
    "for i in range(0, X.shape[1]):\n",
    "    \n",
    "    # Removing the ith column, how much rmse and mae do we get?\n",
    "    Xnew_scaled = np.delete(X_scaled, i, 1)\n",
    "    \n",
    "    rf = RandomForestRegressor(n_estimators=25, random_state=17)\n",
    "    X_train_scaled, X_test_scaled, y_train, y_test = train_test_split(Xnew_scaled, y, test_size=0.04184, random_state=17)\n",
    "    rf.fit(X=X_train_scaled, y=y_train)\n",
    "    rf_predicted = rf.predict(X_test_scaled)\n",
    "    df.loc[df.shape[0]] = [column_name[i], np.sqrt(mean_squared_error(rf_predicted, y_test)), mean_absolute_error(rf_predicted, y_test)]"
   ]
  },
  {
   "cell_type": "code",
   "execution_count": 82,
   "id": "40fbe6ec",
   "metadata": {},
   "outputs": [
    {
     "data": {
      "text/html": [
       "<div>\n",
       "<style scoped>\n",
       "    .dataframe tbody tr th:only-of-type {\n",
       "        vertical-align: middle;\n",
       "    }\n",
       "\n",
       "    .dataframe tbody tr th {\n",
       "        vertical-align: top;\n",
       "    }\n",
       "\n",
       "    .dataframe thead th {\n",
       "        text-align: right;\n",
       "    }\n",
       "</style>\n",
       "<table border=\"1\" class=\"dataframe\">\n",
       "  <thead>\n",
       "    <tr style=\"text-align: right;\">\n",
       "      <th></th>\n",
       "      <th>column_removed</th>\n",
       "      <th>rmse</th>\n",
       "      <th>mae</th>\n",
       "    </tr>\n",
       "  </thead>\n",
       "  <tbody>\n",
       "    <tr>\n",
       "      <th>1</th>\n",
       "      <td>Density(g/cc)</td>\n",
       "      <td>147.670920</td>\n",
       "      <td>66.558650</td>\n",
       "    </tr>\n",
       "    <tr>\n",
       "      <th>12</th>\n",
       "      <td>beta</td>\n",
       "      <td>148.590092</td>\n",
       "      <td>66.612950</td>\n",
       "    </tr>\n",
       "    <tr>\n",
       "      <th>14</th>\n",
       "      <td>Grain size(um)</td>\n",
       "      <td>149.019019</td>\n",
       "      <td>73.008389</td>\n",
       "    </tr>\n",
       "    <tr>\n",
       "      <th>8</th>\n",
       "      <td>HCP</td>\n",
       "      <td>149.412989</td>\n",
       "      <td>67.152039</td>\n",
       "    </tr>\n",
       "    <tr>\n",
       "      <th>11</th>\n",
       "      <td>c</td>\n",
       "      <td>151.423634</td>\n",
       "      <td>65.212294</td>\n",
       "    </tr>\n",
       "    <tr>\n",
       "      <th>3</th>\n",
       "      <td>Melting Point(K)</td>\n",
       "      <td>152.538460</td>\n",
       "      <td>71.877231</td>\n",
       "    </tr>\n",
       "    <tr>\n",
       "      <th>6</th>\n",
       "      <td>BCC</td>\n",
       "      <td>153.232547</td>\n",
       "      <td>67.952474</td>\n",
       "    </tr>\n",
       "    <tr>\n",
       "      <th>9</th>\n",
       "      <td>a</td>\n",
       "      <td>153.612484</td>\n",
       "      <td>68.812817</td>\n",
       "    </tr>\n",
       "    <tr>\n",
       "      <th>10</th>\n",
       "      <td>b</td>\n",
       "      <td>153.612484</td>\n",
       "      <td>68.812817</td>\n",
       "    </tr>\n",
       "    <tr>\n",
       "      <th>13</th>\n",
       "      <td>gamma</td>\n",
       "      <td>153.827577</td>\n",
       "      <td>68.332446</td>\n",
       "    </tr>\n",
       "    <tr>\n",
       "      <th>0</th>\n",
       "      <td>Atomic/Molecular Weight(u)</td>\n",
       "      <td>154.670545</td>\n",
       "      <td>71.060025</td>\n",
       "    </tr>\n",
       "    <tr>\n",
       "      <th>7</th>\n",
       "      <td>FCC</td>\n",
       "      <td>157.086416</td>\n",
       "      <td>69.352541</td>\n",
       "    </tr>\n",
       "    <tr>\n",
       "      <th>5</th>\n",
       "      <td>Heat capacity(KJ/kg.k)</td>\n",
       "      <td>158.214281</td>\n",
       "      <td>70.185889</td>\n",
       "    </tr>\n",
       "    <tr>\n",
       "      <th>2</th>\n",
       "      <td>Temperature (K) at which test was performed</td>\n",
       "      <td>160.770479</td>\n",
       "      <td>85.822763</td>\n",
       "    </tr>\n",
       "    <tr>\n",
       "      <th>4</th>\n",
       "      <td>Strain rate</td>\n",
       "      <td>188.564802</td>\n",
       "      <td>98.591310</td>\n",
       "    </tr>\n",
       "  </tbody>\n",
       "</table>\n",
       "</div>"
      ],
      "text/plain": [
       "                                 column_removed        rmse        mae\n",
       "1                                 Density(g/cc)  147.670920  66.558650\n",
       "12                                         beta  148.590092  66.612950\n",
       "14                               Grain size(um)  149.019019  73.008389\n",
       "8                                           HCP  149.412989  67.152039\n",
       "11                                            c  151.423634  65.212294\n",
       "3                              Melting Point(K)  152.538460  71.877231\n",
       "6                                           BCC  153.232547  67.952474\n",
       "9                                             a  153.612484  68.812817\n",
       "10                                            b  153.612484  68.812817\n",
       "13                                        gamma  153.827577  68.332446\n",
       "0                    Atomic/Molecular Weight(u)  154.670545  71.060025\n",
       "7                                           FCC  157.086416  69.352541\n",
       "5                        Heat capacity(KJ/kg.k)  158.214281  70.185889\n",
       "2   Temperature (K) at which test was performed  160.770479  85.822763\n",
       "4                                   Strain rate  188.564802  98.591310"
      ]
     },
     "execution_count": 82,
     "metadata": {},
     "output_type": "execute_result"
    }
   ],
   "source": [
    "df.sort_values(by=['rmse', 'mae'])"
   ]
  },
  {
   "cell_type": "markdown",
   "id": "564bf9eb",
   "metadata": {},
   "source": [
    "### To remove some columns based on correlation coefficients"
   ]
  },
  {
   "cell_type": "code",
   "execution_count": 83,
   "id": "6742236e",
   "metadata": {},
   "outputs": [],
   "source": [
    "rf = RandomForestRegressor(n_estimators=25, random_state=17)\n",
    "rf.fit(X_train_updated, y_train_updated)\n",
    "rf_pred_updated = rf.predict(X_test_updated)"
   ]
  },
  {
   "cell_type": "code",
   "execution_count": 84,
   "id": "00aa6d9c",
   "metadata": {},
   "outputs": [
    {
     "data": {
      "text/plain": [
       "158.30318137426895"
      ]
     },
     "execution_count": 84,
     "metadata": {},
     "output_type": "execute_result"
    }
   ],
   "source": [
    "np.sqrt(mean_squared_error(y_test,rf_pred_updated))"
   ]
  },
  {
   "cell_type": "code",
   "execution_count": 85,
   "id": "1587d312",
   "metadata": {},
   "outputs": [
    {
     "data": {
      "text/plain": [
       "84.93550694812953"
      ]
     },
     "execution_count": 85,
     "metadata": {},
     "output_type": "execute_result"
    }
   ],
   "source": [
    "mean_absolute_error(y_test, rf_pred_updated)"
   ]
  },
  {
   "cell_type": "code",
   "execution_count": 86,
   "id": "90db8432",
   "metadata": {},
   "outputs": [],
   "source": [
    "yield_df = pd.DataFrame({\n",
    "    'y_test_yield_point' : y_test,\n",
    "    'y_predicted_yield_point' : rf_pred_updated\n",
    "})"
   ]
  },
  {
   "cell_type": "code",
   "execution_count": 87,
   "id": "07e9f631",
   "metadata": {},
   "outputs": [
    {
     "data": {
      "text/html": [
       "<div>\n",
       "<style scoped>\n",
       "    .dataframe tbody tr th:only-of-type {\n",
       "        vertical-align: middle;\n",
       "    }\n",
       "\n",
       "    .dataframe tbody tr th {\n",
       "        vertical-align: top;\n",
       "    }\n",
       "\n",
       "    .dataframe thead th {\n",
       "        text-align: right;\n",
       "    }\n",
       "</style>\n",
       "<table border=\"1\" class=\"dataframe\">\n",
       "  <thead>\n",
       "    <tr style=\"text-align: right;\">\n",
       "      <th></th>\n",
       "      <th>y_test_yield_point</th>\n",
       "      <th>y_predicted_yield_point</th>\n",
       "    </tr>\n",
       "  </thead>\n",
       "  <tbody>\n",
       "    <tr>\n",
       "      <th>0</th>\n",
       "      <td>793.083</td>\n",
       "      <td>579.803890</td>\n",
       "    </tr>\n",
       "    <tr>\n",
       "      <th>1</th>\n",
       "      <td>25.213</td>\n",
       "      <td>26.078295</td>\n",
       "    </tr>\n",
       "    <tr>\n",
       "      <th>2</th>\n",
       "      <td>2483.806</td>\n",
       "      <td>2044.599320</td>\n",
       "    </tr>\n",
       "    <tr>\n",
       "      <th>3</th>\n",
       "      <td>123.467</td>\n",
       "      <td>109.153542</td>\n",
       "    </tr>\n",
       "    <tr>\n",
       "      <th>4</th>\n",
       "      <td>248.003</td>\n",
       "      <td>221.862426</td>\n",
       "    </tr>\n",
       "    <tr>\n",
       "      <th>5</th>\n",
       "      <td>100.709</td>\n",
       "      <td>146.476640</td>\n",
       "    </tr>\n",
       "    <tr>\n",
       "      <th>6</th>\n",
       "      <td>30.527</td>\n",
       "      <td>37.751219</td>\n",
       "    </tr>\n",
       "    <tr>\n",
       "      <th>7</th>\n",
       "      <td>25.361</td>\n",
       "      <td>30.816839</td>\n",
       "    </tr>\n",
       "    <tr>\n",
       "      <th>8</th>\n",
       "      <td>490.876</td>\n",
       "      <td>395.269183</td>\n",
       "    </tr>\n",
       "    <tr>\n",
       "      <th>9</th>\n",
       "      <td>5.094</td>\n",
       "      <td>6.589437</td>\n",
       "    </tr>\n",
       "  </tbody>\n",
       "</table>\n",
       "</div>"
      ],
      "text/plain": [
       "   y_test_yield_point  y_predicted_yield_point\n",
       "0             793.083               579.803890\n",
       "1              25.213                26.078295\n",
       "2            2483.806              2044.599320\n",
       "3             123.467               109.153542\n",
       "4             248.003               221.862426\n",
       "5             100.709               146.476640\n",
       "6              30.527                37.751219\n",
       "7              25.361                30.816839\n",
       "8             490.876               395.269183\n",
       "9               5.094                 6.589437"
      ]
     },
     "execution_count": 87,
     "metadata": {},
     "output_type": "execute_result"
    }
   ],
   "source": [
    "yield_df"
   ]
  },
  {
   "cell_type": "code",
   "execution_count": 88,
   "id": "3644cb67",
   "metadata": {},
   "outputs": [],
   "source": [
    "r2 = r2_score(y_test, rf_pred_updated)"
   ]
  },
  {
   "cell_type": "code",
   "execution_count": 89,
   "id": "9bb4b7d0",
   "metadata": {},
   "outputs": [
    {
     "data": {
      "text/plain": [
       "0.9523287250741086"
      ]
     },
     "execution_count": 89,
     "metadata": {},
     "output_type": "execute_result"
    }
   ],
   "source": [
    "r2"
   ]
  },
  {
   "cell_type": "markdown",
   "id": "9a20a675",
   "metadata": {},
   "source": [
    "### Linear Regression Model"
   ]
  },
  {
   "cell_type": "code",
   "execution_count": 90,
   "id": "3c0c38ca",
   "metadata": {},
   "outputs": [],
   "source": [
    "from sklearn.linear_model import LinearRegression\n",
    "lr = LinearRegression()"
   ]
  },
  {
   "cell_type": "code",
   "execution_count": 91,
   "id": "f1bde234",
   "metadata": {},
   "outputs": [
    {
     "data": {
      "text/plain": [
       "array([209.66148558, 235.99685465, 244.44908809, 151.80082319,\n",
       "       330.42805655])"
      ]
     },
     "execution_count": 91,
     "metadata": {},
     "output_type": "execute_result"
    }
   ],
   "source": [
    "(-1)*cross_val_score(lr, X_train, y_train, scoring='neg_root_mean_squared_error', cv=5)"
   ]
  },
  {
   "cell_type": "code",
   "execution_count": 92,
   "id": "b9c8ba7a",
   "metadata": {},
   "outputs": [
    {
     "name": "stdout",
     "output_type": "stream",
     "text": [
      "234.46726161385612\n"
     ]
    }
   ],
   "source": [
    "print(np.mean((-1)*cross_val_score(lr, X_train, y_train, scoring='neg_root_mean_squared_error', cv=5)))"
   ]
  },
  {
   "cell_type": "code",
   "execution_count": 93,
   "id": "d6e0d719",
   "metadata": {},
   "outputs": [
    {
     "data": {
      "text/plain": [
       "LinearRegression()"
      ]
     },
     "execution_count": 93,
     "metadata": {},
     "output_type": "execute_result"
    }
   ],
   "source": [
    "lr.fit(X_train, y_train)"
   ]
  },
  {
   "cell_type": "code",
   "execution_count": 94,
   "id": "6bee0a1f",
   "metadata": {},
   "outputs": [],
   "source": [
    "lr_pred = lr.predict(X_test)"
   ]
  },
  {
   "cell_type": "code",
   "execution_count": 95,
   "id": "1b479f55",
   "metadata": {},
   "outputs": [
    {
     "data": {
      "text/plain": [
       "187.88651652997882"
      ]
     },
     "execution_count": 95,
     "metadata": {},
     "output_type": "execute_result"
    }
   ],
   "source": [
    "np.sqrt(mean_squared_error(y_test, lr_pred))"
   ]
  },
  {
   "cell_type": "code",
   "execution_count": 96,
   "id": "5dfa1111",
   "metadata": {},
   "outputs": [
    {
     "data": {
      "text/plain": [
       "115.69520769416633"
      ]
     },
     "execution_count": 96,
     "metadata": {},
     "output_type": "execute_result"
    }
   ],
   "source": [
    "mean_absolute_error(y_test, lr_pred)"
   ]
  },
  {
   "cell_type": "code",
   "execution_count": 97,
   "id": "9efaeff6",
   "metadata": {},
   "outputs": [],
   "source": [
    "yield_df = pd.DataFrame({\n",
    "    'y_test_yield_point' : y_test,\n",
    "    'y_predicted_yield_point' : lr_pred\n",
    "})"
   ]
  },
  {
   "cell_type": "code",
   "execution_count": 98,
   "id": "312297de",
   "metadata": {},
   "outputs": [
    {
     "data": {
      "text/html": [
       "<div>\n",
       "<style scoped>\n",
       "    .dataframe tbody tr th:only-of-type {\n",
       "        vertical-align: middle;\n",
       "    }\n",
       "\n",
       "    .dataframe tbody tr th {\n",
       "        vertical-align: top;\n",
       "    }\n",
       "\n",
       "    .dataframe thead th {\n",
       "        text-align: right;\n",
       "    }\n",
       "</style>\n",
       "<table border=\"1\" class=\"dataframe\">\n",
       "  <thead>\n",
       "    <tr style=\"text-align: right;\">\n",
       "      <th></th>\n",
       "      <th>y_test_yield_point</th>\n",
       "      <th>y_predicted_yield_point</th>\n",
       "    </tr>\n",
       "  </thead>\n",
       "  <tbody>\n",
       "    <tr>\n",
       "      <th>0</th>\n",
       "      <td>793.083</td>\n",
       "      <td>844.777225</td>\n",
       "    </tr>\n",
       "    <tr>\n",
       "      <th>1</th>\n",
       "      <td>25.213</td>\n",
       "      <td>22.746454</td>\n",
       "    </tr>\n",
       "    <tr>\n",
       "      <th>2</th>\n",
       "      <td>2483.806</td>\n",
       "      <td>1942.132114</td>\n",
       "    </tr>\n",
       "    <tr>\n",
       "      <th>3</th>\n",
       "      <td>123.467</td>\n",
       "      <td>132.236267</td>\n",
       "    </tr>\n",
       "    <tr>\n",
       "      <th>4</th>\n",
       "      <td>248.003</td>\n",
       "      <td>288.318591</td>\n",
       "    </tr>\n",
       "    <tr>\n",
       "      <th>5</th>\n",
       "      <td>100.709</td>\n",
       "      <td>-30.068952</td>\n",
       "    </tr>\n",
       "    <tr>\n",
       "      <th>6</th>\n",
       "      <td>30.527</td>\n",
       "      <td>-52.371795</td>\n",
       "    </tr>\n",
       "    <tr>\n",
       "      <th>7</th>\n",
       "      <td>25.361</td>\n",
       "      <td>-52.379874</td>\n",
       "    </tr>\n",
       "    <tr>\n",
       "      <th>8</th>\n",
       "      <td>490.876</td>\n",
       "      <td>401.401265</td>\n",
       "    </tr>\n",
       "    <tr>\n",
       "      <th>9</th>\n",
       "      <td>5.094</td>\n",
       "      <td>136.234205</td>\n",
       "    </tr>\n",
       "  </tbody>\n",
       "</table>\n",
       "</div>"
      ],
      "text/plain": [
       "   y_test_yield_point  y_predicted_yield_point\n",
       "0             793.083               844.777225\n",
       "1              25.213                22.746454\n",
       "2            2483.806              1942.132114\n",
       "3             123.467               132.236267\n",
       "4             248.003               288.318591\n",
       "5             100.709               -30.068952\n",
       "6              30.527               -52.371795\n",
       "7              25.361               -52.379874\n",
       "8             490.876               401.401265\n",
       "9               5.094               136.234205"
      ]
     },
     "execution_count": 98,
     "metadata": {},
     "output_type": "execute_result"
    }
   ],
   "source": [
    "yield_df"
   ]
  },
  {
   "cell_type": "code",
   "execution_count": 99,
   "id": "24f191cf",
   "metadata": {},
   "outputs": [],
   "source": [
    "r2 = r2_score( y_test,lr_pred)"
   ]
  },
  {
   "cell_type": "code",
   "execution_count": 100,
   "id": "29d19ae1",
   "metadata": {},
   "outputs": [
    {
     "data": {
      "text/plain": [
       "0.9328464911002969"
      ]
     },
     "execution_count": 100,
     "metadata": {},
     "output_type": "execute_result"
    }
   ],
   "source": [
    "r2"
   ]
  },
  {
   "cell_type": "markdown",
   "id": "3d18ff68",
   "metadata": {},
   "source": [
    "### Coefficient for LinearRegression"
   ]
  },
  {
   "cell_type": "code",
   "execution_count": 101,
   "id": "972de22f",
   "metadata": {},
   "outputs": [],
   "source": [
    "dct = {\n",
    "    'column_name' : [],\n",
    "    'feature_importance' : []\n",
    "}\n",
    "Coefficient_for_linear_regression = pd.DataFrame(dct)\n",
    "for i in range(0, 15):\n",
    "    Coefficient_for_linear_regression.loc[Coefficient_for_linear_regression.shape[0]] = [Yield_data.columns[i], lr.coef_[i]]"
   ]
  },
  {
   "cell_type": "code",
   "execution_count": 102,
   "id": "e5dc685c",
   "metadata": {},
   "outputs": [
    {
     "data": {
      "text/html": [
       "<div>\n",
       "<style scoped>\n",
       "    .dataframe tbody tr th:only-of-type {\n",
       "        vertical-align: middle;\n",
       "    }\n",
       "\n",
       "    .dataframe tbody tr th {\n",
       "        vertical-align: top;\n",
       "    }\n",
       "\n",
       "    .dataframe thead th {\n",
       "        text-align: right;\n",
       "    }\n",
       "</style>\n",
       "<table border=\"1\" class=\"dataframe\">\n",
       "  <thead>\n",
       "    <tr style=\"text-align: right;\">\n",
       "      <th></th>\n",
       "      <th>column_name</th>\n",
       "      <th>feature_importance</th>\n",
       "    </tr>\n",
       "  </thead>\n",
       "  <tbody>\n",
       "    <tr>\n",
       "      <th>1</th>\n",
       "      <td>Density(g/cc)</td>\n",
       "      <td>1326.895515</td>\n",
       "    </tr>\n",
       "    <tr>\n",
       "      <th>13</th>\n",
       "      <td>gamma</td>\n",
       "      <td>1008.535474</td>\n",
       "    </tr>\n",
       "    <tr>\n",
       "      <th>3</th>\n",
       "      <td>Melting Point(K)</td>\n",
       "      <td>546.124192</td>\n",
       "    </tr>\n",
       "    <tr>\n",
       "      <th>9</th>\n",
       "      <td>a</td>\n",
       "      <td>470.171275</td>\n",
       "    </tr>\n",
       "    <tr>\n",
       "      <th>10</th>\n",
       "      <td>b</td>\n",
       "      <td>470.171275</td>\n",
       "    </tr>\n",
       "    <tr>\n",
       "      <th>6</th>\n",
       "      <td>BCC</td>\n",
       "      <td>365.544527</td>\n",
       "    </tr>\n",
       "    <tr>\n",
       "      <th>5</th>\n",
       "      <td>Heat capacity(KJ/kg.k)</td>\n",
       "      <td>144.607402</td>\n",
       "    </tr>\n",
       "    <tr>\n",
       "      <th>12</th>\n",
       "      <td>beta</td>\n",
       "      <td>44.200651</td>\n",
       "    </tr>\n",
       "    <tr>\n",
       "      <th>4</th>\n",
       "      <td>Strain rate</td>\n",
       "      <td>25.632322</td>\n",
       "    </tr>\n",
       "    <tr>\n",
       "      <th>11</th>\n",
       "      <td>c</td>\n",
       "      <td>-34.508749</td>\n",
       "    </tr>\n",
       "    <tr>\n",
       "      <th>14</th>\n",
       "      <td>Grain size(um)</td>\n",
       "      <td>-72.700885</td>\n",
       "    </tr>\n",
       "    <tr>\n",
       "      <th>2</th>\n",
       "      <td>Temperature (K) at which test was performed</td>\n",
       "      <td>-134.604528</td>\n",
       "    </tr>\n",
       "    <tr>\n",
       "      <th>7</th>\n",
       "      <td>FCC</td>\n",
       "      <td>-146.688220</td>\n",
       "    </tr>\n",
       "    <tr>\n",
       "      <th>8</th>\n",
       "      <td>HCP</td>\n",
       "      <td>-196.347420</td>\n",
       "    </tr>\n",
       "    <tr>\n",
       "      <th>0</th>\n",
       "      <td>Atomic/Molecular Weight(u)</td>\n",
       "      <td>-1381.918127</td>\n",
       "    </tr>\n",
       "  </tbody>\n",
       "</table>\n",
       "</div>"
      ],
      "text/plain": [
       "                                    column_name  feature_importance\n",
       "1                                 Density(g/cc)         1326.895515\n",
       "13                                        gamma         1008.535474\n",
       "3                              Melting Point(K)          546.124192\n",
       "9                                             a          470.171275\n",
       "10                                            b          470.171275\n",
       "6                                           BCC          365.544527\n",
       "5                        Heat capacity(KJ/kg.k)          144.607402\n",
       "12                                         beta           44.200651\n",
       "4                                   Strain rate           25.632322\n",
       "11                                            c          -34.508749\n",
       "14                               Grain size(um)          -72.700885\n",
       "2   Temperature (K) at which test was performed         -134.604528\n",
       "7                                           FCC         -146.688220\n",
       "8                                           HCP         -196.347420\n",
       "0                    Atomic/Molecular Weight(u)        -1381.918127"
      ]
     },
     "execution_count": 102,
     "metadata": {},
     "output_type": "execute_result"
    }
   ],
   "source": [
    "Coefficient_for_linear_regression.sort_values(by='feature_importance', ascending=False)"
   ]
  },
  {
   "cell_type": "markdown",
   "id": "3a0f6ad2",
   "metadata": {},
   "source": [
    "### To remove a column from data, then check it's RMSE and MAE"
   ]
  },
  {
   "cell_type": "code",
   "execution_count": 103,
   "id": "1acf7927",
   "metadata": {},
   "outputs": [],
   "source": [
    "column_name = Yield_data.columns\n",
    "dct = {\n",
    "    'column_removed' : [],\n",
    "    'rmse' : [],\n",
    "    'mae' : []\n",
    "}\n",
    "df = pd.DataFrame(dct)\n",
    "for i in range(0, X.shape[1]):\n",
    "    \n",
    "    # Removing the ith column, how much rmse and mae do we get?\n",
    "    Xnew_scaled = np.delete(X_scaled, i, 1)\n",
    "    \n",
    "    lr = LinearRegression()\n",
    "    X_train_scaled, X_test_scaled, y_train, y_test = train_test_split(Xnew_scaled, y, test_size=0.04184, random_state=17)\n",
    "    lr.fit(X=X_train_scaled, y=y_train)\n",
    "    lr_predicted = lr.predict(X_test_scaled)\n",
    "    df.loc[df.shape[0]] = [column_name[i], np.sqrt(mean_squared_error(lr_predicted, y_test)), mean_absolute_error(lr_predicted, y_test)]"
   ]
  },
  {
   "cell_type": "code",
   "execution_count": 104,
   "id": "bd2bab7c",
   "metadata": {},
   "outputs": [
    {
     "data": {
      "text/html": [
       "<div>\n",
       "<style scoped>\n",
       "    .dataframe tbody tr th:only-of-type {\n",
       "        vertical-align: middle;\n",
       "    }\n",
       "\n",
       "    .dataframe tbody tr th {\n",
       "        vertical-align: top;\n",
       "    }\n",
       "\n",
       "    .dataframe thead th {\n",
       "        text-align: right;\n",
       "    }\n",
       "</style>\n",
       "<table border=\"1\" class=\"dataframe\">\n",
       "  <thead>\n",
       "    <tr style=\"text-align: right;\">\n",
       "      <th></th>\n",
       "      <th>column_removed</th>\n",
       "      <th>rmse</th>\n",
       "      <th>mae</th>\n",
       "    </tr>\n",
       "  </thead>\n",
       "  <tbody>\n",
       "    <tr>\n",
       "      <th>14</th>\n",
       "      <td>Grain size(um)</td>\n",
       "      <td>174.433725</td>\n",
       "      <td>96.356055</td>\n",
       "    </tr>\n",
       "    <tr>\n",
       "      <th>11</th>\n",
       "      <td>c</td>\n",
       "      <td>187.302405</td>\n",
       "      <td>114.300293</td>\n",
       "    </tr>\n",
       "    <tr>\n",
       "      <th>9</th>\n",
       "      <td>a</td>\n",
       "      <td>187.886517</td>\n",
       "      <td>115.695208</td>\n",
       "    </tr>\n",
       "    <tr>\n",
       "      <th>10</th>\n",
       "      <td>b</td>\n",
       "      <td>187.886517</td>\n",
       "      <td>115.695208</td>\n",
       "    </tr>\n",
       "    <tr>\n",
       "      <th>7</th>\n",
       "      <td>FCC</td>\n",
       "      <td>187.886517</td>\n",
       "      <td>115.695208</td>\n",
       "    </tr>\n",
       "    <tr>\n",
       "      <th>8</th>\n",
       "      <td>HCP</td>\n",
       "      <td>187.886517</td>\n",
       "      <td>115.695208</td>\n",
       "    </tr>\n",
       "    <tr>\n",
       "      <th>6</th>\n",
       "      <td>BCC</td>\n",
       "      <td>187.886517</td>\n",
       "      <td>115.695208</td>\n",
       "    </tr>\n",
       "    <tr>\n",
       "      <th>12</th>\n",
       "      <td>beta</td>\n",
       "      <td>189.034868</td>\n",
       "      <td>117.521812</td>\n",
       "    </tr>\n",
       "    <tr>\n",
       "      <th>5</th>\n",
       "      <td>Heat capacity(KJ/kg.k)</td>\n",
       "      <td>195.738598</td>\n",
       "      <td>105.684185</td>\n",
       "    </tr>\n",
       "    <tr>\n",
       "      <th>4</th>\n",
       "      <td>Strain rate</td>\n",
       "      <td>199.146338</td>\n",
       "      <td>119.168261</td>\n",
       "    </tr>\n",
       "    <tr>\n",
       "      <th>2</th>\n",
       "      <td>Temperature (K) at which test was performed</td>\n",
       "      <td>205.634529</td>\n",
       "      <td>146.874634</td>\n",
       "    </tr>\n",
       "    <tr>\n",
       "      <th>13</th>\n",
       "      <td>gamma</td>\n",
       "      <td>205.915379</td>\n",
       "      <td>107.606998</td>\n",
       "    </tr>\n",
       "    <tr>\n",
       "      <th>0</th>\n",
       "      <td>Atomic/Molecular Weight(u)</td>\n",
       "      <td>269.130048</td>\n",
       "      <td>147.117602</td>\n",
       "    </tr>\n",
       "    <tr>\n",
       "      <th>3</th>\n",
       "      <td>Melting Point(K)</td>\n",
       "      <td>272.691246</td>\n",
       "      <td>168.558313</td>\n",
       "    </tr>\n",
       "    <tr>\n",
       "      <th>1</th>\n",
       "      <td>Density(g/cc)</td>\n",
       "      <td>295.076774</td>\n",
       "      <td>162.313495</td>\n",
       "    </tr>\n",
       "  </tbody>\n",
       "</table>\n",
       "</div>"
      ],
      "text/plain": [
       "                                 column_removed        rmse         mae\n",
       "14                               Grain size(um)  174.433725   96.356055\n",
       "11                                            c  187.302405  114.300293\n",
       "9                                             a  187.886517  115.695208\n",
       "10                                            b  187.886517  115.695208\n",
       "7                                           FCC  187.886517  115.695208\n",
       "8                                           HCP  187.886517  115.695208\n",
       "6                                           BCC  187.886517  115.695208\n",
       "12                                         beta  189.034868  117.521812\n",
       "5                        Heat capacity(KJ/kg.k)  195.738598  105.684185\n",
       "4                                   Strain rate  199.146338  119.168261\n",
       "2   Temperature (K) at which test was performed  205.634529  146.874634\n",
       "13                                        gamma  205.915379  107.606998\n",
       "0                    Atomic/Molecular Weight(u)  269.130048  147.117602\n",
       "3                              Melting Point(K)  272.691246  168.558313\n",
       "1                                 Density(g/cc)  295.076774  162.313495"
      ]
     },
     "execution_count": 104,
     "metadata": {},
     "output_type": "execute_result"
    }
   ],
   "source": [
    "df.sort_values(by=['rmse', 'mae'])"
   ]
  },
  {
   "cell_type": "markdown",
   "id": "0e61c6b8",
   "metadata": {},
   "source": [
    "### To remove some columns based on correlation coefficients"
   ]
  },
  {
   "cell_type": "code",
   "execution_count": 105,
   "id": "5bc477bf",
   "metadata": {},
   "outputs": [],
   "source": [
    "lr = LinearRegression()\n",
    "lr.fit(X_train_updated, y_train_updated)\n",
    "lr_pred_updated = lr.predict(X_test_updated)"
   ]
  },
  {
   "cell_type": "code",
   "execution_count": 106,
   "id": "bce489ee",
   "metadata": {},
   "outputs": [
    {
     "data": {
      "text/plain": [
       "364.2519705340061"
      ]
     },
     "execution_count": 106,
     "metadata": {},
     "output_type": "execute_result"
    }
   ],
   "source": [
    "np.sqrt(mean_squared_error(y_test, lr_pred_updated))"
   ]
  },
  {
   "cell_type": "code",
   "execution_count": 107,
   "id": "845ca5a0",
   "metadata": {},
   "outputs": [
    {
     "data": {
      "text/plain": [
       "205.5625843063423"
      ]
     },
     "execution_count": 107,
     "metadata": {},
     "output_type": "execute_result"
    }
   ],
   "source": [
    "mean_absolute_error(y_test, lr_pred_updated)"
   ]
  },
  {
   "cell_type": "code",
   "execution_count": 108,
   "id": "4bda4e9e",
   "metadata": {},
   "outputs": [],
   "source": [
    "yield_df = pd.DataFrame({\n",
    "    'y_test_yield_point' : y_test,\n",
    "    'y_predicted_yield_point' : lr_pred_updated\n",
    "})"
   ]
  },
  {
   "cell_type": "code",
   "execution_count": 109,
   "id": "89afd12d",
   "metadata": {},
   "outputs": [
    {
     "data": {
      "text/html": [
       "<div>\n",
       "<style scoped>\n",
       "    .dataframe tbody tr th:only-of-type {\n",
       "        vertical-align: middle;\n",
       "    }\n",
       "\n",
       "    .dataframe tbody tr th {\n",
       "        vertical-align: top;\n",
       "    }\n",
       "\n",
       "    .dataframe thead th {\n",
       "        text-align: right;\n",
       "    }\n",
       "</style>\n",
       "<table border=\"1\" class=\"dataframe\">\n",
       "  <thead>\n",
       "    <tr style=\"text-align: right;\">\n",
       "      <th></th>\n",
       "      <th>y_test_yield_point</th>\n",
       "      <th>y_predicted_yield_point</th>\n",
       "    </tr>\n",
       "  </thead>\n",
       "  <tbody>\n",
       "    <tr>\n",
       "      <th>0</th>\n",
       "      <td>793.083</td>\n",
       "      <td>782.518550</td>\n",
       "    </tr>\n",
       "    <tr>\n",
       "      <th>1</th>\n",
       "      <td>25.213</td>\n",
       "      <td>176.931014</td>\n",
       "    </tr>\n",
       "    <tr>\n",
       "      <th>2</th>\n",
       "      <td>2483.806</td>\n",
       "      <td>1397.430147</td>\n",
       "    </tr>\n",
       "    <tr>\n",
       "      <th>3</th>\n",
       "      <td>123.467</td>\n",
       "      <td>154.820458</td>\n",
       "    </tr>\n",
       "    <tr>\n",
       "      <th>4</th>\n",
       "      <td>248.003</td>\n",
       "      <td>177.533273</td>\n",
       "    </tr>\n",
       "    <tr>\n",
       "      <th>5</th>\n",
       "      <td>100.709</td>\n",
       "      <td>329.343702</td>\n",
       "    </tr>\n",
       "    <tr>\n",
       "      <th>6</th>\n",
       "      <td>30.527</td>\n",
       "      <td>176.941633</td>\n",
       "    </tr>\n",
       "    <tr>\n",
       "      <th>7</th>\n",
       "      <td>25.361</td>\n",
       "      <td>176.931980</td>\n",
       "    </tr>\n",
       "    <tr>\n",
       "      <th>8</th>\n",
       "      <td>490.876</td>\n",
       "      <td>352.201162</td>\n",
       "    </tr>\n",
       "    <tr>\n",
       "      <th>9</th>\n",
       "      <td>5.094</td>\n",
       "      <td>44.943189</td>\n",
       "    </tr>\n",
       "  </tbody>\n",
       "</table>\n",
       "</div>"
      ],
      "text/plain": [
       "   y_test_yield_point  y_predicted_yield_point\n",
       "0             793.083               782.518550\n",
       "1              25.213               176.931014\n",
       "2            2483.806              1397.430147\n",
       "3             123.467               154.820458\n",
       "4             248.003               177.533273\n",
       "5             100.709               329.343702\n",
       "6              30.527               176.941633\n",
       "7              25.361               176.931980\n",
       "8             490.876               352.201162\n",
       "9               5.094                44.943189"
      ]
     },
     "execution_count": 109,
     "metadata": {},
     "output_type": "execute_result"
    }
   ],
   "source": [
    "yield_df"
   ]
  },
  {
   "cell_type": "code",
   "execution_count": 110,
   "id": "1e194312",
   "metadata": {},
   "outputs": [],
   "source": [
    "r2 = r2_score(y_test,lr_pred_updated)"
   ]
  },
  {
   "cell_type": "code",
   "execution_count": 111,
   "id": "fb820bce",
   "metadata": {},
   "outputs": [
    {
     "data": {
      "text/plain": [
       "0.7476046781384614"
      ]
     },
     "execution_count": 111,
     "metadata": {},
     "output_type": "execute_result"
    }
   ],
   "source": [
    "r2"
   ]
  },
  {
   "cell_type": "markdown",
   "id": "fbe91b63",
   "metadata": {},
   "source": [
    "### AdaBoostRegressor Model"
   ]
  },
  {
   "cell_type": "code",
   "execution_count": 112,
   "id": "0c6b334a",
   "metadata": {},
   "outputs": [],
   "source": [
    "from sklearn.ensemble import AdaBoostRegressor\n",
    "ada_boost = AdaBoostRegressor(random_state=17)"
   ]
  },
  {
   "cell_type": "code",
   "execution_count": 113,
   "id": "ef84af8f",
   "metadata": {},
   "outputs": [
    {
     "data": {
      "text/plain": [
       "array([191.75894677, 156.87635118, 227.68621709, 185.64883972,\n",
       "       140.84101339])"
      ]
     },
     "execution_count": 113,
     "metadata": {},
     "output_type": "execute_result"
    }
   ],
   "source": [
    "(-1)*cross_val_score(ada_boost, X_train, y_train, scoring='neg_root_mean_squared_error', cv=5)"
   ]
  },
  {
   "cell_type": "code",
   "execution_count": 114,
   "id": "2238b5f4",
   "metadata": {},
   "outputs": [
    {
     "name": "stdout",
     "output_type": "stream",
     "text": [
      "180.5622736299156\n"
     ]
    }
   ],
   "source": [
    "print(np.mean((-1)*cross_val_score(ada_boost, X_train, y_train, scoring='neg_root_mean_squared_error', cv=5)))"
   ]
  },
  {
   "cell_type": "code",
   "execution_count": 115,
   "id": "c4bdd01b",
   "metadata": {},
   "outputs": [
    {
     "data": {
      "text/plain": [
       "AdaBoostRegressor(random_state=17)"
      ]
     },
     "execution_count": 115,
     "metadata": {},
     "output_type": "execute_result"
    }
   ],
   "source": [
    "ada_boost.fit(X_train, y_train)"
   ]
  },
  {
   "cell_type": "code",
   "execution_count": 116,
   "id": "097c4450",
   "metadata": {},
   "outputs": [],
   "source": [
    "ada_boost_pred = ada_boost.predict(X_test)"
   ]
  },
  {
   "cell_type": "code",
   "execution_count": 117,
   "id": "afb7ab75",
   "metadata": {},
   "outputs": [
    {
     "data": {
      "text/plain": [
       "148.3342174296625"
      ]
     },
     "execution_count": 117,
     "metadata": {},
     "output_type": "execute_result"
    }
   ],
   "source": [
    "np.sqrt(mean_squared_error(y_test,ada_boost_pred))"
   ]
  },
  {
   "cell_type": "code",
   "execution_count": 118,
   "id": "6922be11",
   "metadata": {},
   "outputs": [
    {
     "data": {
      "text/plain": [
       "123.99100831481549"
      ]
     },
     "execution_count": 118,
     "metadata": {},
     "output_type": "execute_result"
    }
   ],
   "source": [
    "mean_absolute_error(y_test, ada_boost_pred)"
   ]
  },
  {
   "cell_type": "code",
   "execution_count": 119,
   "id": "ce937f1a",
   "metadata": {},
   "outputs": [],
   "source": [
    "yield_df = pd.DataFrame({\n",
    "    'y_test_yield_point' : y_test,\n",
    "    'y_predicted_yield_point' : ada_boost_pred\n",
    "})"
   ]
  },
  {
   "cell_type": "code",
   "execution_count": 120,
   "id": "e4b1e872",
   "metadata": {},
   "outputs": [
    {
     "data": {
      "text/html": [
       "<div>\n",
       "<style scoped>\n",
       "    .dataframe tbody tr th:only-of-type {\n",
       "        vertical-align: middle;\n",
       "    }\n",
       "\n",
       "    .dataframe tbody tr th {\n",
       "        vertical-align: top;\n",
       "    }\n",
       "\n",
       "    .dataframe thead th {\n",
       "        text-align: right;\n",
       "    }\n",
       "</style>\n",
       "<table border=\"1\" class=\"dataframe\">\n",
       "  <thead>\n",
       "    <tr style=\"text-align: right;\">\n",
       "      <th></th>\n",
       "      <th>y_test_yield_point</th>\n",
       "      <th>y_predicted_yield_point</th>\n",
       "    </tr>\n",
       "  </thead>\n",
       "  <tbody>\n",
       "    <tr>\n",
       "      <th>0</th>\n",
       "      <td>793.083</td>\n",
       "      <td>661.975886</td>\n",
       "    </tr>\n",
       "    <tr>\n",
       "      <th>1</th>\n",
       "      <td>25.213</td>\n",
       "      <td>162.731423</td>\n",
       "    </tr>\n",
       "    <tr>\n",
       "      <th>2</th>\n",
       "      <td>2483.806</td>\n",
       "      <td>2161.306107</td>\n",
       "    </tr>\n",
       "    <tr>\n",
       "      <th>3</th>\n",
       "      <td>123.467</td>\n",
       "      <td>171.679357</td>\n",
       "    </tr>\n",
       "    <tr>\n",
       "      <th>4</th>\n",
       "      <td>248.003</td>\n",
       "      <td>274.099859</td>\n",
       "    </tr>\n",
       "    <tr>\n",
       "      <th>5</th>\n",
       "      <td>100.709</td>\n",
       "      <td>210.199448</td>\n",
       "    </tr>\n",
       "    <tr>\n",
       "      <th>6</th>\n",
       "      <td>30.527</td>\n",
       "      <td>162.731423</td>\n",
       "    </tr>\n",
       "    <tr>\n",
       "      <th>7</th>\n",
       "      <td>25.361</td>\n",
       "      <td>162.731423</td>\n",
       "    </tr>\n",
       "    <tr>\n",
       "      <th>8</th>\n",
       "      <td>490.876</td>\n",
       "      <td>462.051214</td>\n",
       "    </tr>\n",
       "    <tr>\n",
       "      <th>9</th>\n",
       "      <td>5.094</td>\n",
       "      <td>171.679357</td>\n",
       "    </tr>\n",
       "  </tbody>\n",
       "</table>\n",
       "</div>"
      ],
      "text/plain": [
       "   y_test_yield_point  y_predicted_yield_point\n",
       "0             793.083               661.975886\n",
       "1              25.213               162.731423\n",
       "2            2483.806              2161.306107\n",
       "3             123.467               171.679357\n",
       "4             248.003               274.099859\n",
       "5             100.709               210.199448\n",
       "6              30.527               162.731423\n",
       "7              25.361               162.731423\n",
       "8             490.876               462.051214\n",
       "9               5.094               171.679357"
      ]
     },
     "execution_count": 120,
     "metadata": {},
     "output_type": "execute_result"
    }
   ],
   "source": [
    "yield_df"
   ]
  },
  {
   "cell_type": "code",
   "execution_count": 121,
   "id": "04fba8a8",
   "metadata": {},
   "outputs": [],
   "source": [
    " r2 = r2_score(y_test,ada_boost_pred)"
   ]
  },
  {
   "cell_type": "code",
   "execution_count": 122,
   "id": "93854ba6",
   "metadata": {},
   "outputs": [
    {
     "data": {
      "text/plain": [
       "0.9581437640319672"
      ]
     },
     "execution_count": 122,
     "metadata": {},
     "output_type": "execute_result"
    }
   ],
   "source": [
    "r2"
   ]
  },
  {
   "cell_type": "markdown",
   "id": "1887735c",
   "metadata": {},
   "source": [
    "### Feature importance for AdaBoostRegressor"
   ]
  },
  {
   "cell_type": "code",
   "execution_count": 123,
   "id": "ac6f4482",
   "metadata": {},
   "outputs": [],
   "source": [
    "dct = {\n",
    "    'column_name' : [],\n",
    "    'feature_importance' : []\n",
    "}\n",
    "feature_importance_for_ada_boost = pd.DataFrame(dct)\n",
    "for i in range(0, 15):\n",
    "    feature_importance_for_ada_boost.loc[feature_importance_for_ada_boost.shape[0]] = [Yield_data.columns[i], ada_boost.feature_importances_[i]]"
   ]
  },
  {
   "cell_type": "code",
   "execution_count": 124,
   "id": "edfb8b3c",
   "metadata": {},
   "outputs": [
    {
     "data": {
      "text/html": [
       "<div>\n",
       "<style scoped>\n",
       "    .dataframe tbody tr th:only-of-type {\n",
       "        vertical-align: middle;\n",
       "    }\n",
       "\n",
       "    .dataframe tbody tr th {\n",
       "        vertical-align: top;\n",
       "    }\n",
       "\n",
       "    .dataframe thead th {\n",
       "        text-align: right;\n",
       "    }\n",
       "</style>\n",
       "<table border=\"1\" class=\"dataframe\">\n",
       "  <thead>\n",
       "    <tr style=\"text-align: right;\">\n",
       "      <th></th>\n",
       "      <th>column_name</th>\n",
       "      <th>feature_importance</th>\n",
       "    </tr>\n",
       "  </thead>\n",
       "  <tbody>\n",
       "    <tr>\n",
       "      <th>1</th>\n",
       "      <td>Density(g/cc)</td>\n",
       "      <td>0.477124</td>\n",
       "    </tr>\n",
       "    <tr>\n",
       "      <th>3</th>\n",
       "      <td>Melting Point(K)</td>\n",
       "      <td>0.150758</td>\n",
       "    </tr>\n",
       "    <tr>\n",
       "      <th>14</th>\n",
       "      <td>Grain size(um)</td>\n",
       "      <td>0.141093</td>\n",
       "    </tr>\n",
       "    <tr>\n",
       "      <th>2</th>\n",
       "      <td>Temperature (K) at which test was performed</td>\n",
       "      <td>0.101339</td>\n",
       "    </tr>\n",
       "    <tr>\n",
       "      <th>11</th>\n",
       "      <td>c</td>\n",
       "      <td>0.060725</td>\n",
       "    </tr>\n",
       "    <tr>\n",
       "      <th>4</th>\n",
       "      <td>Strain rate</td>\n",
       "      <td>0.039230</td>\n",
       "    </tr>\n",
       "    <tr>\n",
       "      <th>10</th>\n",
       "      <td>b</td>\n",
       "      <td>0.009720</td>\n",
       "    </tr>\n",
       "    <tr>\n",
       "      <th>12</th>\n",
       "      <td>beta</td>\n",
       "      <td>0.005762</td>\n",
       "    </tr>\n",
       "    <tr>\n",
       "      <th>9</th>\n",
       "      <td>a</td>\n",
       "      <td>0.005449</td>\n",
       "    </tr>\n",
       "    <tr>\n",
       "      <th>5</th>\n",
       "      <td>Heat capacity(KJ/kg.k)</td>\n",
       "      <td>0.004954</td>\n",
       "    </tr>\n",
       "    <tr>\n",
       "      <th>0</th>\n",
       "      <td>Atomic/Molecular Weight(u)</td>\n",
       "      <td>0.003195</td>\n",
       "    </tr>\n",
       "    <tr>\n",
       "      <th>6</th>\n",
       "      <td>BCC</td>\n",
       "      <td>0.000591</td>\n",
       "    </tr>\n",
       "    <tr>\n",
       "      <th>13</th>\n",
       "      <td>gamma</td>\n",
       "      <td>0.000060</td>\n",
       "    </tr>\n",
       "    <tr>\n",
       "      <th>7</th>\n",
       "      <td>FCC</td>\n",
       "      <td>0.000000</td>\n",
       "    </tr>\n",
       "    <tr>\n",
       "      <th>8</th>\n",
       "      <td>HCP</td>\n",
       "      <td>0.000000</td>\n",
       "    </tr>\n",
       "  </tbody>\n",
       "</table>\n",
       "</div>"
      ],
      "text/plain": [
       "                                    column_name  feature_importance\n",
       "1                                 Density(g/cc)            0.477124\n",
       "3                              Melting Point(K)            0.150758\n",
       "14                               Grain size(um)            0.141093\n",
       "2   Temperature (K) at which test was performed            0.101339\n",
       "11                                            c            0.060725\n",
       "4                                   Strain rate            0.039230\n",
       "10                                            b            0.009720\n",
       "12                                         beta            0.005762\n",
       "9                                             a            0.005449\n",
       "5                        Heat capacity(KJ/kg.k)            0.004954\n",
       "0                    Atomic/Molecular Weight(u)            0.003195\n",
       "6                                           BCC            0.000591\n",
       "13                                        gamma            0.000060\n",
       "7                                           FCC            0.000000\n",
       "8                                           HCP            0.000000"
      ]
     },
     "execution_count": 124,
     "metadata": {},
     "output_type": "execute_result"
    }
   ],
   "source": [
    "feature_importance_for_ada_boost.sort_values(by='feature_importance', ascending=False)"
   ]
  },
  {
   "cell_type": "markdown",
   "id": "d0feb599",
   "metadata": {},
   "source": [
    "### To remove a column from data, then check it's RMSE and MAE"
   ]
  },
  {
   "cell_type": "code",
   "execution_count": 125,
   "id": "edbbb721",
   "metadata": {},
   "outputs": [],
   "source": [
    "column_name = Yield_data.columns\n",
    "dct = {\n",
    "    'column_removed' : [],\n",
    "    'rmse' : [],\n",
    "    'mae' : []\n",
    "}\n",
    "df = pd.DataFrame(dct)\n",
    "for i in range(0, X.shape[1]):\n",
    "    \n",
    "    # Removing the ith column, how much rmse and mae do we get?\n",
    "    Xnew_scaled = np.delete(X_scaled, i, 1)\n",
    "    \n",
    "    ada_boost = AdaBoostRegressor(random_state=17)\n",
    "    X_train_scaled, X_test_scaled, y_train, y_test = train_test_split(Xnew_scaled, y, test_size=0.04184, random_state=17)\n",
    "    ada_boost.fit(X=X_train_scaled, y=y_train)\n",
    "    ada_boost_predicted = ada_boost.predict(X_test_scaled)\n",
    "    df.loc[df.shape[0]] = [column_name[i], np.sqrt(mean_squared_error(ada_boost_predicted, y_test)), mean_absolute_error(ada_boost_predicted, y_test)]"
   ]
  },
  {
   "cell_type": "code",
   "execution_count": 126,
   "id": "79a10a86",
   "metadata": {},
   "outputs": [
    {
     "data": {
      "text/html": [
       "<div>\n",
       "<style scoped>\n",
       "    .dataframe tbody tr th:only-of-type {\n",
       "        vertical-align: middle;\n",
       "    }\n",
       "\n",
       "    .dataframe tbody tr th {\n",
       "        vertical-align: top;\n",
       "    }\n",
       "\n",
       "    .dataframe thead th {\n",
       "        text-align: right;\n",
       "    }\n",
       "</style>\n",
       "<table border=\"1\" class=\"dataframe\">\n",
       "  <thead>\n",
       "    <tr style=\"text-align: right;\">\n",
       "      <th></th>\n",
       "      <th>column_removed</th>\n",
       "      <th>rmse</th>\n",
       "      <th>mae</th>\n",
       "    </tr>\n",
       "  </thead>\n",
       "  <tbody>\n",
       "    <tr>\n",
       "      <th>14</th>\n",
       "      <td>Grain size(um)</td>\n",
       "      <td>135.273197</td>\n",
       "      <td>111.612271</td>\n",
       "    </tr>\n",
       "    <tr>\n",
       "      <th>12</th>\n",
       "      <td>beta</td>\n",
       "      <td>143.191824</td>\n",
       "      <td>122.038647</td>\n",
       "    </tr>\n",
       "    <tr>\n",
       "      <th>13</th>\n",
       "      <td>gamma</td>\n",
       "      <td>148.289046</td>\n",
       "      <td>128.637094</td>\n",
       "    </tr>\n",
       "    <tr>\n",
       "      <th>5</th>\n",
       "      <td>Heat capacity(KJ/kg.k)</td>\n",
       "      <td>148.289046</td>\n",
       "      <td>128.637094</td>\n",
       "    </tr>\n",
       "    <tr>\n",
       "      <th>0</th>\n",
       "      <td>Atomic/Molecular Weight(u)</td>\n",
       "      <td>148.791916</td>\n",
       "      <td>129.727682</td>\n",
       "    </tr>\n",
       "    <tr>\n",
       "      <th>3</th>\n",
       "      <td>Melting Point(K)</td>\n",
       "      <td>148.963680</td>\n",
       "      <td>125.988035</td>\n",
       "    </tr>\n",
       "    <tr>\n",
       "      <th>8</th>\n",
       "      <td>HCP</td>\n",
       "      <td>149.633547</td>\n",
       "      <td>132.277104</td>\n",
       "    </tr>\n",
       "    <tr>\n",
       "      <th>6</th>\n",
       "      <td>BCC</td>\n",
       "      <td>152.632919</td>\n",
       "      <td>131.781278</td>\n",
       "    </tr>\n",
       "    <tr>\n",
       "      <th>7</th>\n",
       "      <td>FCC</td>\n",
       "      <td>152.632919</td>\n",
       "      <td>131.781278</td>\n",
       "    </tr>\n",
       "    <tr>\n",
       "      <th>9</th>\n",
       "      <td>a</td>\n",
       "      <td>163.776215</td>\n",
       "      <td>145.099783</td>\n",
       "    </tr>\n",
       "    <tr>\n",
       "      <th>10</th>\n",
       "      <td>b</td>\n",
       "      <td>163.776215</td>\n",
       "      <td>145.099783</td>\n",
       "    </tr>\n",
       "    <tr>\n",
       "      <th>11</th>\n",
       "      <td>c</td>\n",
       "      <td>166.891171</td>\n",
       "      <td>150.277356</td>\n",
       "    </tr>\n",
       "    <tr>\n",
       "      <th>1</th>\n",
       "      <td>Density(g/cc)</td>\n",
       "      <td>173.940367</td>\n",
       "      <td>108.132759</td>\n",
       "    </tr>\n",
       "    <tr>\n",
       "      <th>2</th>\n",
       "      <td>Temperature (K) at which test was performed</td>\n",
       "      <td>184.082103</td>\n",
       "      <td>136.010186</td>\n",
       "    </tr>\n",
       "    <tr>\n",
       "      <th>4</th>\n",
       "      <td>Strain rate</td>\n",
       "      <td>199.457186</td>\n",
       "      <td>117.665821</td>\n",
       "    </tr>\n",
       "  </tbody>\n",
       "</table>\n",
       "</div>"
      ],
      "text/plain": [
       "                                 column_removed        rmse         mae\n",
       "14                               Grain size(um)  135.273197  111.612271\n",
       "12                                         beta  143.191824  122.038647\n",
       "13                                        gamma  148.289046  128.637094\n",
       "5                        Heat capacity(KJ/kg.k)  148.289046  128.637094\n",
       "0                    Atomic/Molecular Weight(u)  148.791916  129.727682\n",
       "3                              Melting Point(K)  148.963680  125.988035\n",
       "8                                           HCP  149.633547  132.277104\n",
       "6                                           BCC  152.632919  131.781278\n",
       "7                                           FCC  152.632919  131.781278\n",
       "9                                             a  163.776215  145.099783\n",
       "10                                            b  163.776215  145.099783\n",
       "11                                            c  166.891171  150.277356\n",
       "1                                 Density(g/cc)  173.940367  108.132759\n",
       "2   Temperature (K) at which test was performed  184.082103  136.010186\n",
       "4                                   Strain rate  199.457186  117.665821"
      ]
     },
     "execution_count": 126,
     "metadata": {},
     "output_type": "execute_result"
    }
   ],
   "source": [
    "df.sort_values(by=['rmse', 'mae'])"
   ]
  },
  {
   "cell_type": "markdown",
   "id": "53dd12af",
   "metadata": {},
   "source": [
    "### To remove some columns based on correlation coefficients"
   ]
  },
  {
   "cell_type": "code",
   "execution_count": 127,
   "id": "ed3f6530",
   "metadata": {},
   "outputs": [],
   "source": [
    "ada_boost = AdaBoostRegressor(random_state=17)\n",
    "ada_boost.fit(X_train_updated, y_train_updated)\n",
    "ada_boost_pred_updated = ada_boost.predict(X_test_updated)"
   ]
  },
  {
   "cell_type": "code",
   "execution_count": 128,
   "id": "038378a8",
   "metadata": {},
   "outputs": [
    {
     "data": {
      "text/plain": [
       "238.24914097503023"
      ]
     },
     "execution_count": 128,
     "metadata": {},
     "output_type": "execute_result"
    }
   ],
   "source": [
    "np.sqrt(mean_squared_error(y_test,ada_boost_pred_updated))"
   ]
  },
  {
   "cell_type": "code",
   "execution_count": 129,
   "id": "bb7edc48",
   "metadata": {},
   "outputs": [
    {
     "data": {
      "text/plain": [
       "161.71738258212036"
      ]
     },
     "execution_count": 129,
     "metadata": {},
     "output_type": "execute_result"
    }
   ],
   "source": [
    "mean_absolute_error(y_test, ada_boost_pred_updated)"
   ]
  },
  {
   "cell_type": "code",
   "execution_count": 130,
   "id": "cb8d675d",
   "metadata": {},
   "outputs": [],
   "source": [
    "yield_df = pd.DataFrame({\n",
    "    'y_test_yield_point' : y_test,\n",
    "    'y_predicted_yield_point' : ada_boost_pred_updated\n",
    "})"
   ]
  },
  {
   "cell_type": "code",
   "execution_count": 131,
   "id": "1a2add51",
   "metadata": {},
   "outputs": [
    {
     "data": {
      "text/html": [
       "<div>\n",
       "<style scoped>\n",
       "    .dataframe tbody tr th:only-of-type {\n",
       "        vertical-align: middle;\n",
       "    }\n",
       "\n",
       "    .dataframe tbody tr th {\n",
       "        vertical-align: top;\n",
       "    }\n",
       "\n",
       "    .dataframe thead th {\n",
       "        text-align: right;\n",
       "    }\n",
       "</style>\n",
       "<table border=\"1\" class=\"dataframe\">\n",
       "  <thead>\n",
       "    <tr style=\"text-align: right;\">\n",
       "      <th></th>\n",
       "      <th>y_test_yield_point</th>\n",
       "      <th>y_predicted_yield_point</th>\n",
       "    </tr>\n",
       "  </thead>\n",
       "  <tbody>\n",
       "    <tr>\n",
       "      <th>0</th>\n",
       "      <td>793.083</td>\n",
       "      <td>646.374306</td>\n",
       "    </tr>\n",
       "    <tr>\n",
       "      <th>1</th>\n",
       "      <td>25.213</td>\n",
       "      <td>125.601786</td>\n",
       "    </tr>\n",
       "    <tr>\n",
       "      <th>2</th>\n",
       "      <td>2483.806</td>\n",
       "      <td>1808.699000</td>\n",
       "    </tr>\n",
       "    <tr>\n",
       "      <th>3</th>\n",
       "      <td>123.467</td>\n",
       "      <td>213.162190</td>\n",
       "    </tr>\n",
       "    <tr>\n",
       "      <th>4</th>\n",
       "      <td>248.003</td>\n",
       "      <td>229.615500</td>\n",
       "    </tr>\n",
       "    <tr>\n",
       "      <th>5</th>\n",
       "      <td>100.709</td>\n",
       "      <td>199.710571</td>\n",
       "    </tr>\n",
       "    <tr>\n",
       "      <th>6</th>\n",
       "      <td>30.527</td>\n",
       "      <td>125.601786</td>\n",
       "    </tr>\n",
       "    <tr>\n",
       "      <th>7</th>\n",
       "      <td>25.361</td>\n",
       "      <td>125.601786</td>\n",
       "    </tr>\n",
       "    <tr>\n",
       "      <th>8</th>\n",
       "      <td>490.876</td>\n",
       "      <td>334.968545</td>\n",
       "    </tr>\n",
       "    <tr>\n",
       "      <th>9</th>\n",
       "      <td>5.094</td>\n",
       "      <td>141.756059</td>\n",
       "    </tr>\n",
       "  </tbody>\n",
       "</table>\n",
       "</div>"
      ],
      "text/plain": [
       "   y_test_yield_point  y_predicted_yield_point\n",
       "0             793.083               646.374306\n",
       "1              25.213               125.601786\n",
       "2            2483.806              1808.699000\n",
       "3             123.467               213.162190\n",
       "4             248.003               229.615500\n",
       "5             100.709               199.710571\n",
       "6              30.527               125.601786\n",
       "7              25.361               125.601786\n",
       "8             490.876               334.968545\n",
       "9               5.094               141.756059"
      ]
     },
     "execution_count": 131,
     "metadata": {},
     "output_type": "execute_result"
    }
   ],
   "source": [
    "yield_df"
   ]
  },
  {
   "cell_type": "code",
   "execution_count": 132,
   "id": "28d7fe46",
   "metadata": {},
   "outputs": [],
   "source": [
    "r2 = r2_score(y_test,ada_boost_pred_updated)"
   ]
  },
  {
   "cell_type": "code",
   "execution_count": 133,
   "id": "3d5e7cf8",
   "metadata": {},
   "outputs": [
    {
     "data": {
      "text/plain": [
       "0.8920207844484634"
      ]
     },
     "execution_count": 133,
     "metadata": {},
     "output_type": "execute_result"
    }
   ],
   "source": [
    "r2"
   ]
  },
  {
   "cell_type": "markdown",
   "id": "9732ae93",
   "metadata": {},
   "source": [
    "## ELASTIC MODULUS\n"
   ]
  },
  {
   "cell_type": "markdown",
   "id": "ee896842",
   "metadata": {},
   "source": [
    "### We want to see how column Elastic Modulus is correlated to all other columns"
   ]
  },
  {
   "cell_type": "code",
   "execution_count": 134,
   "id": "2d1d9ab4",
   "metadata": {},
   "outputs": [
    {
     "data": {
      "text/plain": [
       "Elastic Modulus                                1.000000\n",
       "Melting Point(K)                               0.659906\n",
       "BCC                                            0.581236\n",
       "Density(g/cc)                                  0.485474\n",
       "Atomic/Molecular Weight(u)                     0.409995\n",
       "Strain rate                                    0.369017\n",
       "beta                                           0.034939\n",
       "Grain size(um)                                -0.188828\n",
       "HCP                                           -0.203370\n",
       "gamma                                         -0.208446\n",
       "a                                             -0.242642\n",
       "b                                             -0.242642\n",
       "FCC                                           -0.353619\n",
       "Heat capacity(KJ/kg.k)                        -0.399064\n",
       "c                                             -0.409239\n",
       "Temperature (K) at which test was performed   -0.465823\n",
       "alpha                                               NaN\n",
       "dtype: float64"
      ]
     },
     "execution_count": 134,
     "metadata": {},
     "output_type": "execute_result"
    }
   ],
   "source": [
    "Elastic_data.corrwith(Elastic_data['Elastic Modulus'],axis=0).sort_values(ascending=False)"
   ]
  },
  {
   "cell_type": "markdown",
   "id": "3796367f",
   "metadata": {},
   "source": [
    "### We can see that alpha value is same for all the dataset, hence it is of no use to us"
   ]
  },
  {
   "cell_type": "code",
   "execution_count": 135,
   "id": "e1f8db37",
   "metadata": {},
   "outputs": [],
   "source": [
    "Elastic_data.drop(['alpha'], axis=1, inplace=True)"
   ]
  },
  {
   "cell_type": "code",
   "execution_count": 136,
   "id": "de816f64",
   "metadata": {},
   "outputs": [
    {
     "data": {
      "text/plain": [
       "(239, 16)"
      ]
     },
     "execution_count": 136,
     "metadata": {},
     "output_type": "execute_result"
    }
   ],
   "source": [
    "Elastic_data.shape"
   ]
  },
  {
   "cell_type": "code",
   "execution_count": 137,
   "id": "9984c841",
   "metadata": {},
   "outputs": [
    {
     "data": {
      "text/plain": [
       "Index(['Atomic/Molecular Weight(u)', 'Density(g/cc)',\n",
       "       'Temperature (K) at which test was performed', 'Melting Point(K)',\n",
       "       'Strain rate', 'Heat capacity(KJ/kg.k)', 'BCC', 'FCC', 'HCP', 'a', 'b',\n",
       "       'c', 'beta', 'gamma', 'Grain size(um)', 'Elastic Modulus'],\n",
       "      dtype='object')"
      ]
     },
     "execution_count": 137,
     "metadata": {},
     "output_type": "execute_result"
    }
   ],
   "source": [
    "Elastic_data.columns"
   ]
  },
  {
   "cell_type": "markdown",
   "id": "790b7173",
   "metadata": {},
   "source": [
    "### Feature Scaling and Splitting Elastic_data into train and test set"
   ]
  },
  {
   "cell_type": "code",
   "execution_count": 138,
   "id": "2536c1d6",
   "metadata": {},
   "outputs": [],
   "source": [
    "X = Elastic_data.iloc[:, 0:-1].values\n",
    "y = Elastic_data.iloc[:, -1].values"
   ]
  },
  {
   "cell_type": "code",
   "execution_count": 139,
   "id": "dbac850d",
   "metadata": {},
   "outputs": [],
   "source": [
    "from sklearn.preprocessing import StandardScaler\n",
    "standard_scaler = StandardScaler()"
   ]
  },
  {
   "cell_type": "code",
   "execution_count": 140,
   "id": "0bd08536",
   "metadata": {},
   "outputs": [],
   "source": [
    "X_scaled = standard_scaler.fit_transform(X)"
   ]
  },
  {
   "cell_type": "code",
   "execution_count": 141,
   "id": "3f10621b",
   "metadata": {},
   "outputs": [],
   "source": [
    "from sklearn.model_selection import train_test_split\n",
    "X_train, X_test, y_train, y_test = train_test_split(X_scaled, y, test_size=0.04184, random_state=17) "
   ]
  },
  {
   "cell_type": "code",
   "execution_count": 142,
   "id": "b4f88ee9",
   "metadata": {},
   "outputs": [
    {
     "data": {
      "text/plain": [
       "((229, 15), (10, 15), (229,), (10,))"
      ]
     },
     "execution_count": 142,
     "metadata": {},
     "output_type": "execute_result"
    }
   ],
   "source": [
    "X_train.shape, X_test.shape, y_train.shape, y_test.shape"
   ]
  },
  {
   "cell_type": "markdown",
   "id": "86da8d65",
   "metadata": {},
   "source": [
    "### DecisionTreeRegressor Model"
   ]
  },
  {
   "cell_type": "code",
   "execution_count": 143,
   "id": "6672c4f5",
   "metadata": {},
   "outputs": [],
   "source": [
    "from sklearn.tree import DecisionTreeRegressor\n",
    "reg_tree = DecisionTreeRegressor(max_depth=10, random_state=17)"
   ]
  },
  {
   "cell_type": "code",
   "execution_count": 144,
   "id": "cb82d8f7",
   "metadata": {},
   "outputs": [
    {
     "data": {
      "text/plain": [
       "array([6396.55486163, 5373.75737462, 8667.68847443, 3775.0267177 ,\n",
       "       3718.0582465 ])"
      ]
     },
     "execution_count": 144,
     "metadata": {},
     "output_type": "execute_result"
    }
   ],
   "source": [
    "from sklearn.model_selection import cross_val_score\n",
    "(-1)*cross_val_score(reg_tree, X_train, y_train, scoring='neg_root_mean_squared_error', cv=5)"
   ]
  },
  {
   "cell_type": "code",
   "execution_count": 145,
   "id": "e681f635",
   "metadata": {},
   "outputs": [
    {
     "name": "stdout",
     "output_type": "stream",
     "text": [
      "5586.21713497698\n"
     ]
    }
   ],
   "source": [
    "print(np.mean((-1)*cross_val_score(reg_tree, X_train, y_train, scoring='neg_root_mean_squared_error', cv=5)))"
   ]
  },
  {
   "cell_type": "code",
   "execution_count": 146,
   "id": "9487baf0",
   "metadata": {},
   "outputs": [
    {
     "data": {
      "text/plain": [
       "DecisionTreeRegressor(max_depth=10, random_state=17)"
      ]
     },
     "execution_count": 146,
     "metadata": {},
     "output_type": "execute_result"
    }
   ],
   "source": [
    "reg_tree.fit(X_train, y_train)"
   ]
  },
  {
   "cell_type": "code",
   "execution_count": 147,
   "id": "3aadae6c",
   "metadata": {},
   "outputs": [],
   "source": [
    "reg_tree_pred = reg_tree.predict(X_test)"
   ]
  },
  {
   "cell_type": "code",
   "execution_count": 148,
   "id": "25a1d0b7",
   "metadata": {},
   "outputs": [
    {
     "data": {
      "text/plain": [
       "3445.303631710605"
      ]
     },
     "execution_count": 148,
     "metadata": {},
     "output_type": "execute_result"
    }
   ],
   "source": [
    "from sklearn.metrics import mean_squared_error\n",
    "np.sqrt(mean_squared_error(y_test,reg_tree_pred))"
   ]
  },
  {
   "cell_type": "code",
   "execution_count": 149,
   "id": "dd9d7aa6",
   "metadata": {},
   "outputs": [
    {
     "data": {
      "text/plain": [
       "2051.1650907142853"
      ]
     },
     "execution_count": 149,
     "metadata": {},
     "output_type": "execute_result"
    }
   ],
   "source": [
    "from sklearn.metrics import mean_absolute_error\n",
    "mean_absolute_error(y_test, reg_tree_pred)"
   ]
  },
  {
   "cell_type": "code",
   "execution_count": 150,
   "id": "0d71f5e2",
   "metadata": {},
   "outputs": [],
   "source": [
    "Elastic_df = pd.DataFrame({\n",
    "    'y_test_elastic_modulus' : y_test,\n",
    "    'y_predicted_elastic_modulus' : reg_tree_pred\n",
    "})"
   ]
  },
  {
   "cell_type": "code",
   "execution_count": 151,
   "id": "0fc5573e",
   "metadata": {},
   "outputs": [
    {
     "data": {
      "text/html": [
       "<div>\n",
       "<style scoped>\n",
       "    .dataframe tbody tr th:only-of-type {\n",
       "        vertical-align: middle;\n",
       "    }\n",
       "\n",
       "    .dataframe tbody tr th {\n",
       "        vertical-align: top;\n",
       "    }\n",
       "\n",
       "    .dataframe thead th {\n",
       "        text-align: right;\n",
       "    }\n",
       "</style>\n",
       "<table border=\"1\" class=\"dataframe\">\n",
       "  <thead>\n",
       "    <tr style=\"text-align: right;\">\n",
       "      <th></th>\n",
       "      <th>y_test_elastic_modulus</th>\n",
       "      <th>y_predicted_elastic_modulus</th>\n",
       "    </tr>\n",
       "  </thead>\n",
       "  <tbody>\n",
       "    <tr>\n",
       "      <th>0</th>\n",
       "      <td>39654.149</td>\n",
       "      <td>29983.649000</td>\n",
       "    </tr>\n",
       "    <tr>\n",
       "      <th>1</th>\n",
       "      <td>840.433</td>\n",
       "      <td>949.053750</td>\n",
       "    </tr>\n",
       "    <tr>\n",
       "      <th>2</th>\n",
       "      <td>73053.117</td>\n",
       "      <td>69125.303000</td>\n",
       "    </tr>\n",
       "    <tr>\n",
       "      <th>3</th>\n",
       "      <td>4938.679</td>\n",
       "      <td>3626.240000</td>\n",
       "    </tr>\n",
       "    <tr>\n",
       "      <th>4</th>\n",
       "      <td>12400.150</td>\n",
       "      <td>11158.000000</td>\n",
       "    </tr>\n",
       "    <tr>\n",
       "      <th>5</th>\n",
       "      <td>5035.450</td>\n",
       "      <td>3797.849786</td>\n",
       "    </tr>\n",
       "    <tr>\n",
       "      <th>6</th>\n",
       "      <td>1017.566</td>\n",
       "      <td>1357.190143</td>\n",
       "    </tr>\n",
       "    <tr>\n",
       "      <th>7</th>\n",
       "      <td>845.366</td>\n",
       "      <td>757.753200</td>\n",
       "    </tr>\n",
       "    <tr>\n",
       "      <th>8</th>\n",
       "      <td>24543.800</td>\n",
       "      <td>22390.600000</td>\n",
       "    </tr>\n",
       "    <tr>\n",
       "      <th>9</th>\n",
       "      <td>254.700</td>\n",
       "      <td>686.790000</td>\n",
       "    </tr>\n",
       "  </tbody>\n",
       "</table>\n",
       "</div>"
      ],
      "text/plain": [
       "   y_test_elastic_modulus  y_predicted_elastic_modulus\n",
       "0               39654.149                 29983.649000\n",
       "1                 840.433                   949.053750\n",
       "2               73053.117                 69125.303000\n",
       "3                4938.679                  3626.240000\n",
       "4               12400.150                 11158.000000\n",
       "5                5035.450                  3797.849786\n",
       "6                1017.566                  1357.190143\n",
       "7                 845.366                   757.753200\n",
       "8               24543.800                 22390.600000\n",
       "9                 254.700                   686.790000"
      ]
     },
     "execution_count": 151,
     "metadata": {},
     "output_type": "execute_result"
    }
   ],
   "source": [
    "Elastic_df"
   ]
  },
  {
   "cell_type": "code",
   "execution_count": 152,
   "id": "4cf98b74",
   "metadata": {},
   "outputs": [],
   "source": [
    "r2 = r2_score(y_test,reg_tree_pred)"
   ]
  },
  {
   "cell_type": "code",
   "execution_count": 153,
   "id": "bf7d48cb",
   "metadata": {},
   "outputs": [
    {
     "data": {
      "text/plain": [
       "0.97660739091278"
      ]
     },
     "execution_count": 153,
     "metadata": {},
     "output_type": "execute_result"
    }
   ],
   "source": [
    "r2\n"
   ]
  },
  {
   "cell_type": "markdown",
   "id": "aa48a91c",
   "metadata": {},
   "source": [
    "### Feature importance for DecisionTreeRegressor"
   ]
  },
  {
   "cell_type": "code",
   "execution_count": 154,
   "id": "c6ed083f",
   "metadata": {},
   "outputs": [
    {
     "data": {
      "text/plain": [
       "array([1.36334627e-02, 1.48047216e-01, 1.89761695e-01, 0.00000000e+00,\n",
       "       5.11189372e-02, 4.48310511e-04, 0.00000000e+00, 0.00000000e+00,\n",
       "       8.87684300e-03, 2.39177544e-04, 1.73214448e-02, 4.13247592e-01,\n",
       "       0.00000000e+00, 0.00000000e+00, 1.57305321e-01])"
      ]
     },
     "execution_count": 154,
     "metadata": {},
     "output_type": "execute_result"
    }
   ],
   "source": [
    "reg_tree.feature_importances_"
   ]
  },
  {
   "cell_type": "code",
   "execution_count": 155,
   "id": "babc0384",
   "metadata": {},
   "outputs": [
    {
     "data": {
      "text/plain": [
       "Index(['Atomic/Molecular Weight(u)', 'Density(g/cc)',\n",
       "       'Temperature (K) at which test was performed', 'Melting Point(K)',\n",
       "       'Strain rate', 'Heat capacity(KJ/kg.k)', 'BCC', 'FCC', 'HCP', 'a', 'b',\n",
       "       'c', 'beta', 'gamma', 'Grain size(um)'],\n",
       "      dtype='object')"
      ]
     },
     "execution_count": 155,
     "metadata": {},
     "output_type": "execute_result"
    }
   ],
   "source": [
    "Elastic_data.columns[0:15]"
   ]
  },
  {
   "cell_type": "code",
   "execution_count": 156,
   "id": "23123134",
   "metadata": {},
   "outputs": [],
   "source": [
    "dct = {\n",
    "    'column_name' : [],\n",
    "    'feature_importance' : []\n",
    "}\n",
    "feature_importance_for_decision_tree = pd.DataFrame(dct)\n",
    "for i in range(0, 15):\n",
    "    feature_importance_for_decision_tree.loc[feature_importance_for_decision_tree.shape[0]] = [Elastic_data.columns[i], reg_tree.feature_importances_[i]]"
   ]
  },
  {
   "cell_type": "code",
   "execution_count": 157,
   "id": "8687e0ec",
   "metadata": {},
   "outputs": [
    {
     "data": {
      "text/html": [
       "<div>\n",
       "<style scoped>\n",
       "    .dataframe tbody tr th:only-of-type {\n",
       "        vertical-align: middle;\n",
       "    }\n",
       "\n",
       "    .dataframe tbody tr th {\n",
       "        vertical-align: top;\n",
       "    }\n",
       "\n",
       "    .dataframe thead th {\n",
       "        text-align: right;\n",
       "    }\n",
       "</style>\n",
       "<table border=\"1\" class=\"dataframe\">\n",
       "  <thead>\n",
       "    <tr style=\"text-align: right;\">\n",
       "      <th></th>\n",
       "      <th>column_name</th>\n",
       "      <th>feature_importance</th>\n",
       "    </tr>\n",
       "  </thead>\n",
       "  <tbody>\n",
       "    <tr>\n",
       "      <th>11</th>\n",
       "      <td>c</td>\n",
       "      <td>0.413248</td>\n",
       "    </tr>\n",
       "    <tr>\n",
       "      <th>2</th>\n",
       "      <td>Temperature (K) at which test was performed</td>\n",
       "      <td>0.189762</td>\n",
       "    </tr>\n",
       "    <tr>\n",
       "      <th>14</th>\n",
       "      <td>Grain size(um)</td>\n",
       "      <td>0.157305</td>\n",
       "    </tr>\n",
       "    <tr>\n",
       "      <th>1</th>\n",
       "      <td>Density(g/cc)</td>\n",
       "      <td>0.148047</td>\n",
       "    </tr>\n",
       "    <tr>\n",
       "      <th>4</th>\n",
       "      <td>Strain rate</td>\n",
       "      <td>0.051119</td>\n",
       "    </tr>\n",
       "    <tr>\n",
       "      <th>10</th>\n",
       "      <td>b</td>\n",
       "      <td>0.017321</td>\n",
       "    </tr>\n",
       "    <tr>\n",
       "      <th>0</th>\n",
       "      <td>Atomic/Molecular Weight(u)</td>\n",
       "      <td>0.013633</td>\n",
       "    </tr>\n",
       "    <tr>\n",
       "      <th>8</th>\n",
       "      <td>HCP</td>\n",
       "      <td>0.008877</td>\n",
       "    </tr>\n",
       "    <tr>\n",
       "      <th>5</th>\n",
       "      <td>Heat capacity(KJ/kg.k)</td>\n",
       "      <td>0.000448</td>\n",
       "    </tr>\n",
       "    <tr>\n",
       "      <th>9</th>\n",
       "      <td>a</td>\n",
       "      <td>0.000239</td>\n",
       "    </tr>\n",
       "    <tr>\n",
       "      <th>3</th>\n",
       "      <td>Melting Point(K)</td>\n",
       "      <td>0.000000</td>\n",
       "    </tr>\n",
       "    <tr>\n",
       "      <th>6</th>\n",
       "      <td>BCC</td>\n",
       "      <td>0.000000</td>\n",
       "    </tr>\n",
       "    <tr>\n",
       "      <th>7</th>\n",
       "      <td>FCC</td>\n",
       "      <td>0.000000</td>\n",
       "    </tr>\n",
       "    <tr>\n",
       "      <th>12</th>\n",
       "      <td>beta</td>\n",
       "      <td>0.000000</td>\n",
       "    </tr>\n",
       "    <tr>\n",
       "      <th>13</th>\n",
       "      <td>gamma</td>\n",
       "      <td>0.000000</td>\n",
       "    </tr>\n",
       "  </tbody>\n",
       "</table>\n",
       "</div>"
      ],
      "text/plain": [
       "                                    column_name  feature_importance\n",
       "11                                            c            0.413248\n",
       "2   Temperature (K) at which test was performed            0.189762\n",
       "14                               Grain size(um)            0.157305\n",
       "1                                 Density(g/cc)            0.148047\n",
       "4                                   Strain rate            0.051119\n",
       "10                                            b            0.017321\n",
       "0                    Atomic/Molecular Weight(u)            0.013633\n",
       "8                                           HCP            0.008877\n",
       "5                        Heat capacity(KJ/kg.k)            0.000448\n",
       "9                                             a            0.000239\n",
       "3                              Melting Point(K)            0.000000\n",
       "6                                           BCC            0.000000\n",
       "7                                           FCC            0.000000\n",
       "12                                         beta            0.000000\n",
       "13                                        gamma            0.000000"
      ]
     },
     "execution_count": 157,
     "metadata": {},
     "output_type": "execute_result"
    }
   ],
   "source": [
    "feature_importance_for_decision_tree.sort_values(by='feature_importance', ascending=False)"
   ]
  },
  {
   "cell_type": "code",
   "execution_count": 158,
   "id": "b6d2b95b",
   "metadata": {},
   "outputs": [
    {
     "data": {
      "text/plain": [
       "Elastic Modulus                                1.000000\n",
       "Melting Point(K)                               0.659906\n",
       "BCC                                            0.581236\n",
       "Density(g/cc)                                  0.485474\n",
       "Atomic/Molecular Weight(u)                     0.409995\n",
       "Strain rate                                    0.369017\n",
       "beta                                           0.034939\n",
       "Grain size(um)                                -0.188828\n",
       "HCP                                           -0.203370\n",
       "gamma                                         -0.208446\n",
       "a                                             -0.242642\n",
       "b                                             -0.242642\n",
       "FCC                                           -0.353619\n",
       "Heat capacity(KJ/kg.k)                        -0.399064\n",
       "c                                             -0.409239\n",
       "Temperature (K) at which test was performed   -0.465823\n",
       "dtype: float64"
      ]
     },
     "execution_count": 158,
     "metadata": {},
     "output_type": "execute_result"
    }
   ],
   "source": [
    "Elastic_data.corrwith(Elastic_data['Elastic Modulus'], axis=0).sort_values(ascending=False)"
   ]
  },
  {
   "cell_type": "markdown",
   "id": "a9f12e87",
   "metadata": {},
   "source": [
    "### To remove a column from data, then check it's RMSE and MAE"
   ]
  },
  {
   "cell_type": "code",
   "execution_count": 159,
   "id": "93af4e51",
   "metadata": {},
   "outputs": [],
   "source": [
    "column_name = Elastic_data.columns\n",
    "dct = {\n",
    "    'column_removed' : [],\n",
    "    'rmse' : [],\n",
    "    'mae' : []\n",
    "}\n",
    "df = pd.DataFrame(dct)\n",
    "for i in range(0, X.shape[1]):\n",
    "    \n",
    "    # Removing the ith column, how much rmse and mae do we get?\n",
    "    Xnew_scaled = np.delete(X_scaled, i, 1)\n",
    "    \n",
    "    reg_tree = DecisionTreeRegressor(max_depth=10, random_state=17)\n",
    "    X_train_scaled, X_test_scaled, y_train, y_test = train_test_split(Xnew_scaled, y, test_size=0.04184, random_state=17)\n",
    "    reg_tree.fit(X=X_train_scaled, y=y_train)\n",
    "    reg_tree_predicted = reg_tree.predict(X_test_scaled)\n",
    "    df.loc[df.shape[0]] = [column_name[i], np.sqrt(mean_squared_error(reg_tree_predicted, y_test)), mean_absolute_error(reg_tree_predicted, y_test)]"
   ]
  },
  {
   "cell_type": "code",
   "execution_count": 160,
   "id": "d924c28a",
   "metadata": {},
   "outputs": [
    {
     "data": {
      "text/html": [
       "<div>\n",
       "<style scoped>\n",
       "    .dataframe tbody tr th:only-of-type {\n",
       "        vertical-align: middle;\n",
       "    }\n",
       "\n",
       "    .dataframe tbody tr th {\n",
       "        vertical-align: top;\n",
       "    }\n",
       "\n",
       "    .dataframe thead th {\n",
       "        text-align: right;\n",
       "    }\n",
       "</style>\n",
       "<table border=\"1\" class=\"dataframe\">\n",
       "  <thead>\n",
       "    <tr style=\"text-align: right;\">\n",
       "      <th></th>\n",
       "      <th>column_removed</th>\n",
       "      <th>rmse</th>\n",
       "      <th>mae</th>\n",
       "    </tr>\n",
       "  </thead>\n",
       "  <tbody>\n",
       "    <tr>\n",
       "      <th>11</th>\n",
       "      <td>c</td>\n",
       "      <td>3401.432743</td>\n",
       "      <td>2018.296537</td>\n",
       "    </tr>\n",
       "    <tr>\n",
       "      <th>8</th>\n",
       "      <td>HCP</td>\n",
       "      <td>3424.681978</td>\n",
       "      <td>1955.563620</td>\n",
       "    </tr>\n",
       "    <tr>\n",
       "      <th>1</th>\n",
       "      <td>Density(g/cc)</td>\n",
       "      <td>3428.784967</td>\n",
       "      <td>1986.687000</td>\n",
       "    </tr>\n",
       "    <tr>\n",
       "      <th>0</th>\n",
       "      <td>Atomic/Molecular Weight(u)</td>\n",
       "      <td>3445.303632</td>\n",
       "      <td>2051.165091</td>\n",
       "    </tr>\n",
       "    <tr>\n",
       "      <th>3</th>\n",
       "      <td>Melting Point(K)</td>\n",
       "      <td>3445.303632</td>\n",
       "      <td>2051.165091</td>\n",
       "    </tr>\n",
       "    <tr>\n",
       "      <th>5</th>\n",
       "      <td>Heat capacity(KJ/kg.k)</td>\n",
       "      <td>3445.303632</td>\n",
       "      <td>2051.165091</td>\n",
       "    </tr>\n",
       "    <tr>\n",
       "      <th>6</th>\n",
       "      <td>BCC</td>\n",
       "      <td>3445.303632</td>\n",
       "      <td>2051.165091</td>\n",
       "    </tr>\n",
       "    <tr>\n",
       "      <th>7</th>\n",
       "      <td>FCC</td>\n",
       "      <td>3445.303632</td>\n",
       "      <td>2051.165091</td>\n",
       "    </tr>\n",
       "    <tr>\n",
       "      <th>9</th>\n",
       "      <td>a</td>\n",
       "      <td>3445.303632</td>\n",
       "      <td>2051.165091</td>\n",
       "    </tr>\n",
       "    <tr>\n",
       "      <th>10</th>\n",
       "      <td>b</td>\n",
       "      <td>3445.303632</td>\n",
       "      <td>2051.165091</td>\n",
       "    </tr>\n",
       "    <tr>\n",
       "      <th>12</th>\n",
       "      <td>beta</td>\n",
       "      <td>3445.303632</td>\n",
       "      <td>2051.165091</td>\n",
       "    </tr>\n",
       "    <tr>\n",
       "      <th>13</th>\n",
       "      <td>gamma</td>\n",
       "      <td>3445.303632</td>\n",
       "      <td>2051.165091</td>\n",
       "    </tr>\n",
       "    <tr>\n",
       "      <th>14</th>\n",
       "      <td>Grain size(um)</td>\n",
       "      <td>3445.303632</td>\n",
       "      <td>2051.165091</td>\n",
       "    </tr>\n",
       "    <tr>\n",
       "      <th>2</th>\n",
       "      <td>Temperature (K) at which test was performed</td>\n",
       "      <td>4134.850368</td>\n",
       "      <td>2378.754145</td>\n",
       "    </tr>\n",
       "    <tr>\n",
       "      <th>4</th>\n",
       "      <td>Strain rate</td>\n",
       "      <td>8633.956217</td>\n",
       "      <td>4912.068629</td>\n",
       "    </tr>\n",
       "  </tbody>\n",
       "</table>\n",
       "</div>"
      ],
      "text/plain": [
       "                                 column_removed         rmse          mae\n",
       "11                                            c  3401.432743  2018.296537\n",
       "8                                           HCP  3424.681978  1955.563620\n",
       "1                                 Density(g/cc)  3428.784967  1986.687000\n",
       "0                    Atomic/Molecular Weight(u)  3445.303632  2051.165091\n",
       "3                              Melting Point(K)  3445.303632  2051.165091\n",
       "5                        Heat capacity(KJ/kg.k)  3445.303632  2051.165091\n",
       "6                                           BCC  3445.303632  2051.165091\n",
       "7                                           FCC  3445.303632  2051.165091\n",
       "9                                             a  3445.303632  2051.165091\n",
       "10                                            b  3445.303632  2051.165091\n",
       "12                                         beta  3445.303632  2051.165091\n",
       "13                                        gamma  3445.303632  2051.165091\n",
       "14                               Grain size(um)  3445.303632  2051.165091\n",
       "2   Temperature (K) at which test was performed  4134.850368  2378.754145\n",
       "4                                   Strain rate  8633.956217  4912.068629"
      ]
     },
     "execution_count": 160,
     "metadata": {},
     "output_type": "execute_result"
    }
   ],
   "source": [
    "df.sort_values(by=['rmse', 'mae'])"
   ]
  },
  {
   "cell_type": "markdown",
   "id": "e7b1d779",
   "metadata": {},
   "source": [
    "### To remove some columns based on correlation coefficients"
   ]
  },
  {
   "cell_type": "code",
   "execution_count": 161,
   "id": "c2bc8088",
   "metadata": {},
   "outputs": [],
   "source": [
    "temp = Elastic_data.corrwith(Elastic_data['Elastic Modulus'], axis=0).sort_values(ascending=False)"
   ]
  },
  {
   "cell_type": "code",
   "execution_count": 162,
   "id": "0c2e59a4",
   "metadata": {},
   "outputs": [],
   "source": [
    "Columns_to_have = []\n",
    "for i in range(0, temp.shape[0]):\n",
    "    if(temp.values[i]>-0.25):   #below -0.25 is removed\n",
    "        Columns_to_have.append(temp.axes[0][i])"
   ]
  },
  {
   "cell_type": "code",
   "execution_count": 163,
   "id": "72e7e2f7",
   "metadata": {},
   "outputs": [
    {
     "data": {
      "text/plain": [
       "['Elastic Modulus',\n",
       " 'Melting Point(K)',\n",
       " 'BCC',\n",
       " 'Density(g/cc)',\n",
       " 'Atomic/Molecular Weight(u)',\n",
       " 'Strain rate',\n",
       " 'beta',\n",
       " 'Grain size(um)',\n",
       " 'HCP',\n",
       " 'gamma',\n",
       " 'a',\n",
       " 'b']"
      ]
     },
     "execution_count": 163,
     "metadata": {},
     "output_type": "execute_result"
    }
   ],
   "source": [
    "Columns_to_have"
   ]
  },
  {
   "cell_type": "code",
   "execution_count": 164,
   "id": "ebddeeaa",
   "metadata": {},
   "outputs": [],
   "source": [
    "Elastic_data_updated = Elastic_data[Columns_to_have]"
   ]
  },
  {
   "cell_type": "code",
   "execution_count": 165,
   "id": "8327722a",
   "metadata": {},
   "outputs": [
    {
     "data": {
      "text/html": [
       "<div>\n",
       "<style scoped>\n",
       "    .dataframe tbody tr th:only-of-type {\n",
       "        vertical-align: middle;\n",
       "    }\n",
       "\n",
       "    .dataframe tbody tr th {\n",
       "        vertical-align: top;\n",
       "    }\n",
       "\n",
       "    .dataframe thead th {\n",
       "        text-align: right;\n",
       "    }\n",
       "</style>\n",
       "<table border=\"1\" class=\"dataframe\">\n",
       "  <thead>\n",
       "    <tr style=\"text-align: right;\">\n",
       "      <th></th>\n",
       "      <th>Elastic Modulus</th>\n",
       "      <th>Melting Point(K)</th>\n",
       "      <th>BCC</th>\n",
       "      <th>Density(g/cc)</th>\n",
       "      <th>Atomic/Molecular Weight(u)</th>\n",
       "      <th>Strain rate</th>\n",
       "      <th>beta</th>\n",
       "      <th>Grain size(um)</th>\n",
       "      <th>HCP</th>\n",
       "      <th>gamma</th>\n",
       "      <th>a</th>\n",
       "      <th>b</th>\n",
       "    </tr>\n",
       "  </thead>\n",
       "  <tbody>\n",
       "    <tr>\n",
       "      <th>0</th>\n",
       "      <td>217.300</td>\n",
       "      <td>3290.0</td>\n",
       "      <td>1</td>\n",
       "      <td>16.4</td>\n",
       "      <td>180.947</td>\n",
       "      <td>0.001</td>\n",
       "      <td>90</td>\n",
       "      <td>650.0</td>\n",
       "      <td>0</td>\n",
       "      <td>90</td>\n",
       "      <td>3.301</td>\n",
       "      <td>3.301</td>\n",
       "    </tr>\n",
       "    <tr>\n",
       "      <th>1</th>\n",
       "      <td>543.250</td>\n",
       "      <td>3290.0</td>\n",
       "      <td>1</td>\n",
       "      <td>16.4</td>\n",
       "      <td>180.947</td>\n",
       "      <td>1300.000</td>\n",
       "      <td>90</td>\n",
       "      <td>650.0</td>\n",
       "      <td>0</td>\n",
       "      <td>90</td>\n",
       "      <td>3.301</td>\n",
       "      <td>3.301</td>\n",
       "    </tr>\n",
       "    <tr>\n",
       "      <th>2</th>\n",
       "      <td>2499.649</td>\n",
       "      <td>3290.0</td>\n",
       "      <td>1</td>\n",
       "      <td>16.4</td>\n",
       "      <td>180.947</td>\n",
       "      <td>2800.000</td>\n",
       "      <td>90</td>\n",
       "      <td>650.0</td>\n",
       "      <td>0</td>\n",
       "      <td>90</td>\n",
       "      <td>3.301</td>\n",
       "      <td>3.301</td>\n",
       "    </tr>\n",
       "    <tr>\n",
       "      <th>3</th>\n",
       "      <td>978.244</td>\n",
       "      <td>3290.0</td>\n",
       "      <td>1</td>\n",
       "      <td>16.4</td>\n",
       "      <td>180.947</td>\n",
       "      <td>0.100</td>\n",
       "      <td>90</td>\n",
       "      <td>650.0</td>\n",
       "      <td>0</td>\n",
       "      <td>90</td>\n",
       "      <td>3.301</td>\n",
       "      <td>3.301</td>\n",
       "    </tr>\n",
       "    <tr>\n",
       "      <th>4</th>\n",
       "      <td>3041.149</td>\n",
       "      <td>3290.0</td>\n",
       "      <td>1</td>\n",
       "      <td>16.4</td>\n",
       "      <td>180.947</td>\n",
       "      <td>2600.000</td>\n",
       "      <td>90</td>\n",
       "      <td>650.0</td>\n",
       "      <td>0</td>\n",
       "      <td>90</td>\n",
       "      <td>3.301</td>\n",
       "      <td>3.301</td>\n",
       "    </tr>\n",
       "  </tbody>\n",
       "</table>\n",
       "</div>"
      ],
      "text/plain": [
       "   Elastic Modulus  Melting Point(K)  BCC  Density(g/cc)  \\\n",
       "0          217.300            3290.0    1           16.4   \n",
       "1          543.250            3290.0    1           16.4   \n",
       "2         2499.649            3290.0    1           16.4   \n",
       "3          978.244            3290.0    1           16.4   \n",
       "4         3041.149            3290.0    1           16.4   \n",
       "\n",
       "   Atomic/Molecular Weight(u)  Strain rate  beta  Grain size(um)  HCP  gamma  \\\n",
       "0                     180.947        0.001    90           650.0    0     90   \n",
       "1                     180.947     1300.000    90           650.0    0     90   \n",
       "2                     180.947     2800.000    90           650.0    0     90   \n",
       "3                     180.947        0.100    90           650.0    0     90   \n",
       "4                     180.947     2600.000    90           650.0    0     90   \n",
       "\n",
       "       a      b  \n",
       "0  3.301  3.301  \n",
       "1  3.301  3.301  \n",
       "2  3.301  3.301  \n",
       "3  3.301  3.301  \n",
       "4  3.301  3.301  "
      ]
     },
     "execution_count": 165,
     "metadata": {},
     "output_type": "execute_result"
    }
   ],
   "source": [
    "Elastic_data_updated.head()"
   ]
  },
  {
   "cell_type": "code",
   "execution_count": 166,
   "id": "2ac0773b",
   "metadata": {},
   "outputs": [],
   "source": [
    "X_updated = Elastic_data_updated.iloc[:, 1:].values\n",
    "y_updated = Elastic_data_updated.iloc[:, 0].values"
   ]
  },
  {
   "cell_type": "code",
   "execution_count": 167,
   "id": "56313f2c",
   "metadata": {},
   "outputs": [],
   "source": [
    "from sklearn.preprocessing import StandardScaler\n",
    "standard_scaler = StandardScaler()\n",
    "X_scaled_updated = standard_scaler.fit_transform(X_updated)\n",
    "from sklearn.model_selection import train_test_split\n",
    "X_train_updated, X_test_updated, y_train_updated, y_test_updated = train_test_split(X_scaled_updated, y_updated, test_size=0.04184, random_state=17) "
   ]
  },
  {
   "cell_type": "code",
   "execution_count": 168,
   "id": "4d6bea68",
   "metadata": {},
   "outputs": [
    {
     "data": {
      "text/plain": [
       "((229, 11), (10, 11), (229,), (10,))"
      ]
     },
     "execution_count": 168,
     "metadata": {},
     "output_type": "execute_result"
    }
   ],
   "source": [
    "X_train_updated.shape, X_test_updated.shape, y_train_updated.shape, y_test_updated.shape"
   ]
  },
  {
   "cell_type": "code",
   "execution_count": 169,
   "id": "bd1ac199",
   "metadata": {},
   "outputs": [],
   "source": [
    "reg_tree = DecisionTreeRegressor(max_depth=10, random_state=17)\n",
    "reg_tree.fit(X_train_updated, y_train_updated)\n",
    "reg_tree_pred_updated = reg_tree.predict(X_test_updated)"
   ]
  },
  {
   "cell_type": "code",
   "execution_count": 170,
   "id": "9f8280d3",
   "metadata": {},
   "outputs": [
    {
     "data": {
      "text/plain": [
       "4397.158782805974"
      ]
     },
     "execution_count": 170,
     "metadata": {},
     "output_type": "execute_result"
    }
   ],
   "source": [
    "np.sqrt(mean_squared_error(y_test,reg_tree_pred_updated))"
   ]
  },
  {
   "cell_type": "code",
   "execution_count": 171,
   "id": "9f085c66",
   "metadata": {},
   "outputs": [
    {
     "data": {
      "text/plain": [
       "2773.370178095238"
      ]
     },
     "execution_count": 171,
     "metadata": {},
     "output_type": "execute_result"
    }
   ],
   "source": [
    "mean_absolute_error(y_test, reg_tree_pred_updated)"
   ]
  },
  {
   "cell_type": "code",
   "execution_count": 172,
   "id": "566d2c55",
   "metadata": {},
   "outputs": [],
   "source": [
    "yield_df = pd.DataFrame({\n",
    "    'y_test_elastic_modulus' : y_test,\n",
    "    'y_predicted_elastic_modulus' : reg_tree_pred_updated\n",
    "})"
   ]
  },
  {
   "cell_type": "code",
   "execution_count": 173,
   "id": "eb88b436",
   "metadata": {},
   "outputs": [
    {
     "data": {
      "text/html": [
       "<div>\n",
       "<style scoped>\n",
       "    .dataframe tbody tr th:only-of-type {\n",
       "        vertical-align: middle;\n",
       "    }\n",
       "\n",
       "    .dataframe tbody tr th {\n",
       "        vertical-align: top;\n",
       "    }\n",
       "\n",
       "    .dataframe thead th {\n",
       "        text-align: right;\n",
       "    }\n",
       "</style>\n",
       "<table border=\"1\" class=\"dataframe\">\n",
       "  <thead>\n",
       "    <tr style=\"text-align: right;\">\n",
       "      <th></th>\n",
       "      <th>y_test_elastic_modulus</th>\n",
       "      <th>y_predicted_elastic_modulus</th>\n",
       "    </tr>\n",
       "  </thead>\n",
       "  <tbody>\n",
       "    <tr>\n",
       "      <th>0</th>\n",
       "      <td>39654.149</td>\n",
       "      <td>28364.999600</td>\n",
       "    </tr>\n",
       "    <tr>\n",
       "      <th>1</th>\n",
       "      <td>840.433</td>\n",
       "      <td>864.008000</td>\n",
       "    </tr>\n",
       "    <tr>\n",
       "      <th>2</th>\n",
       "      <td>73053.117</td>\n",
       "      <td>69125.303000</td>\n",
       "    </tr>\n",
       "    <tr>\n",
       "      <th>3</th>\n",
       "      <td>4938.679</td>\n",
       "      <td>4339.826333</td>\n",
       "    </tr>\n",
       "    <tr>\n",
       "      <th>4</th>\n",
       "      <td>12400.150</td>\n",
       "      <td>10696.664286</td>\n",
       "    </tr>\n",
       "    <tr>\n",
       "      <th>5</th>\n",
       "      <td>5035.450</td>\n",
       "      <td>9926.649500</td>\n",
       "    </tr>\n",
       "    <tr>\n",
       "      <th>6</th>\n",
       "      <td>1017.566</td>\n",
       "      <td>1265.149500</td>\n",
       "    </tr>\n",
       "    <tr>\n",
       "      <th>7</th>\n",
       "      <td>845.366</td>\n",
       "      <td>1012.383000</td>\n",
       "    </tr>\n",
       "    <tr>\n",
       "      <th>8</th>\n",
       "      <td>24543.800</td>\n",
       "      <td>19727.300000</td>\n",
       "    </tr>\n",
       "    <tr>\n",
       "      <th>9</th>\n",
       "      <td>254.700</td>\n",
       "      <td>323.225000</td>\n",
       "    </tr>\n",
       "  </tbody>\n",
       "</table>\n",
       "</div>"
      ],
      "text/plain": [
       "   y_test_elastic_modulus  y_predicted_elastic_modulus\n",
       "0               39654.149                 28364.999600\n",
       "1                 840.433                   864.008000\n",
       "2               73053.117                 69125.303000\n",
       "3                4938.679                  4339.826333\n",
       "4               12400.150                 10696.664286\n",
       "5                5035.450                  9926.649500\n",
       "6                1017.566                  1265.149500\n",
       "7                 845.366                  1012.383000\n",
       "8               24543.800                 19727.300000\n",
       "9                 254.700                   323.225000"
      ]
     },
     "execution_count": 173,
     "metadata": {},
     "output_type": "execute_result"
    }
   ],
   "source": [
    "yield_df\n"
   ]
  },
  {
   "cell_type": "code",
   "execution_count": 174,
   "id": "671201bd",
   "metadata": {},
   "outputs": [],
   "source": [
    "r2 = r2_score(y_test,reg_tree_pred_updated )"
   ]
  },
  {
   "cell_type": "code",
   "execution_count": 175,
   "id": "4ed85690",
   "metadata": {},
   "outputs": [
    {
     "data": {
      "text/plain": [
       "0.9618962291825465"
      ]
     },
     "execution_count": 175,
     "metadata": {},
     "output_type": "execute_result"
    }
   ],
   "source": [
    "r2"
   ]
  },
  {
   "cell_type": "markdown",
   "id": "cc89e459",
   "metadata": {},
   "source": [
    "###  RandomForestRegressor Model"
   ]
  },
  {
   "cell_type": "code",
   "execution_count": 176,
   "id": "4aaed71d",
   "metadata": {},
   "outputs": [],
   "source": [
    "from sklearn.ensemble import RandomForestRegressor\n",
    "rf = RandomForestRegressor(n_estimators=25, random_state=17)"
   ]
  },
  {
   "cell_type": "code",
   "execution_count": 177,
   "id": "78c809c1",
   "metadata": {},
   "outputs": [
    {
     "data": {
      "text/plain": [
       "array([8277.68445339, 4904.58380463, 6593.73912841, 3010.08273457,\n",
       "       2772.66105591])"
      ]
     },
     "execution_count": 177,
     "metadata": {},
     "output_type": "execute_result"
    }
   ],
   "source": [
    "(-1)*cross_val_score(rf, X_train, y_train, scoring='neg_root_mean_squared_error', cv=5)"
   ]
  },
  {
   "cell_type": "code",
   "execution_count": 178,
   "id": "e6bffbc9",
   "metadata": {},
   "outputs": [
    {
     "name": "stdout",
     "output_type": "stream",
     "text": [
      "5111.750235382928\n"
     ]
    }
   ],
   "source": [
    "print(np.mean((-1)*cross_val_score(rf, X_train, y_train, scoring='neg_root_mean_squared_error', cv=5)))"
   ]
  },
  {
   "cell_type": "code",
   "execution_count": 179,
   "id": "d598e7e0",
   "metadata": {},
   "outputs": [
    {
     "data": {
      "text/plain": [
       "RandomForestRegressor(n_estimators=25, random_state=17)"
      ]
     },
     "execution_count": 179,
     "metadata": {},
     "output_type": "execute_result"
    }
   ],
   "source": [
    "rf.fit(X_train, y_train)"
   ]
  },
  {
   "cell_type": "code",
   "execution_count": 180,
   "id": "07ab1584",
   "metadata": {},
   "outputs": [],
   "source": [
    "rf_pred = rf.predict(X_test)"
   ]
  },
  {
   "cell_type": "code",
   "execution_count": 181,
   "id": "1781a680",
   "metadata": {},
   "outputs": [
    {
     "data": {
      "text/plain": [
       "5131.64615917993"
      ]
     },
     "execution_count": 181,
     "metadata": {},
     "output_type": "execute_result"
    }
   ],
   "source": [
    "np.sqrt(mean_squared_error(y_test,rf_pred))"
   ]
  },
  {
   "cell_type": "code",
   "execution_count": 182,
   "id": "89cf8564",
   "metadata": {},
   "outputs": [
    {
     "data": {
      "text/plain": [
       "2632.227717333333"
      ]
     },
     "execution_count": 182,
     "metadata": {},
     "output_type": "execute_result"
    }
   ],
   "source": [
    "mean_absolute_error(y_test, rf_pred)"
   ]
  },
  {
   "cell_type": "code",
   "execution_count": 183,
   "id": "3f583360",
   "metadata": {},
   "outputs": [],
   "source": [
    "yield_df = pd.DataFrame({\n",
    "    'y_test_elastic_modulus' : y_test,\n",
    "    'y_predicted_elastic_modulus' : rf_pred\n",
    "})"
   ]
  },
  {
   "cell_type": "code",
   "execution_count": 184,
   "id": "b3b71756",
   "metadata": {},
   "outputs": [
    {
     "data": {
      "text/html": [
       "<div>\n",
       "<style scoped>\n",
       "    .dataframe tbody tr th:only-of-type {\n",
       "        vertical-align: middle;\n",
       "    }\n",
       "\n",
       "    .dataframe tbody tr th {\n",
       "        vertical-align: top;\n",
       "    }\n",
       "\n",
       "    .dataframe thead th {\n",
       "        text-align: right;\n",
       "    }\n",
       "</style>\n",
       "<table border=\"1\" class=\"dataframe\">\n",
       "  <thead>\n",
       "    <tr style=\"text-align: right;\">\n",
       "      <th></th>\n",
       "      <th>y_test_elastic_modulus</th>\n",
       "      <th>y_predicted_elastic_modulus</th>\n",
       "    </tr>\n",
       "  </thead>\n",
       "  <tbody>\n",
       "    <tr>\n",
       "      <th>0</th>\n",
       "      <td>39654.149</td>\n",
       "      <td>31161.593240</td>\n",
       "    </tr>\n",
       "    <tr>\n",
       "      <th>1</th>\n",
       "      <td>840.433</td>\n",
       "      <td>911.502240</td>\n",
       "    </tr>\n",
       "    <tr>\n",
       "      <th>2</th>\n",
       "      <td>73053.117</td>\n",
       "      <td>59491.228880</td>\n",
       "    </tr>\n",
       "    <tr>\n",
       "      <th>3</th>\n",
       "      <td>4938.679</td>\n",
       "      <td>5202.568693</td>\n",
       "    </tr>\n",
       "    <tr>\n",
       "      <th>4</th>\n",
       "      <td>12400.150</td>\n",
       "      <td>12032.429960</td>\n",
       "    </tr>\n",
       "    <tr>\n",
       "      <th>5</th>\n",
       "      <td>5035.450</td>\n",
       "      <td>4638.335760</td>\n",
       "    </tr>\n",
       "    <tr>\n",
       "      <th>6</th>\n",
       "      <td>1017.566</td>\n",
       "      <td>1363.546160</td>\n",
       "    </tr>\n",
       "    <tr>\n",
       "      <th>7</th>\n",
       "      <td>845.366</td>\n",
       "      <td>937.023880</td>\n",
       "    </tr>\n",
       "    <tr>\n",
       "      <th>8</th>\n",
       "      <td>24543.800</td>\n",
       "      <td>21940.383960</td>\n",
       "    </tr>\n",
       "    <tr>\n",
       "      <th>9</th>\n",
       "      <td>254.700</td>\n",
       "      <td>381.686000</td>\n",
       "    </tr>\n",
       "  </tbody>\n",
       "</table>\n",
       "</div>"
      ],
      "text/plain": [
       "   y_test_elastic_modulus  y_predicted_elastic_modulus\n",
       "0               39654.149                 31161.593240\n",
       "1                 840.433                   911.502240\n",
       "2               73053.117                 59491.228880\n",
       "3                4938.679                  5202.568693\n",
       "4               12400.150                 12032.429960\n",
       "5                5035.450                  4638.335760\n",
       "6                1017.566                  1363.546160\n",
       "7                 845.366                   937.023880\n",
       "8               24543.800                 21940.383960\n",
       "9                 254.700                   381.686000"
      ]
     },
     "execution_count": 184,
     "metadata": {},
     "output_type": "execute_result"
    }
   ],
   "source": [
    "yield_df"
   ]
  },
  {
   "cell_type": "code",
   "execution_count": 185,
   "id": "b1c81687",
   "metadata": {},
   "outputs": [],
   "source": [
    "r2 = r2_score(y_test, rf_pred)"
   ]
  },
  {
   "cell_type": "code",
   "execution_count": 186,
   "id": "c45cccc7",
   "metadata": {},
   "outputs": [
    {
     "data": {
      "text/plain": [
       "0.9481036199409539"
      ]
     },
     "execution_count": 186,
     "metadata": {},
     "output_type": "execute_result"
    }
   ],
   "source": [
    "r2"
   ]
  },
  {
   "cell_type": "markdown",
   "id": "a91f86aa",
   "metadata": {},
   "source": [
    "### Feature importance for RandomForestRegressor"
   ]
  },
  {
   "cell_type": "code",
   "execution_count": 187,
   "id": "9cfcd9fc",
   "metadata": {},
   "outputs": [],
   "source": [
    "dct = {\n",
    "    'column_name' : [],\n",
    "    'feature_importance' : []\n",
    "}\n",
    "feature_importance_for_random_forest = pd.DataFrame(dct)\n",
    "for i in range(0, 15):\n",
    "    feature_importance_for_random_forest.loc[feature_importance_for_random_forest.shape[0]] = [Elastic_data.columns[i], rf.feature_importances_[i]]"
   ]
  },
  {
   "cell_type": "code",
   "execution_count": 188,
   "id": "6a8bd44b",
   "metadata": {},
   "outputs": [
    {
     "data": {
      "text/html": [
       "<div>\n",
       "<style scoped>\n",
       "    .dataframe tbody tr th:only-of-type {\n",
       "        vertical-align: middle;\n",
       "    }\n",
       "\n",
       "    .dataframe tbody tr th {\n",
       "        vertical-align: top;\n",
       "    }\n",
       "\n",
       "    .dataframe thead th {\n",
       "        text-align: right;\n",
       "    }\n",
       "</style>\n",
       "<table border=\"1\" class=\"dataframe\">\n",
       "  <thead>\n",
       "    <tr style=\"text-align: right;\">\n",
       "      <th></th>\n",
       "      <th>column_name</th>\n",
       "      <th>feature_importance</th>\n",
       "    </tr>\n",
       "  </thead>\n",
       "  <tbody>\n",
       "    <tr>\n",
       "      <th>1</th>\n",
       "      <td>Density(g/cc)</td>\n",
       "      <td>0.227530</td>\n",
       "    </tr>\n",
       "    <tr>\n",
       "      <th>3</th>\n",
       "      <td>Melting Point(K)</td>\n",
       "      <td>0.175988</td>\n",
       "    </tr>\n",
       "    <tr>\n",
       "      <th>2</th>\n",
       "      <td>Temperature (K) at which test was performed</td>\n",
       "      <td>0.175518</td>\n",
       "    </tr>\n",
       "    <tr>\n",
       "      <th>11</th>\n",
       "      <td>c</td>\n",
       "      <td>0.161634</td>\n",
       "    </tr>\n",
       "    <tr>\n",
       "      <th>14</th>\n",
       "      <td>Grain size(um)</td>\n",
       "      <td>0.120017</td>\n",
       "    </tr>\n",
       "    <tr>\n",
       "      <th>4</th>\n",
       "      <td>Strain rate</td>\n",
       "      <td>0.053634</td>\n",
       "    </tr>\n",
       "    <tr>\n",
       "      <th>9</th>\n",
       "      <td>a</td>\n",
       "      <td>0.019558</td>\n",
       "    </tr>\n",
       "    <tr>\n",
       "      <th>0</th>\n",
       "      <td>Atomic/Molecular Weight(u)</td>\n",
       "      <td>0.019493</td>\n",
       "    </tr>\n",
       "    <tr>\n",
       "      <th>10</th>\n",
       "      <td>b</td>\n",
       "      <td>0.019473</td>\n",
       "    </tr>\n",
       "    <tr>\n",
       "      <th>5</th>\n",
       "      <td>Heat capacity(KJ/kg.k)</td>\n",
       "      <td>0.013761</td>\n",
       "    </tr>\n",
       "    <tr>\n",
       "      <th>8</th>\n",
       "      <td>HCP</td>\n",
       "      <td>0.006567</td>\n",
       "    </tr>\n",
       "    <tr>\n",
       "      <th>7</th>\n",
       "      <td>FCC</td>\n",
       "      <td>0.005500</td>\n",
       "    </tr>\n",
       "    <tr>\n",
       "      <th>6</th>\n",
       "      <td>BCC</td>\n",
       "      <td>0.000924</td>\n",
       "    </tr>\n",
       "    <tr>\n",
       "      <th>13</th>\n",
       "      <td>gamma</td>\n",
       "      <td>0.000370</td>\n",
       "    </tr>\n",
       "    <tr>\n",
       "      <th>12</th>\n",
       "      <td>beta</td>\n",
       "      <td>0.000033</td>\n",
       "    </tr>\n",
       "  </tbody>\n",
       "</table>\n",
       "</div>"
      ],
      "text/plain": [
       "                                    column_name  feature_importance\n",
       "1                                 Density(g/cc)            0.227530\n",
       "3                              Melting Point(K)            0.175988\n",
       "2   Temperature (K) at which test was performed            0.175518\n",
       "11                                            c            0.161634\n",
       "14                               Grain size(um)            0.120017\n",
       "4                                   Strain rate            0.053634\n",
       "9                                             a            0.019558\n",
       "0                    Atomic/Molecular Weight(u)            0.019493\n",
       "10                                            b            0.019473\n",
       "5                        Heat capacity(KJ/kg.k)            0.013761\n",
       "8                                           HCP            0.006567\n",
       "7                                           FCC            0.005500\n",
       "6                                           BCC            0.000924\n",
       "13                                        gamma            0.000370\n",
       "12                                         beta            0.000033"
      ]
     },
     "execution_count": 188,
     "metadata": {},
     "output_type": "execute_result"
    }
   ],
   "source": [
    "feature_importance_for_random_forest.sort_values(by='feature_importance', ascending=False)"
   ]
  },
  {
   "cell_type": "markdown",
   "id": "dab372af",
   "metadata": {},
   "source": [
    "### To remove a column from data, then check it's RMSE and MAE"
   ]
  },
  {
   "cell_type": "code",
   "execution_count": 189,
   "id": "fdca373d",
   "metadata": {},
   "outputs": [],
   "source": [
    "column_name = Elastic_data.columns\n",
    "dct = {\n",
    "    'column_removed' : [],\n",
    "    'rmse' : [],\n",
    "    'mae' : []\n",
    "}\n",
    "df = pd.DataFrame(dct)\n",
    "for i in range(0, X.shape[1]):\n",
    "    \n",
    "    # Removing the ith column, how much rmse and mae do we get?\n",
    "    Xnew_scaled = np.delete(X_scaled, i, 1)\n",
    "    \n",
    "    rf = RandomForestRegressor(n_estimators=25, random_state=17)\n",
    "    X_train_scaled, X_test_scaled, y_train, y_test = train_test_split(Xnew_scaled, y, test_size=0.04184, random_state=17)\n",
    "    rf.fit(X=X_train_scaled, y=y_train)\n",
    "    rf_predicted = rf.predict(X_test_scaled)\n",
    "    df.loc[df.shape[0]] = [column_name[i], np.sqrt(mean_squared_error(rf_predicted, y_test)), mean_absolute_error(rf_predicted, y_test)]"
   ]
  },
  {
   "cell_type": "code",
   "execution_count": 190,
   "id": "0d31115c",
   "metadata": {},
   "outputs": [
    {
     "data": {
      "text/html": [
       "<div>\n",
       "<style scoped>\n",
       "    .dataframe tbody tr th:only-of-type {\n",
       "        vertical-align: middle;\n",
       "    }\n",
       "\n",
       "    .dataframe tbody tr th {\n",
       "        vertical-align: top;\n",
       "    }\n",
       "\n",
       "    .dataframe thead th {\n",
       "        text-align: right;\n",
       "    }\n",
       "</style>\n",
       "<table border=\"1\" class=\"dataframe\">\n",
       "  <thead>\n",
       "    <tr style=\"text-align: right;\">\n",
       "      <th></th>\n",
       "      <th>column_removed</th>\n",
       "      <th>rmse</th>\n",
       "      <th>mae</th>\n",
       "    </tr>\n",
       "  </thead>\n",
       "  <tbody>\n",
       "    <tr>\n",
       "      <th>14</th>\n",
       "      <td>Grain size(um)</td>\n",
       "      <td>3933.546002</td>\n",
       "      <td>2074.717111</td>\n",
       "    </tr>\n",
       "    <tr>\n",
       "      <th>0</th>\n",
       "      <td>Atomic/Molecular Weight(u)</td>\n",
       "      <td>4830.841474</td>\n",
       "      <td>2463.506897</td>\n",
       "    </tr>\n",
       "    <tr>\n",
       "      <th>9</th>\n",
       "      <td>a</td>\n",
       "      <td>5038.507093</td>\n",
       "      <td>2579.615349</td>\n",
       "    </tr>\n",
       "    <tr>\n",
       "      <th>10</th>\n",
       "      <td>b</td>\n",
       "      <td>5038.507093</td>\n",
       "      <td>2579.615349</td>\n",
       "    </tr>\n",
       "    <tr>\n",
       "      <th>8</th>\n",
       "      <td>HCP</td>\n",
       "      <td>5075.624454</td>\n",
       "      <td>2533.423681</td>\n",
       "    </tr>\n",
       "    <tr>\n",
       "      <th>7</th>\n",
       "      <td>FCC</td>\n",
       "      <td>5094.402558</td>\n",
       "      <td>2645.727616</td>\n",
       "    </tr>\n",
       "    <tr>\n",
       "      <th>13</th>\n",
       "      <td>gamma</td>\n",
       "      <td>5101.783669</td>\n",
       "      <td>2617.536497</td>\n",
       "    </tr>\n",
       "    <tr>\n",
       "      <th>12</th>\n",
       "      <td>beta</td>\n",
       "      <td>5163.729968</td>\n",
       "      <td>2649.698485</td>\n",
       "    </tr>\n",
       "    <tr>\n",
       "      <th>5</th>\n",
       "      <td>Heat capacity(KJ/kg.k)</td>\n",
       "      <td>5228.887448</td>\n",
       "      <td>2731.994913</td>\n",
       "    </tr>\n",
       "    <tr>\n",
       "      <th>3</th>\n",
       "      <td>Melting Point(K)</td>\n",
       "      <td>5280.882079</td>\n",
       "      <td>2835.051120</td>\n",
       "    </tr>\n",
       "    <tr>\n",
       "      <th>6</th>\n",
       "      <td>BCC</td>\n",
       "      <td>5281.499446</td>\n",
       "      <td>2722.977789</td>\n",
       "    </tr>\n",
       "    <tr>\n",
       "      <th>11</th>\n",
       "      <td>c</td>\n",
       "      <td>5627.952220</td>\n",
       "      <td>2948.896125</td>\n",
       "    </tr>\n",
       "    <tr>\n",
       "      <th>1</th>\n",
       "      <td>Density(g/cc)</td>\n",
       "      <td>5702.513663</td>\n",
       "      <td>2865.087053</td>\n",
       "    </tr>\n",
       "    <tr>\n",
       "      <th>2</th>\n",
       "      <td>Temperature (K) at which test was performed</td>\n",
       "      <td>6557.363906</td>\n",
       "      <td>3675.617623</td>\n",
       "    </tr>\n",
       "    <tr>\n",
       "      <th>4</th>\n",
       "      <td>Strain rate</td>\n",
       "      <td>7965.984777</td>\n",
       "      <td>4490.600908</td>\n",
       "    </tr>\n",
       "  </tbody>\n",
       "</table>\n",
       "</div>"
      ],
      "text/plain": [
       "                                 column_removed         rmse          mae\n",
       "14                               Grain size(um)  3933.546002  2074.717111\n",
       "0                    Atomic/Molecular Weight(u)  4830.841474  2463.506897\n",
       "9                                             a  5038.507093  2579.615349\n",
       "10                                            b  5038.507093  2579.615349\n",
       "8                                           HCP  5075.624454  2533.423681\n",
       "7                                           FCC  5094.402558  2645.727616\n",
       "13                                        gamma  5101.783669  2617.536497\n",
       "12                                         beta  5163.729968  2649.698485\n",
       "5                        Heat capacity(KJ/kg.k)  5228.887448  2731.994913\n",
       "3                              Melting Point(K)  5280.882079  2835.051120\n",
       "6                                           BCC  5281.499446  2722.977789\n",
       "11                                            c  5627.952220  2948.896125\n",
       "1                                 Density(g/cc)  5702.513663  2865.087053\n",
       "2   Temperature (K) at which test was performed  6557.363906  3675.617623\n",
       "4                                   Strain rate  7965.984777  4490.600908"
      ]
     },
     "execution_count": 190,
     "metadata": {},
     "output_type": "execute_result"
    }
   ],
   "source": [
    "df.sort_values(by=['rmse', 'mae'])"
   ]
  },
  {
   "cell_type": "markdown",
   "id": "0575d492",
   "metadata": {},
   "source": [
    "### To remove some columns based on correlation coefficients"
   ]
  },
  {
   "cell_type": "code",
   "execution_count": 191,
   "id": "0741fb91",
   "metadata": {},
   "outputs": [],
   "source": [
    "rf = RandomForestRegressor(n_estimators=25, random_state=17)\n",
    "rf.fit(X_train_updated, y_train_updated)\n",
    "rf_pred_updated = rf.predict(X_test_updated)"
   ]
  },
  {
   "cell_type": "code",
   "execution_count": 192,
   "id": "7363852c",
   "metadata": {},
   "outputs": [
    {
     "data": {
      "text/plain": [
       "5846.601845050086"
      ]
     },
     "execution_count": 192,
     "metadata": {},
     "output_type": "execute_result"
    }
   ],
   "source": [
    "np.sqrt(mean_squared_error(y_test,rf_pred_updated))"
   ]
  },
  {
   "cell_type": "code",
   "execution_count": 193,
   "id": "9a8a9629",
   "metadata": {},
   "outputs": [
    {
     "data": {
      "text/plain": [
       "3403.019951504893"
      ]
     },
     "execution_count": 193,
     "metadata": {},
     "output_type": "execute_result"
    }
   ],
   "source": [
    "mean_absolute_error(y_test, rf_pred_updated)"
   ]
  },
  {
   "cell_type": "code",
   "execution_count": 194,
   "id": "691fbefd",
   "metadata": {},
   "outputs": [],
   "source": [
    "yield_df = pd.DataFrame({\n",
    "    'y_test_elastic_modulus' : y_test,\n",
    "    'y_predicted_elastic_modulus' : rf_pred_updated\n",
    "})"
   ]
  },
  {
   "cell_type": "code",
   "execution_count": 195,
   "id": "82457773",
   "metadata": {},
   "outputs": [
    {
     "data": {
      "text/html": [
       "<div>\n",
       "<style scoped>\n",
       "    .dataframe tbody tr th:only-of-type {\n",
       "        vertical-align: middle;\n",
       "    }\n",
       "\n",
       "    .dataframe tbody tr th {\n",
       "        vertical-align: top;\n",
       "    }\n",
       "\n",
       "    .dataframe thead th {\n",
       "        text-align: right;\n",
       "    }\n",
       "</style>\n",
       "<table border=\"1\" class=\"dataframe\">\n",
       "  <thead>\n",
       "    <tr style=\"text-align: right;\">\n",
       "      <th></th>\n",
       "      <th>y_test_elastic_modulus</th>\n",
       "      <th>y_predicted_elastic_modulus</th>\n",
       "    </tr>\n",
       "  </thead>\n",
       "  <tbody>\n",
       "    <tr>\n",
       "      <th>0</th>\n",
       "      <td>39654.149</td>\n",
       "      <td>28990.193998</td>\n",
       "    </tr>\n",
       "    <tr>\n",
       "      <th>1</th>\n",
       "      <td>840.433</td>\n",
       "      <td>869.276177</td>\n",
       "    </tr>\n",
       "    <tr>\n",
       "      <th>2</th>\n",
       "      <td>73053.117</td>\n",
       "      <td>58901.309130</td>\n",
       "    </tr>\n",
       "    <tr>\n",
       "      <th>3</th>\n",
       "      <td>4938.679</td>\n",
       "      <td>4366.141349</td>\n",
       "    </tr>\n",
       "    <tr>\n",
       "      <th>4</th>\n",
       "      <td>12400.150</td>\n",
       "      <td>11093.121318</td>\n",
       "    </tr>\n",
       "    <tr>\n",
       "      <th>5</th>\n",
       "      <td>5035.450</td>\n",
       "      <td>6653.929747</td>\n",
       "    </tr>\n",
       "    <tr>\n",
       "      <th>6</th>\n",
       "      <td>1017.566</td>\n",
       "      <td>1258.373411</td>\n",
       "    </tr>\n",
       "    <tr>\n",
       "      <th>7</th>\n",
       "      <td>845.366</td>\n",
       "      <td>1027.227686</td>\n",
       "    </tr>\n",
       "    <tr>\n",
       "      <th>8</th>\n",
       "      <td>24543.800</td>\n",
       "      <td>19763.459146</td>\n",
       "    </tr>\n",
       "    <tr>\n",
       "      <th>9</th>\n",
       "      <td>254.700</td>\n",
       "      <td>739.237433</td>\n",
       "    </tr>\n",
       "  </tbody>\n",
       "</table>\n",
       "</div>"
      ],
      "text/plain": [
       "   y_test_elastic_modulus  y_predicted_elastic_modulus\n",
       "0               39654.149                 28990.193998\n",
       "1                 840.433                   869.276177\n",
       "2               73053.117                 58901.309130\n",
       "3                4938.679                  4366.141349\n",
       "4               12400.150                 11093.121318\n",
       "5                5035.450                  6653.929747\n",
       "6                1017.566                  1258.373411\n",
       "7                 845.366                  1027.227686\n",
       "8               24543.800                 19763.459146\n",
       "9                 254.700                   739.237433"
      ]
     },
     "execution_count": 195,
     "metadata": {},
     "output_type": "execute_result"
    }
   ],
   "source": [
    "yield_df"
   ]
  },
  {
   "cell_type": "code",
   "execution_count": 196,
   "id": "47ea8029",
   "metadata": {},
   "outputs": [],
   "source": [
    "r2 = r2_score(y_test,rf_pred_updated)"
   ]
  },
  {
   "cell_type": "code",
   "execution_count": 197,
   "id": "8363d9c6",
   "metadata": {},
   "outputs": [
    {
     "data": {
      "text/plain": [
       "0.9326355608899163"
      ]
     },
     "execution_count": 197,
     "metadata": {},
     "output_type": "execute_result"
    }
   ],
   "source": [
    "r2"
   ]
  },
  {
   "cell_type": "markdown",
   "id": "36da0a31",
   "metadata": {},
   "source": [
    "### Linear Regression Model"
   ]
  },
  {
   "cell_type": "code",
   "execution_count": 198,
   "id": "fb587428",
   "metadata": {},
   "outputs": [],
   "source": [
    "from sklearn.linear_model import LinearRegression\n",
    "lr = LinearRegression()"
   ]
  },
  {
   "cell_type": "code",
   "execution_count": 199,
   "id": "763786eb",
   "metadata": {},
   "outputs": [
    {
     "data": {
      "text/plain": [
       "array([ 9470.1999598 ,  7426.70192011,  7938.06304653,  4787.65033322,\n",
       "       12977.157042  ])"
      ]
     },
     "execution_count": 199,
     "metadata": {},
     "output_type": "execute_result"
    }
   ],
   "source": [
    "(-1)*cross_val_score(lr, X_train, y_train, scoring='neg_root_mean_squared_error', cv=5)"
   ]
  },
  {
   "cell_type": "code",
   "execution_count": 200,
   "id": "80af6c9c",
   "metadata": {},
   "outputs": [
    {
     "name": "stdout",
     "output_type": "stream",
     "text": [
      "8519.954460331648\n"
     ]
    }
   ],
   "source": [
    "print(np.mean((-1)*cross_val_score(lr, X_train, y_train, scoring='neg_root_mean_squared_error', cv=5)))"
   ]
  },
  {
   "cell_type": "code",
   "execution_count": 201,
   "id": "234d762e",
   "metadata": {},
   "outputs": [
    {
     "data": {
      "text/plain": [
       "LinearRegression()"
      ]
     },
     "execution_count": 201,
     "metadata": {},
     "output_type": "execute_result"
    }
   ],
   "source": [
    "lr.fit(X_train, y_train)"
   ]
  },
  {
   "cell_type": "code",
   "execution_count": 202,
   "id": "683fef94",
   "metadata": {},
   "outputs": [],
   "source": [
    "lr_pred = lr.predict(X_test)"
   ]
  },
  {
   "cell_type": "code",
   "execution_count": 203,
   "id": "b64fe26e",
   "metadata": {},
   "outputs": [
    {
     "data": {
      "text/plain": [
       "6414.857926365779"
      ]
     },
     "execution_count": 203,
     "metadata": {},
     "output_type": "execute_result"
    }
   ],
   "source": [
    "np.sqrt(mean_squared_error(y_test, lr_pred))"
   ]
  },
  {
   "cell_type": "code",
   "execution_count": 204,
   "id": "b21adda6",
   "metadata": {},
   "outputs": [
    {
     "data": {
      "text/plain": [
       "4227.049357883295"
      ]
     },
     "execution_count": 204,
     "metadata": {},
     "output_type": "execute_result"
    }
   ],
   "source": [
    "mean_absolute_error(y_test, lr_pred)"
   ]
  },
  {
   "cell_type": "code",
   "execution_count": 205,
   "id": "83a6bd6c",
   "metadata": {},
   "outputs": [],
   "source": [
    "yield_df = pd.DataFrame({\n",
    "    'y_test_elastic_modulus' : y_test,\n",
    "    'y_predicted_elastic_modulus' : lr_pred\n",
    "})"
   ]
  },
  {
   "cell_type": "code",
   "execution_count": 206,
   "id": "954322ce",
   "metadata": {},
   "outputs": [
    {
     "data": {
      "text/html": [
       "<div>\n",
       "<style scoped>\n",
       "    .dataframe tbody tr th:only-of-type {\n",
       "        vertical-align: middle;\n",
       "    }\n",
       "\n",
       "    .dataframe tbody tr th {\n",
       "        vertical-align: top;\n",
       "    }\n",
       "\n",
       "    .dataframe thead th {\n",
       "        text-align: right;\n",
       "    }\n",
       "</style>\n",
       "<table border=\"1\" class=\"dataframe\">\n",
       "  <thead>\n",
       "    <tr style=\"text-align: right;\">\n",
       "      <th></th>\n",
       "      <th>y_test_elastic_modulus</th>\n",
       "      <th>y_predicted_elastic_modulus</th>\n",
       "    </tr>\n",
       "  </thead>\n",
       "  <tbody>\n",
       "    <tr>\n",
       "      <th>0</th>\n",
       "      <td>39654.149</td>\n",
       "      <td>36098.202727</td>\n",
       "    </tr>\n",
       "    <tr>\n",
       "      <th>1</th>\n",
       "      <td>840.433</td>\n",
       "      <td>638.245164</td>\n",
       "    </tr>\n",
       "    <tr>\n",
       "      <th>2</th>\n",
       "      <td>73053.117</td>\n",
       "      <td>55297.723305</td>\n",
       "    </tr>\n",
       "    <tr>\n",
       "      <th>3</th>\n",
       "      <td>4938.679</td>\n",
       "      <td>6691.385944</td>\n",
       "    </tr>\n",
       "    <tr>\n",
       "      <th>4</th>\n",
       "      <td>12400.150</td>\n",
       "      <td>12455.630294</td>\n",
       "    </tr>\n",
       "    <tr>\n",
       "      <th>5</th>\n",
       "      <td>5035.450</td>\n",
       "      <td>-1326.561260</td>\n",
       "    </tr>\n",
       "    <tr>\n",
       "      <th>6</th>\n",
       "      <td>1017.566</td>\n",
       "      <td>-2255.740066</td>\n",
       "    </tr>\n",
       "    <tr>\n",
       "      <th>7</th>\n",
       "      <td>845.366</td>\n",
       "      <td>-2255.945096</td>\n",
       "    </tr>\n",
       "    <tr>\n",
       "      <th>8</th>\n",
       "      <td>24543.800</td>\n",
       "      <td>20998.368331</td>\n",
       "    </tr>\n",
       "    <tr>\n",
       "      <th>9</th>\n",
       "      <td>254.700</td>\n",
       "      <td>2921.418445</td>\n",
       "    </tr>\n",
       "  </tbody>\n",
       "</table>\n",
       "</div>"
      ],
      "text/plain": [
       "   y_test_elastic_modulus  y_predicted_elastic_modulus\n",
       "0               39654.149                 36098.202727\n",
       "1                 840.433                   638.245164\n",
       "2               73053.117                 55297.723305\n",
       "3                4938.679                  6691.385944\n",
       "4               12400.150                 12455.630294\n",
       "5                5035.450                 -1326.561260\n",
       "6                1017.566                 -2255.740066\n",
       "7                 845.366                 -2255.945096\n",
       "8               24543.800                 20998.368331\n",
       "9                 254.700                  2921.418445"
      ]
     },
     "execution_count": 206,
     "metadata": {},
     "output_type": "execute_result"
    }
   ],
   "source": [
    "yield_df"
   ]
  },
  {
   "cell_type": "code",
   "execution_count": 207,
   "id": "ff7d3c80",
   "metadata": {},
   "outputs": [],
   "source": [
    "r2 = r2_score(y_test,lr_pred)"
   ]
  },
  {
   "cell_type": "code",
   "execution_count": 208,
   "id": "63e2c10d",
   "metadata": {},
   "outputs": [
    {
     "data": {
      "text/plain": [
       "0.9189043154748886"
      ]
     },
     "execution_count": 208,
     "metadata": {},
     "output_type": "execute_result"
    }
   ],
   "source": [
    "r2"
   ]
  },
  {
   "cell_type": "markdown",
   "id": "4960d915",
   "metadata": {},
   "source": [
    "### Coefficient for LinearRegression"
   ]
  },
  {
   "cell_type": "code",
   "execution_count": 209,
   "id": "1b8246b7",
   "metadata": {},
   "outputs": [],
   "source": [
    "dct = {\n",
    "    'column_name' : [],\n",
    "    'feature_importance' : []\n",
    "}\n",
    "Coefficient_for_linear_regression = pd.DataFrame(dct)\n",
    "for i in range(0, 15):\n",
    "    Coefficient_for_linear_regression.loc[Coefficient_for_linear_regression.shape[0]] = [Elastic_data.columns[i], lr.coef_[i]]"
   ]
  },
  {
   "cell_type": "code",
   "execution_count": 210,
   "id": "50a0d0c8",
   "metadata": {},
   "outputs": [
    {
     "data": {
      "text/html": [
       "<div>\n",
       "<style scoped>\n",
       "    .dataframe tbody tr th:only-of-type {\n",
       "        vertical-align: middle;\n",
       "    }\n",
       "\n",
       "    .dataframe tbody tr th {\n",
       "        vertical-align: top;\n",
       "    }\n",
       "\n",
       "    .dataframe thead th {\n",
       "        text-align: right;\n",
       "    }\n",
       "</style>\n",
       "<table border=\"1\" class=\"dataframe\">\n",
       "  <thead>\n",
       "    <tr style=\"text-align: right;\">\n",
       "      <th></th>\n",
       "      <th>column_name</th>\n",
       "      <th>feature_importance</th>\n",
       "    </tr>\n",
       "  </thead>\n",
       "  <tbody>\n",
       "    <tr>\n",
       "      <th>1</th>\n",
       "      <td>Density(g/cc)</td>\n",
       "      <td>59433.941439</td>\n",
       "    </tr>\n",
       "    <tr>\n",
       "      <th>13</th>\n",
       "      <td>gamma</td>\n",
       "      <td>49799.451187</td>\n",
       "    </tr>\n",
       "    <tr>\n",
       "      <th>9</th>\n",
       "      <td>a</td>\n",
       "      <td>23328.095654</td>\n",
       "    </tr>\n",
       "    <tr>\n",
       "      <th>10</th>\n",
       "      <td>b</td>\n",
       "      <td>23328.095654</td>\n",
       "    </tr>\n",
       "    <tr>\n",
       "      <th>6</th>\n",
       "      <td>BCC</td>\n",
       "      <td>20991.031496</td>\n",
       "    </tr>\n",
       "    <tr>\n",
       "      <th>3</th>\n",
       "      <td>Melting Point(K)</td>\n",
       "      <td>19965.412404</td>\n",
       "    </tr>\n",
       "    <tr>\n",
       "      <th>12</th>\n",
       "      <td>beta</td>\n",
       "      <td>796.106906</td>\n",
       "    </tr>\n",
       "    <tr>\n",
       "      <th>4</th>\n",
       "      <td>Strain rate</td>\n",
       "      <td>650.452019</td>\n",
       "    </tr>\n",
       "    <tr>\n",
       "      <th>5</th>\n",
       "      <td>Heat capacity(KJ/kg.k)</td>\n",
       "      <td>-1524.519308</td>\n",
       "    </tr>\n",
       "    <tr>\n",
       "      <th>11</th>\n",
       "      <td>c</td>\n",
       "      <td>-1724.746021</td>\n",
       "    </tr>\n",
       "    <tr>\n",
       "      <th>14</th>\n",
       "      <td>Grain size(um)</td>\n",
       "      <td>-2231.150490</td>\n",
       "    </tr>\n",
       "    <tr>\n",
       "      <th>2</th>\n",
       "      <td>Temperature (K) at which test was performed</td>\n",
       "      <td>-5185.528072</td>\n",
       "    </tr>\n",
       "    <tr>\n",
       "      <th>7</th>\n",
       "      <td>FCC</td>\n",
       "      <td>-9598.823578</td>\n",
       "    </tr>\n",
       "    <tr>\n",
       "      <th>8</th>\n",
       "      <td>HCP</td>\n",
       "      <td>-10212.362459</td>\n",
       "    </tr>\n",
       "    <tr>\n",
       "      <th>0</th>\n",
       "      <td>Atomic/Molecular Weight(u)</td>\n",
       "      <td>-75997.071393</td>\n",
       "    </tr>\n",
       "  </tbody>\n",
       "</table>\n",
       "</div>"
      ],
      "text/plain": [
       "                                    column_name  feature_importance\n",
       "1                                 Density(g/cc)        59433.941439\n",
       "13                                        gamma        49799.451187\n",
       "9                                             a        23328.095654\n",
       "10                                            b        23328.095654\n",
       "6                                           BCC        20991.031496\n",
       "3                              Melting Point(K)        19965.412404\n",
       "12                                         beta          796.106906\n",
       "4                                   Strain rate          650.452019\n",
       "5                        Heat capacity(KJ/kg.k)        -1524.519308\n",
       "11                                            c        -1724.746021\n",
       "14                               Grain size(um)        -2231.150490\n",
       "2   Temperature (K) at which test was performed        -5185.528072\n",
       "7                                           FCC        -9598.823578\n",
       "8                                           HCP       -10212.362459\n",
       "0                    Atomic/Molecular Weight(u)       -75997.071393"
      ]
     },
     "execution_count": 210,
     "metadata": {},
     "output_type": "execute_result"
    }
   ],
   "source": [
    "Coefficient_for_linear_regression.sort_values(by='feature_importance', ascending=False)"
   ]
  },
  {
   "cell_type": "markdown",
   "id": "0025ae0e",
   "metadata": {},
   "source": [
    "### To remove a column from data, then check it's RMSE and MAE"
   ]
  },
  {
   "cell_type": "code",
   "execution_count": 211,
   "id": "4709ab05",
   "metadata": {},
   "outputs": [],
   "source": [
    "column_name = Elastic_data.columns\n",
    "dct = {\n",
    "    'column_removed' : [],\n",
    "    'rmse' : [],\n",
    "    'mae' : []\n",
    "}\n",
    "df = pd.DataFrame(dct)\n",
    "for i in range(0, X.shape[1]):\n",
    "    \n",
    "    # Removing the ith column, how much rmse and mae do we get?\n",
    "    Xnew_scaled = np.delete(X_scaled, i, 1)\n",
    "    \n",
    "    lr = LinearRegression()\n",
    "    X_train_scaled, X_test_scaled, y_train, y_test = train_test_split(Xnew_scaled, y, test_size=0.04184, random_state=17)\n",
    "    lr.fit(X=X_train_scaled, y=y_train)\n",
    "    lr_predicted = lr.predict(X_test_scaled)\n",
    "    df.loc[df.shape[0]] = [column_name[i], np.sqrt(mean_squared_error(lr_predicted, y_test)), mean_absolute_error(lr_predicted, y_test)]"
   ]
  },
  {
   "cell_type": "code",
   "execution_count": 212,
   "id": "98e52c23",
   "metadata": {},
   "outputs": [
    {
     "data": {
      "text/html": [
       "<div>\n",
       "<style scoped>\n",
       "    .dataframe tbody tr th:only-of-type {\n",
       "        vertical-align: middle;\n",
       "    }\n",
       "\n",
       "    .dataframe tbody tr th {\n",
       "        vertical-align: top;\n",
       "    }\n",
       "\n",
       "    .dataframe thead th {\n",
       "        text-align: right;\n",
       "    }\n",
       "</style>\n",
       "<table border=\"1\" class=\"dataframe\">\n",
       "  <thead>\n",
       "    <tr style=\"text-align: right;\">\n",
       "      <th></th>\n",
       "      <th>column_removed</th>\n",
       "      <th>rmse</th>\n",
       "      <th>mae</th>\n",
       "    </tr>\n",
       "  </thead>\n",
       "  <tbody>\n",
       "    <tr>\n",
       "      <th>14</th>\n",
       "      <td>Grain size(um)</td>\n",
       "      <td>6222.987671</td>\n",
       "      <td>4145.702763</td>\n",
       "    </tr>\n",
       "    <tr>\n",
       "      <th>11</th>\n",
       "      <td>c</td>\n",
       "      <td>6374.092998</td>\n",
       "      <td>4163.657259</td>\n",
       "    </tr>\n",
       "    <tr>\n",
       "      <th>9</th>\n",
       "      <td>a</td>\n",
       "      <td>6414.857926</td>\n",
       "      <td>4227.049358</td>\n",
       "    </tr>\n",
       "    <tr>\n",
       "      <th>10</th>\n",
       "      <td>b</td>\n",
       "      <td>6414.857926</td>\n",
       "      <td>4227.049358</td>\n",
       "    </tr>\n",
       "    <tr>\n",
       "      <th>7</th>\n",
       "      <td>FCC</td>\n",
       "      <td>6414.857926</td>\n",
       "      <td>4227.049358</td>\n",
       "    </tr>\n",
       "    <tr>\n",
       "      <th>8</th>\n",
       "      <td>HCP</td>\n",
       "      <td>6414.857926</td>\n",
       "      <td>4227.049358</td>\n",
       "    </tr>\n",
       "    <tr>\n",
       "      <th>6</th>\n",
       "      <td>BCC</td>\n",
       "      <td>6414.857926</td>\n",
       "      <td>4227.049358</td>\n",
       "    </tr>\n",
       "    <tr>\n",
       "      <th>12</th>\n",
       "      <td>beta</td>\n",
       "      <td>6432.573503</td>\n",
       "      <td>4259.159410</td>\n",
       "    </tr>\n",
       "    <tr>\n",
       "      <th>5</th>\n",
       "      <td>Heat capacity(KJ/kg.k)</td>\n",
       "      <td>6578.578260</td>\n",
       "      <td>4675.828750</td>\n",
       "    </tr>\n",
       "    <tr>\n",
       "      <th>4</th>\n",
       "      <td>Strain rate</td>\n",
       "      <td>6649.668606</td>\n",
       "      <td>4236.371303</td>\n",
       "    </tr>\n",
       "    <tr>\n",
       "      <th>13</th>\n",
       "      <td>gamma</td>\n",
       "      <td>7166.154878</td>\n",
       "      <td>3926.314752</td>\n",
       "    </tr>\n",
       "    <tr>\n",
       "      <th>2</th>\n",
       "      <td>Temperature (K) at which test was performed</td>\n",
       "      <td>7594.672255</td>\n",
       "      <td>5802.600951</td>\n",
       "    </tr>\n",
       "    <tr>\n",
       "      <th>3</th>\n",
       "      <td>Melting Point(K)</td>\n",
       "      <td>10322.456965</td>\n",
       "      <td>6885.841554</td>\n",
       "    </tr>\n",
       "    <tr>\n",
       "      <th>0</th>\n",
       "      <td>Atomic/Molecular Weight(u)</td>\n",
       "      <td>10877.997117</td>\n",
       "      <td>6521.371039</td>\n",
       "    </tr>\n",
       "    <tr>\n",
       "      <th>1</th>\n",
       "      <td>Density(g/cc)</td>\n",
       "      <td>10999.360832</td>\n",
       "      <td>6310.439457</td>\n",
       "    </tr>\n",
       "  </tbody>\n",
       "</table>\n",
       "</div>"
      ],
      "text/plain": [
       "                                 column_removed          rmse          mae\n",
       "14                               Grain size(um)   6222.987671  4145.702763\n",
       "11                                            c   6374.092998  4163.657259\n",
       "9                                             a   6414.857926  4227.049358\n",
       "10                                            b   6414.857926  4227.049358\n",
       "7                                           FCC   6414.857926  4227.049358\n",
       "8                                           HCP   6414.857926  4227.049358\n",
       "6                                           BCC   6414.857926  4227.049358\n",
       "12                                         beta   6432.573503  4259.159410\n",
       "5                        Heat capacity(KJ/kg.k)   6578.578260  4675.828750\n",
       "4                                   Strain rate   6649.668606  4236.371303\n",
       "13                                        gamma   7166.154878  3926.314752\n",
       "2   Temperature (K) at which test was performed   7594.672255  5802.600951\n",
       "3                              Melting Point(K)  10322.456965  6885.841554\n",
       "0                    Atomic/Molecular Weight(u)  10877.997117  6521.371039\n",
       "1                                 Density(g/cc)  10999.360832  6310.439457"
      ]
     },
     "execution_count": 212,
     "metadata": {},
     "output_type": "execute_result"
    }
   ],
   "source": [
    "df.sort_values(by=['rmse', 'mae'])"
   ]
  },
  {
   "cell_type": "markdown",
   "id": "dc773b34",
   "metadata": {},
   "source": [
    "### To remove some columns based on correlation coefficients"
   ]
  },
  {
   "cell_type": "code",
   "execution_count": 213,
   "id": "1f928f4d",
   "metadata": {},
   "outputs": [],
   "source": [
    "lr = LinearRegression()\n",
    "lr.fit(X_train_updated, y_train_updated)\n",
    "lr_pred_updated = lr.predict(X_test_updated)"
   ]
  },
  {
   "cell_type": "code",
   "execution_count": 214,
   "id": "3b6a6d30",
   "metadata": {},
   "outputs": [
    {
     "data": {
      "text/plain": [
       "7652.586643154403"
      ]
     },
     "execution_count": 214,
     "metadata": {},
     "output_type": "execute_result"
    }
   ],
   "source": [
    "np.sqrt(mean_squared_error(y_test, lr_pred_updated))"
   ]
  },
  {
   "cell_type": "code",
   "execution_count": 215,
   "id": "cda032de",
   "metadata": {},
   "outputs": [
    {
     "data": {
      "text/plain": [
       "5774.211309724036"
      ]
     },
     "execution_count": 215,
     "metadata": {},
     "output_type": "execute_result"
    }
   ],
   "source": [
    "mean_absolute_error(y_test, lr_pred_updated)"
   ]
  },
  {
   "cell_type": "code",
   "execution_count": 216,
   "id": "ed932afa",
   "metadata": {},
   "outputs": [],
   "source": [
    "yield_df = pd.DataFrame({\n",
    "    'y_test_elastic_modulus' : y_test,\n",
    "    'y_predicted_elastic_modulus' : lr_pred_updated\n",
    "})"
   ]
  },
  {
   "cell_type": "code",
   "execution_count": 217,
   "id": "3d662423",
   "metadata": {},
   "outputs": [
    {
     "data": {
      "text/html": [
       "<div>\n",
       "<style scoped>\n",
       "    .dataframe tbody tr th:only-of-type {\n",
       "        vertical-align: middle;\n",
       "    }\n",
       "\n",
       "    .dataframe tbody tr th {\n",
       "        vertical-align: top;\n",
       "    }\n",
       "\n",
       "    .dataframe thead th {\n",
       "        text-align: right;\n",
       "    }\n",
       "</style>\n",
       "<table border=\"1\" class=\"dataframe\">\n",
       "  <thead>\n",
       "    <tr style=\"text-align: right;\">\n",
       "      <th></th>\n",
       "      <th>y_test_elastic_modulus</th>\n",
       "      <th>y_predicted_elastic_modulus</th>\n",
       "    </tr>\n",
       "  </thead>\n",
       "  <tbody>\n",
       "    <tr>\n",
       "      <th>0</th>\n",
       "      <td>39654.149</td>\n",
       "      <td>28727.390371</td>\n",
       "    </tr>\n",
       "    <tr>\n",
       "      <th>1</th>\n",
       "      <td>840.433</td>\n",
       "      <td>3327.289770</td>\n",
       "    </tr>\n",
       "    <tr>\n",
       "      <th>2</th>\n",
       "      <td>73053.117</td>\n",
       "      <td>55926.668674</td>\n",
       "    </tr>\n",
       "    <tr>\n",
       "      <th>3</th>\n",
       "      <td>4938.679</td>\n",
       "      <td>8052.065279</td>\n",
       "    </tr>\n",
       "    <tr>\n",
       "      <th>4</th>\n",
       "      <td>12400.150</td>\n",
       "      <td>9152.867395</td>\n",
       "    </tr>\n",
       "    <tr>\n",
       "      <th>5</th>\n",
       "      <td>5035.450</td>\n",
       "      <td>4331.849464</td>\n",
       "    </tr>\n",
       "    <tr>\n",
       "      <th>6</th>\n",
       "      <td>1017.566</td>\n",
       "      <td>3327.797506</td>\n",
       "    </tr>\n",
       "    <tr>\n",
       "      <th>7</th>\n",
       "      <td>845.366</td>\n",
       "      <td>3327.335928</td>\n",
       "    </tr>\n",
       "    <tr>\n",
       "      <th>8</th>\n",
       "      <td>24543.800</td>\n",
       "      <td>13976.768717</td>\n",
       "    </tr>\n",
       "    <tr>\n",
       "      <th>9</th>\n",
       "      <td>254.700</td>\n",
       "      <td>5033.247236</td>\n",
       "    </tr>\n",
       "  </tbody>\n",
       "</table>\n",
       "</div>"
      ],
      "text/plain": [
       "   y_test_elastic_modulus  y_predicted_elastic_modulus\n",
       "0               39654.149                 28727.390371\n",
       "1                 840.433                  3327.289770\n",
       "2               73053.117                 55926.668674\n",
       "3                4938.679                  8052.065279\n",
       "4               12400.150                  9152.867395\n",
       "5                5035.450                  4331.849464\n",
       "6                1017.566                  3327.797506\n",
       "7                 845.366                  3327.335928\n",
       "8               24543.800                 13976.768717\n",
       "9                 254.700                  5033.247236"
      ]
     },
     "execution_count": 217,
     "metadata": {},
     "output_type": "execute_result"
    }
   ],
   "source": [
    "yield_df"
   ]
  },
  {
   "cell_type": "code",
   "execution_count": 218,
   "id": "20615d09",
   "metadata": {},
   "outputs": [],
   "source": [
    "r2 = r2_score(y_test,lr_pred_updated)"
   ]
  },
  {
   "cell_type": "code",
   "execution_count": 219,
   "id": "98f1adb7",
   "metadata": {},
   "outputs": [
    {
     "data": {
      "text/plain": [
       "0.8845908691491916"
      ]
     },
     "execution_count": 219,
     "metadata": {},
     "output_type": "execute_result"
    }
   ],
   "source": [
    "r2"
   ]
  },
  {
   "cell_type": "markdown",
   "id": "e0b8a971",
   "metadata": {},
   "source": [
    "### AdaBoostRegressor Model"
   ]
  },
  {
   "cell_type": "code",
   "execution_count": 220,
   "id": "b547409a",
   "metadata": {},
   "outputs": [],
   "source": [
    "from sklearn.ensemble import AdaBoostRegressor\n",
    "ada_boost = AdaBoostRegressor(random_state=17)"
   ]
  },
  {
   "cell_type": "code",
   "execution_count": 221,
   "id": "2ef06058",
   "metadata": {},
   "outputs": [
    {
     "data": {
      "text/plain": [
       "array([7877.49126011, 6882.04498521, 7438.13913141, 4541.30471672,\n",
       "       3721.10870312])"
      ]
     },
     "execution_count": 221,
     "metadata": {},
     "output_type": "execute_result"
    }
   ],
   "source": [
    "(-1)*cross_val_score(ada_boost, X_train, y_train, scoring='neg_root_mean_squared_error', cv=5)"
   ]
  },
  {
   "cell_type": "code",
   "execution_count": 222,
   "id": "be24be3c",
   "metadata": {},
   "outputs": [
    {
     "name": "stdout",
     "output_type": "stream",
     "text": [
      "6092.01775931347\n"
     ]
    }
   ],
   "source": [
    "print(np.mean((-1)*cross_val_score(ada_boost, X_train, y_train, scoring='neg_root_mean_squared_error', cv=5)))"
   ]
  },
  {
   "cell_type": "code",
   "execution_count": 223,
   "id": "50f21f32",
   "metadata": {},
   "outputs": [
    {
     "data": {
      "text/plain": [
       "AdaBoostRegressor(random_state=17)"
      ]
     },
     "execution_count": 223,
     "metadata": {},
     "output_type": "execute_result"
    }
   ],
   "source": [
    "ada_boost.fit(X_train, y_train)"
   ]
  },
  {
   "cell_type": "code",
   "execution_count": 224,
   "id": "60f48e71",
   "metadata": {},
   "outputs": [],
   "source": [
    "ada_boost_pred = ada_boost.predict(X_test)"
   ]
  },
  {
   "cell_type": "code",
   "execution_count": 225,
   "id": "97caa471",
   "metadata": {},
   "outputs": [
    {
     "data": {
      "text/plain": [
       "6318.5645770639"
      ]
     },
     "execution_count": 225,
     "metadata": {},
     "output_type": "execute_result"
    }
   ],
   "source": [
    "np.sqrt(mean_squared_error(y_test,ada_boost_pred))"
   ]
  },
  {
   "cell_type": "code",
   "execution_count": 226,
   "id": "46af1146",
   "metadata": {},
   "outputs": [
    {
     "data": {
      "text/plain": [
       "4061.254980601727"
      ]
     },
     "execution_count": 226,
     "metadata": {},
     "output_type": "execute_result"
    }
   ],
   "source": [
    "mean_absolute_error(y_test, ada_boost_pred)"
   ]
  },
  {
   "cell_type": "code",
   "execution_count": 227,
   "id": "352ba3bc",
   "metadata": {},
   "outputs": [],
   "source": [
    "yield_df = pd.DataFrame({\n",
    "    'y_test_elastic_modulus' : y_test,\n",
    "    'y_predicted_elastic_modulus' : ada_boost_pred\n",
    "})"
   ]
  },
  {
   "cell_type": "code",
   "execution_count": 228,
   "id": "11bd967e",
   "metadata": {},
   "outputs": [
    {
     "data": {
      "text/html": [
       "<div>\n",
       "<style scoped>\n",
       "    .dataframe tbody tr th:only-of-type {\n",
       "        vertical-align: middle;\n",
       "    }\n",
       "\n",
       "    .dataframe tbody tr th {\n",
       "        vertical-align: top;\n",
       "    }\n",
       "\n",
       "    .dataframe thead th {\n",
       "        text-align: right;\n",
       "    }\n",
       "</style>\n",
       "<table border=\"1\" class=\"dataframe\">\n",
       "  <thead>\n",
       "    <tr style=\"text-align: right;\">\n",
       "      <th></th>\n",
       "      <th>y_test_elastic_modulus</th>\n",
       "      <th>y_predicted_elastic_modulus</th>\n",
       "    </tr>\n",
       "  </thead>\n",
       "  <tbody>\n",
       "    <tr>\n",
       "      <th>0</th>\n",
       "      <td>39654.149</td>\n",
       "      <td>36310.267455</td>\n",
       "    </tr>\n",
       "    <tr>\n",
       "      <th>1</th>\n",
       "      <td>840.433</td>\n",
       "      <td>3658.122542</td>\n",
       "    </tr>\n",
       "    <tr>\n",
       "      <th>2</th>\n",
       "      <td>73053.117</td>\n",
       "      <td>54729.034354</td>\n",
       "    </tr>\n",
       "    <tr>\n",
       "      <th>3</th>\n",
       "      <td>4938.679</td>\n",
       "      <td>8246.559545</td>\n",
       "    </tr>\n",
       "    <tr>\n",
       "      <th>4</th>\n",
       "      <td>12400.150</td>\n",
       "      <td>11195.043419</td>\n",
       "    </tr>\n",
       "    <tr>\n",
       "      <th>5</th>\n",
       "      <td>5035.450</td>\n",
       "      <td>4360.168029</td>\n",
       "    </tr>\n",
       "    <tr>\n",
       "      <th>6</th>\n",
       "      <td>1017.566</td>\n",
       "      <td>3658.122542</td>\n",
       "    </tr>\n",
       "    <tr>\n",
       "      <th>7</th>\n",
       "      <td>845.366</td>\n",
       "      <td>3658.122542</td>\n",
       "    </tr>\n",
       "    <tr>\n",
       "      <th>8</th>\n",
       "      <td>24543.800</td>\n",
       "      <td>22687.378464</td>\n",
       "    </tr>\n",
       "    <tr>\n",
       "      <th>9</th>\n",
       "      <td>254.700</td>\n",
       "      <td>3883.592357</td>\n",
       "    </tr>\n",
       "  </tbody>\n",
       "</table>\n",
       "</div>"
      ],
      "text/plain": [
       "   y_test_elastic_modulus  y_predicted_elastic_modulus\n",
       "0               39654.149                 36310.267455\n",
       "1                 840.433                  3658.122542\n",
       "2               73053.117                 54729.034354\n",
       "3                4938.679                  8246.559545\n",
       "4               12400.150                 11195.043419\n",
       "5                5035.450                  4360.168029\n",
       "6                1017.566                  3658.122542\n",
       "7                 845.366                  3658.122542\n",
       "8               24543.800                 22687.378464\n",
       "9                 254.700                  3883.592357"
      ]
     },
     "execution_count": 228,
     "metadata": {},
     "output_type": "execute_result"
    }
   ],
   "source": [
    "yield_df"
   ]
  },
  {
   "cell_type": "code",
   "execution_count": 229,
   "id": "f63b7354",
   "metadata": {},
   "outputs": [],
   "source": [
    "r2 = r2_score(y_test,ada_boost_pred)"
   ]
  },
  {
   "cell_type": "code",
   "execution_count": 230,
   "id": "82838a2c",
   "metadata": {},
   "outputs": [
    {
     "data": {
      "text/plain": [
       "0.9213206947474818"
      ]
     },
     "execution_count": 230,
     "metadata": {},
     "output_type": "execute_result"
    }
   ],
   "source": [
    "r2"
   ]
  },
  {
   "cell_type": "markdown",
   "id": "28a8b24b",
   "metadata": {},
   "source": [
    "### Feature importance for AdaBoostRegressor"
   ]
  },
  {
   "cell_type": "code",
   "execution_count": 231,
   "id": "eb8936c4",
   "metadata": {},
   "outputs": [],
   "source": [
    "dct = {\n",
    "    'column_name' : [],\n",
    "    'feature_importance' : []\n",
    "}\n",
    "feature_importance_for_ada_boost = pd.DataFrame(dct)\n",
    "for i in range(0, 15):\n",
    "    feature_importance_for_ada_boost.loc[feature_importance_for_ada_boost.shape[0]] = [Elastic_data.columns[i], ada_boost.feature_importances_[i]]"
   ]
  },
  {
   "cell_type": "code",
   "execution_count": 232,
   "id": "7fa101e1",
   "metadata": {},
   "outputs": [
    {
     "data": {
      "text/html": [
       "<div>\n",
       "<style scoped>\n",
       "    .dataframe tbody tr th:only-of-type {\n",
       "        vertical-align: middle;\n",
       "    }\n",
       "\n",
       "    .dataframe tbody tr th {\n",
       "        vertical-align: top;\n",
       "    }\n",
       "\n",
       "    .dataframe thead th {\n",
       "        text-align: right;\n",
       "    }\n",
       "</style>\n",
       "<table border=\"1\" class=\"dataframe\">\n",
       "  <thead>\n",
       "    <tr style=\"text-align: right;\">\n",
       "      <th></th>\n",
       "      <th>column_name</th>\n",
       "      <th>feature_importance</th>\n",
       "    </tr>\n",
       "  </thead>\n",
       "  <tbody>\n",
       "    <tr>\n",
       "      <th>2</th>\n",
       "      <td>Temperature (K) at which test was performed</td>\n",
       "      <td>0.282380</td>\n",
       "    </tr>\n",
       "    <tr>\n",
       "      <th>3</th>\n",
       "      <td>Melting Point(K)</td>\n",
       "      <td>0.208920</td>\n",
       "    </tr>\n",
       "    <tr>\n",
       "      <th>11</th>\n",
       "      <td>c</td>\n",
       "      <td>0.206270</td>\n",
       "    </tr>\n",
       "    <tr>\n",
       "      <th>14</th>\n",
       "      <td>Grain size(um)</td>\n",
       "      <td>0.097866</td>\n",
       "    </tr>\n",
       "    <tr>\n",
       "      <th>4</th>\n",
       "      <td>Strain rate</td>\n",
       "      <td>0.093949</td>\n",
       "    </tr>\n",
       "    <tr>\n",
       "      <th>1</th>\n",
       "      <td>Density(g/cc)</td>\n",
       "      <td>0.059202</td>\n",
       "    </tr>\n",
       "    <tr>\n",
       "      <th>9</th>\n",
       "      <td>a</td>\n",
       "      <td>0.025419</td>\n",
       "    </tr>\n",
       "    <tr>\n",
       "      <th>0</th>\n",
       "      <td>Atomic/Molecular Weight(u)</td>\n",
       "      <td>0.019108</td>\n",
       "    </tr>\n",
       "    <tr>\n",
       "      <th>10</th>\n",
       "      <td>b</td>\n",
       "      <td>0.003854</td>\n",
       "    </tr>\n",
       "    <tr>\n",
       "      <th>5</th>\n",
       "      <td>Heat capacity(KJ/kg.k)</td>\n",
       "      <td>0.001644</td>\n",
       "    </tr>\n",
       "    <tr>\n",
       "      <th>6</th>\n",
       "      <td>BCC</td>\n",
       "      <td>0.000860</td>\n",
       "    </tr>\n",
       "    <tr>\n",
       "      <th>7</th>\n",
       "      <td>FCC</td>\n",
       "      <td>0.000298</td>\n",
       "    </tr>\n",
       "    <tr>\n",
       "      <th>13</th>\n",
       "      <td>gamma</td>\n",
       "      <td>0.000152</td>\n",
       "    </tr>\n",
       "    <tr>\n",
       "      <th>8</th>\n",
       "      <td>HCP</td>\n",
       "      <td>0.000079</td>\n",
       "    </tr>\n",
       "    <tr>\n",
       "      <th>12</th>\n",
       "      <td>beta</td>\n",
       "      <td>0.000000</td>\n",
       "    </tr>\n",
       "  </tbody>\n",
       "</table>\n",
       "</div>"
      ],
      "text/plain": [
       "                                    column_name  feature_importance\n",
       "2   Temperature (K) at which test was performed            0.282380\n",
       "3                              Melting Point(K)            0.208920\n",
       "11                                            c            0.206270\n",
       "14                               Grain size(um)            0.097866\n",
       "4                                   Strain rate            0.093949\n",
       "1                                 Density(g/cc)            0.059202\n",
       "9                                             a            0.025419\n",
       "0                    Atomic/Molecular Weight(u)            0.019108\n",
       "10                                            b            0.003854\n",
       "5                        Heat capacity(KJ/kg.k)            0.001644\n",
       "6                                           BCC            0.000860\n",
       "7                                           FCC            0.000298\n",
       "13                                        gamma            0.000152\n",
       "8                                           HCP            0.000079\n",
       "12                                         beta            0.000000"
      ]
     },
     "execution_count": 232,
     "metadata": {},
     "output_type": "execute_result"
    }
   ],
   "source": [
    "feature_importance_for_ada_boost.sort_values(by='feature_importance', ascending=False)"
   ]
  },
  {
   "cell_type": "markdown",
   "id": "65df8f4d",
   "metadata": {},
   "source": [
    "### To remove a column from data, then check it's RMSE and MAE"
   ]
  },
  {
   "cell_type": "code",
   "execution_count": 233,
   "id": "781a6bab",
   "metadata": {},
   "outputs": [],
   "source": [
    "column_name = Elastic_data.columns\n",
    "dct = {\n",
    "    'column_removed' : [],\n",
    "    'rmse' : [],\n",
    "    'mae' : []\n",
    "}\n",
    "df = pd.DataFrame(dct)\n",
    "for i in range(0, X.shape[1]):\n",
    "    \n",
    "    # Removing the ith column, how much rmse and mae do we get?\n",
    "    Xnew_scaled = np.delete(X_scaled, i, 1)\n",
    "    \n",
    "    ada_boost = AdaBoostRegressor(random_state=17)\n",
    "    X_train_scaled, X_test_scaled, y_train, y_test = train_test_split(Xnew_scaled, y, test_size=0.04184, random_state=17)\n",
    "    ada_boost.fit(X=X_train_scaled, y=y_train)\n",
    "    ada_boost_predicted = ada_boost.predict(X_test_scaled)\n",
    "    df.loc[df.shape[0]] = [column_name[i], np.sqrt(mean_squared_error(ada_boost_predicted, y_test)), mean_absolute_error(ada_boost_predicted, y_test)]"
   ]
  },
  {
   "cell_type": "code",
   "execution_count": 234,
   "id": "de2039b6",
   "metadata": {},
   "outputs": [
    {
     "data": {
      "text/html": [
       "<div>\n",
       "<style scoped>\n",
       "    .dataframe tbody tr th:only-of-type {\n",
       "        vertical-align: middle;\n",
       "    }\n",
       "\n",
       "    .dataframe tbody tr th {\n",
       "        vertical-align: top;\n",
       "    }\n",
       "\n",
       "    .dataframe thead th {\n",
       "        text-align: right;\n",
       "    }\n",
       "</style>\n",
       "<table border=\"1\" class=\"dataframe\">\n",
       "  <thead>\n",
       "    <tr style=\"text-align: right;\">\n",
       "      <th></th>\n",
       "      <th>column_removed</th>\n",
       "      <th>rmse</th>\n",
       "      <th>mae</th>\n",
       "    </tr>\n",
       "  </thead>\n",
       "  <tbody>\n",
       "    <tr>\n",
       "      <th>0</th>\n",
       "      <td>Atomic/Molecular Weight(u)</td>\n",
       "      <td>5960.043783</td>\n",
       "      <td>3332.942758</td>\n",
       "    </tr>\n",
       "    <tr>\n",
       "      <th>12</th>\n",
       "      <td>beta</td>\n",
       "      <td>6261.351750</td>\n",
       "      <td>4213.637015</td>\n",
       "    </tr>\n",
       "    <tr>\n",
       "      <th>7</th>\n",
       "      <td>FCC</td>\n",
       "      <td>6493.246796</td>\n",
       "      <td>3854.893239</td>\n",
       "    </tr>\n",
       "    <tr>\n",
       "      <th>13</th>\n",
       "      <td>gamma</td>\n",
       "      <td>6577.953058</td>\n",
       "      <td>4202.655687</td>\n",
       "    </tr>\n",
       "    <tr>\n",
       "      <th>3</th>\n",
       "      <td>Melting Point(K)</td>\n",
       "      <td>6705.855105</td>\n",
       "      <td>4584.604166</td>\n",
       "    </tr>\n",
       "    <tr>\n",
       "      <th>5</th>\n",
       "      <td>Heat capacity(KJ/kg.k)</td>\n",
       "      <td>6856.383721</td>\n",
       "      <td>3870.062074</td>\n",
       "    </tr>\n",
       "    <tr>\n",
       "      <th>9</th>\n",
       "      <td>a</td>\n",
       "      <td>6856.383721</td>\n",
       "      <td>3870.062074</td>\n",
       "    </tr>\n",
       "    <tr>\n",
       "      <th>10</th>\n",
       "      <td>b</td>\n",
       "      <td>6856.383721</td>\n",
       "      <td>3870.062074</td>\n",
       "    </tr>\n",
       "    <tr>\n",
       "      <th>8</th>\n",
       "      <td>HCP</td>\n",
       "      <td>6856.583323</td>\n",
       "      <td>3903.614870</td>\n",
       "    </tr>\n",
       "    <tr>\n",
       "      <th>6</th>\n",
       "      <td>BCC</td>\n",
       "      <td>6876.692669</td>\n",
       "      <td>3936.423043</td>\n",
       "    </tr>\n",
       "    <tr>\n",
       "      <th>14</th>\n",
       "      <td>Grain size(um)</td>\n",
       "      <td>6921.098893</td>\n",
       "      <td>4950.515057</td>\n",
       "    </tr>\n",
       "    <tr>\n",
       "      <th>1</th>\n",
       "      <td>Density(g/cc)</td>\n",
       "      <td>7038.759640</td>\n",
       "      <td>4228.975000</td>\n",
       "    </tr>\n",
       "    <tr>\n",
       "      <th>11</th>\n",
       "      <td>c</td>\n",
       "      <td>7185.272678</td>\n",
       "      <td>4816.044612</td>\n",
       "    </tr>\n",
       "    <tr>\n",
       "      <th>4</th>\n",
       "      <td>Strain rate</td>\n",
       "      <td>7286.050208</td>\n",
       "      <td>4815.543256</td>\n",
       "    </tr>\n",
       "    <tr>\n",
       "      <th>2</th>\n",
       "      <td>Temperature (K) at which test was performed</td>\n",
       "      <td>9874.483563</td>\n",
       "      <td>5940.423107</td>\n",
       "    </tr>\n",
       "  </tbody>\n",
       "</table>\n",
       "</div>"
      ],
      "text/plain": [
       "                                 column_removed         rmse          mae\n",
       "0                    Atomic/Molecular Weight(u)  5960.043783  3332.942758\n",
       "12                                         beta  6261.351750  4213.637015\n",
       "7                                           FCC  6493.246796  3854.893239\n",
       "13                                        gamma  6577.953058  4202.655687\n",
       "3                              Melting Point(K)  6705.855105  4584.604166\n",
       "5                        Heat capacity(KJ/kg.k)  6856.383721  3870.062074\n",
       "9                                             a  6856.383721  3870.062074\n",
       "10                                            b  6856.383721  3870.062074\n",
       "8                                           HCP  6856.583323  3903.614870\n",
       "6                                           BCC  6876.692669  3936.423043\n",
       "14                               Grain size(um)  6921.098893  4950.515057\n",
       "1                                 Density(g/cc)  7038.759640  4228.975000\n",
       "11                                            c  7185.272678  4816.044612\n",
       "4                                   Strain rate  7286.050208  4815.543256\n",
       "2   Temperature (K) at which test was performed  9874.483563  5940.423107"
      ]
     },
     "execution_count": 234,
     "metadata": {},
     "output_type": "execute_result"
    }
   ],
   "source": [
    "df.sort_values(by=['rmse', 'mae'])"
   ]
  },
  {
   "cell_type": "markdown",
   "id": "5f7dedb8",
   "metadata": {},
   "source": [
    "### To remove some columns based on correlation coefficients"
   ]
  },
  {
   "cell_type": "code",
   "execution_count": 235,
   "id": "614634e9",
   "metadata": {},
   "outputs": [],
   "source": [
    "ada_boost = AdaBoostRegressor(random_state=17)\n",
    "ada_boost.fit(X_train_updated, y_train_updated)\n",
    "ada_boost_pred_updated = ada_boost.predict(X_test_updated)"
   ]
  },
  {
   "cell_type": "code",
   "execution_count": 236,
   "id": "e901ec1c",
   "metadata": {},
   "outputs": [
    {
     "data": {
      "text/plain": [
       "7476.743466537252"
      ]
     },
     "execution_count": 236,
     "metadata": {},
     "output_type": "execute_result"
    }
   ],
   "source": [
    "np.sqrt(mean_squared_error(y_test,ada_boost_pred_updated))"
   ]
  },
  {
   "cell_type": "code",
   "execution_count": 237,
   "id": "06b37479",
   "metadata": {},
   "outputs": [
    {
     "data": {
      "text/plain": [
       "4853.117459494672"
      ]
     },
     "execution_count": 237,
     "metadata": {},
     "output_type": "execute_result"
    }
   ],
   "source": [
    "mean_absolute_error(y_test, ada_boost_pred_updated)"
   ]
  },
  {
   "cell_type": "code",
   "execution_count": 238,
   "id": "ac67ba7e",
   "metadata": {},
   "outputs": [],
   "source": [
    "yield_df = pd.DataFrame({\n",
    "    'y_test_elastic_modulus' : y_test,\n",
    "    'y_predicted_elastic_modulus' : ada_boost_pred_updated\n",
    "})"
   ]
  },
  {
   "cell_type": "code",
   "execution_count": 239,
   "id": "34fd0b8f",
   "metadata": {},
   "outputs": [
    {
     "data": {
      "text/html": [
       "<div>\n",
       "<style scoped>\n",
       "    .dataframe tbody tr th:only-of-type {\n",
       "        vertical-align: middle;\n",
       "    }\n",
       "\n",
       "    .dataframe tbody tr th {\n",
       "        vertical-align: top;\n",
       "    }\n",
       "\n",
       "    .dataframe thead th {\n",
       "        text-align: right;\n",
       "    }\n",
       "</style>\n",
       "<table border=\"1\" class=\"dataframe\">\n",
       "  <thead>\n",
       "    <tr style=\"text-align: right;\">\n",
       "      <th></th>\n",
       "      <th>y_test_elastic_modulus</th>\n",
       "      <th>y_predicted_elastic_modulus</th>\n",
       "    </tr>\n",
       "  </thead>\n",
       "  <tbody>\n",
       "    <tr>\n",
       "      <th>0</th>\n",
       "      <td>39654.149</td>\n",
       "      <td>29911.869720</td>\n",
       "    </tr>\n",
       "    <tr>\n",
       "      <th>1</th>\n",
       "      <td>840.433</td>\n",
       "      <td>2485.785788</td>\n",
       "    </tr>\n",
       "    <tr>\n",
       "      <th>2</th>\n",
       "      <td>73053.117</td>\n",
       "      <td>52572.343000</td>\n",
       "    </tr>\n",
       "    <tr>\n",
       "      <th>3</th>\n",
       "      <td>4938.679</td>\n",
       "      <td>7827.802536</td>\n",
       "    </tr>\n",
       "    <tr>\n",
       "      <th>4</th>\n",
       "      <td>12400.150</td>\n",
       "      <td>9778.330204</td>\n",
       "    </tr>\n",
       "    <tr>\n",
       "      <th>5</th>\n",
       "      <td>5035.450</td>\n",
       "      <td>7938.554922</td>\n",
       "    </tr>\n",
       "    <tr>\n",
       "      <th>6</th>\n",
       "      <td>1017.566</td>\n",
       "      <td>2485.785788</td>\n",
       "    </tr>\n",
       "    <tr>\n",
       "      <th>7</th>\n",
       "      <td>845.366</td>\n",
       "      <td>2485.785788</td>\n",
       "    </tr>\n",
       "    <tr>\n",
       "      <th>8</th>\n",
       "      <td>24543.800</td>\n",
       "      <td>21634.805091</td>\n",
       "    </tr>\n",
       "    <tr>\n",
       "      <th>9</th>\n",
       "      <td>254.700</td>\n",
       "      <td>2485.785788</td>\n",
       "    </tr>\n",
       "  </tbody>\n",
       "</table>\n",
       "</div>"
      ],
      "text/plain": [
       "   y_test_elastic_modulus  y_predicted_elastic_modulus\n",
       "0               39654.149                 29911.869720\n",
       "1                 840.433                  2485.785788\n",
       "2               73053.117                 52572.343000\n",
       "3                4938.679                  7827.802536\n",
       "4               12400.150                  9778.330204\n",
       "5                5035.450                  7938.554922\n",
       "6                1017.566                  2485.785788\n",
       "7                 845.366                  2485.785788\n",
       "8               24543.800                 21634.805091\n",
       "9                 254.700                  2485.785788"
      ]
     },
     "execution_count": 239,
     "metadata": {},
     "output_type": "execute_result"
    }
   ],
   "source": [
    "yield_df"
   ]
  },
  {
   "cell_type": "code",
   "execution_count": 240,
   "id": "21a52fa5",
   "metadata": {},
   "outputs": [],
   "source": [
    "r2 = r2_score(y_test,ada_boost_pred_updated)"
   ]
  },
  {
   "cell_type": "code",
   "execution_count": 241,
   "id": "cc3cdd32",
   "metadata": {},
   "outputs": [
    {
     "data": {
      "text/plain": [
       "0.8898337366129383"
      ]
     },
     "execution_count": 241,
     "metadata": {},
     "output_type": "execute_result"
    }
   ],
   "source": [
    "r2"
   ]
  }
 ],
 "metadata": {
  "kernelspec": {
   "display_name": "Python 3 (ipykernel)",
   "language": "python",
   "name": "python3"
  },
  "language_info": {
   "codemirror_mode": {
    "name": "ipython",
    "version": 3
   },
   "file_extension": ".py",
   "mimetype": "text/x-python",
   "name": "python",
   "nbconvert_exporter": "python",
   "pygments_lexer": "ipython3",
   "version": "3.10.2"
  }
 },
 "nbformat": 4,
 "nbformat_minor": 5
}
